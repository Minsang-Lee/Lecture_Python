{
 "cells": [
  {
   "cell_type": "markdown",
   "metadata": {},
   "source": [
    "# 연습문제 풀이: 3월25일 "
   ]
  },
  {
   "cell_type": "markdown",
   "metadata": {},
   "source": [
    "### 문제 1)\n",
    "다음 수식을 파이썬 코드로 작성하시오.\n",
    "$$y = \\sqrt[2]{1+2x-3x^2+4x^3-5x^4}$$"
   ]
  },
  {
   "cell_type": "code",
   "execution_count": 24,
   "metadata": {},
   "outputs": [
    {
     "name": "stdout",
     "output_type": "stream",
     "text": [
      "x 값을 입력하세요: -1\n"
     ]
    }
   ],
   "source": [
    "x = float(input(\"x 값을 입력하세요: \"))"
   ]
  },
  {
   "cell_type": "code",
   "execution_count": 25,
   "metadata": {},
   "outputs": [
    {
     "name": "stdout",
     "output_type": "stream",
     "text": [
      "결과:  (2.2077634143293155e-16+3.605551275463989j)\n"
     ]
    }
   ],
   "source": [
    "y = (1 + 2*x -3*x**2 + 4*x**3 - 5*x**4)**(1/2)\n",
    "print(\"결과: \", y)"
   ]
  },
  {
   "cell_type": "markdown",
   "metadata": {},
   "source": [
    "### 문제 2)\n",
    "다음 수식을 한 줄로 표현된 파이썬 코드로 작성하시오.\n",
    "\\begin{equation}\n",
    "y = \\cfrac{5\\cfrac{3x^2+5x+2}{7w-\\cfrac{1}{z}}-z}{4\\cfrac{3+x}{7}}\n",
    "\\end{equation}"
   ]
  },
  {
   "cell_type": "code",
   "execution_count": 26,
   "metadata": {},
   "outputs": [
    {
     "data": {
      "text/plain": [
       "(712, 125, 859)"
      ]
     },
     "execution_count": 26,
     "metadata": {},
     "output_type": "execute_result"
    }
   ],
   "source": [
    "import random\n",
    "x = random.randint(1,1000)\n",
    "w = random.randint(1,1000)\n",
    "z = random.randint(1,1000)\n",
    "x, w, z"
   ]
  },
  {
   "cell_type": "code",
   "execution_count": 27,
   "metadata": {},
   "outputs": [
    {
     "name": "stdout",
     "output_type": "stream",
     "text": [
      "결과:  19.217776617255215\n"
     ]
    }
   ],
   "source": [
    "numerator = 5 * (3*x**2 + 5*x + 2) / (7*w - 1/z) - z # 분자\n",
    "denominator = 4 * (3 + x) / 7                        # 분모\n",
    "y = numerator / denominator\n",
    "print(\"결과: \", y)"
   ]
  },
  {
   "cell_type": "markdown",
   "metadata": {},
   "source": [
    "### 문제 3)\n",
    "철수는 100만원을 예금하고 연이율 5%의 복리로 10년간 예치하였다고 한다. 철수의 원리금은 매년 어떻게 변할지 구하시오."
   ]
  },
  {
   "cell_type": "code",
   "execution_count": 28,
   "metadata": {},
   "outputs": [
    {
     "name": "stdout",
     "output_type": "stream",
     "text": [
      "예치금:  100 만원\n",
      "1 년 후:  105 만원\n",
      "2 년 후:  110 만원\n",
      "3 년 후:  115 만원\n",
      "4 년 후:  120 만원\n",
      "5 년 후:  126 만원\n",
      "6 년 후:  132 만원\n",
      "7 년 후:  138 만원\n",
      "8 년 후:  144 만원\n",
      "9 년 후:  151 만원\n",
      "10 년 후:  158 만원\n"
     ]
    }
   ],
   "source": [
    "a = 100\n",
    "y = 0\n",
    "print('예치금: ', a, '만원')\n",
    "\n",
    "a = int(a * 1.05)\n",
    "y += 1\n",
    "print(y, '년 후: ', a, '만원')\n",
    "\n",
    "a = int(a * 1.05)\n",
    "y += 1\n",
    "print(y, '년 후: ', a, '만원')\n",
    "\n",
    "a = int(a * 1.05)\n",
    "y += 1\n",
    "print(y, '년 후: ', a, '만원')\n",
    "\n",
    "a = int(a * 1.05)\n",
    "y += 1\n",
    "print(y, '년 후: ', a, '만원')\n",
    "\n",
    "a = int(a * 1.05)\n",
    "y += 1\n",
    "print(y, '년 후: ', a, '만원')\n",
    "\n",
    "a = int(a * 1.05)\n",
    "y += 1\n",
    "print(y, '년 후: ', a, '만원')\n",
    "\n",
    "a = int(a * 1.05)\n",
    "y += 1\n",
    "print(y, '년 후: ', a, '만원')\n",
    "\n",
    "a = int(a * 1.05)\n",
    "y += 1\n",
    "print(y, '년 후: ', a, '만원')\n",
    "\n",
    "a = int(a * 1.05)\n",
    "y += 1\n",
    "print(y, '년 후: ', a, '만원')\n",
    "\n",
    "a = int(a * 1.05)\n",
    "y += 1\n",
    "print(y, '년 후: ', a, '만원')"
   ]
  },
  {
   "cell_type": "markdown",
   "metadata": {},
   "source": [
    "### 문제 4)\n",
    "임의의 네 자리 정수를 입력받아 각 자리수값의 총합을 계산하는 코드를 작성하시오. (예: 6753 -> 21 출력)"
   ]
  },
  {
   "cell_type": "code",
   "execution_count": 29,
   "metadata": {},
   "outputs": [
    {
     "name": "stdout",
     "output_type": "stream",
     "text": [
      "6753\n"
     ]
    }
   ],
   "source": [
    "number = int(input())"
   ]
  },
  {
   "cell_type": "code",
   "execution_count": 30,
   "metadata": {},
   "outputs": [
    {
     "name": "stdout",
     "output_type": "stream",
     "text": [
      "21\n"
     ]
    }
   ],
   "source": [
    "digit1 = number // 1000 # 첫번째 자리수\n",
    "number = number % 1000  # 이하 세자리 저장\n",
    "\n",
    "digit2 = number // 100  # 두번째 자리수\n",
    "number = number % 100   # 이하 두자리 저장\n",
    "\n",
    "digit3 = number // 10   # 세번째 자리수\n",
    "number = number % 10    # 이하 한자리 저장\n",
    "\n",
    "digit4 = number  // 1   # 네번째 자리수\n",
    "\n",
    "print(digit1 + digit2 + digit3 + digit4)"
   ]
  },
  {
   "cell_type": "markdown",
   "metadata": {},
   "source": [
    "# End"
   ]
  }
 ],
 "metadata": {
  "kernelspec": {
   "display_name": "Python 3",
   "language": "python",
   "name": "python3"
  },
  "language_info": {
   "codemirror_mode": {
    "name": "ipython",
    "version": 3
   },
   "file_extension": ".py",
   "mimetype": "text/x-python",
   "name": "python",
   "nbconvert_exporter": "python",
   "pygments_lexer": "ipython3",
   "version": "3.7.6"
  }
 },
 "nbformat": 4,
 "nbformat_minor": 2
}
