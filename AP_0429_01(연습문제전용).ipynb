{
 "cells": [
  {
   "cell_type": "markdown",
   "metadata": {},
   "source": [
    "### Packing & Unpacking Arguments: *args"
   ]
  },
  {
   "cell_type": "markdown",
   "metadata": {},
   "source": [
    "다음과 같이 입력한 인자를 제곱한 후 모두 합하는 함수 `ssum()`를 만든다고 가정하자. 이때 인자의 갯수는 1개 이상이다.  \n",
    "- ssum(2) &rarr; $2^2$\n",
    "- ssum(2,3) &rarr; $2^2+3^2$\n",
    "- ssum(2,3,4) &rarr; $2^2+3^2+4^2$\n",
    "- ssum(2,3,4,5) &rarr; $2^2+3^2+4^2+5^2$  \n",
    "**...**"
   ]
  },
  {
   "cell_type": "markdown",
   "metadata": {},
   "source": [
    "일단, 아래와 같이 함수를 정의해보자."
   ]
  },
  {
   "cell_type": "code",
   "execution_count": null,
   "metadata": {},
   "outputs": [],
   "source": [
    "def ssum(a,b,c,d):\n",
    "    return a**2 + b**2 + c**2 + d**2"
   ]
  },
  {
   "cell_type": "code",
   "execution_count": null,
   "metadata": {},
   "outputs": [],
   "source": [
    "ssum(2,3,4,5)"
   ]
  },
  {
   "cell_type": "markdown",
   "metadata": {},
   "source": [
    "함수 호출 시 인자가 4개일 때는 잘 돌아간다. 하지만,"
   ]
  },
  {
   "cell_type": "code",
   "execution_count": null,
   "metadata": {},
   "outputs": [],
   "source": [
    "ssum(2)"
   ]
  },
  {
   "cell_type": "code",
   "execution_count": null,
   "metadata": {},
   "outputs": [],
   "source": [
    "ssum(2,3)"
   ]
  },
  {
   "cell_type": "markdown",
   "metadata": {},
   "source": [
    "인자가 4개가 아닐 때는 모두 TypeError가 발생한다.  \n",
    "=> 가변인자(variadic parameters)를 사용하고자 할 때 이를 나타낼 수 있는 문법이 필요한데, 이것이 인자의 `packing`과 `unpacking`이다."
   ]
  },
  {
   "cell_type": "markdown",
   "metadata": {},
   "source": [
    "함수를 정의할 때 가변적인 인자를 `*args`로 나타내면 된다. (여기서 args라는 변수명은 얼마든지 바꿀 수 있지만 그대로 사용하는 것이 관습)"
   ]
  },
  {
   "cell_type": "code",
   "execution_count": null,
   "metadata": {},
   "outputs": [],
   "source": [
    "def ssum(*args):\n",
    "    return sum([i**2 for i in args])"
   ]
  },
  {
   "cell_type": "code",
   "execution_count": null,
   "metadata": {},
   "outputs": [],
   "source": [
    "ssum(2,3,4,5)"
   ]
  },
  {
   "cell_type": "code",
   "execution_count": null,
   "metadata": {},
   "outputs": [],
   "source": [
    "ssum(2,3,4), ssum(2,3), ssum(2)"
   ]
  },
  {
   "cell_type": "markdown",
   "metadata": {},
   "source": [
    "함수 내에서 `args`는 packing을 의미한다. (즉, 넘어오는 인자값에 튜플 괄호를 씌운다고 생각하면 됨)"
   ]
  },
  {
   "cell_type": "code",
   "execution_count": null,
   "metadata": {},
   "outputs": [],
   "source": [
    "def ssum(*args):\n",
    "    print(args)\n",
    "    return sum([i**2 for i in args])\n",
    "\n",
    "ssum(2,3,4,5)"
   ]
  },
  {
   "cell_type": "markdown",
   "metadata": {},
   "source": [
    "넘어온 모든 인자값를 더한 후 그 값을 제곱하여 반환하도록 `ssum()`을 아래와 같이 빠꾼다고 하자."
   ]
  },
  {
   "cell_type": "code",
   "execution_count": null,
   "metadata": {},
   "outputs": [],
   "source": [
    "def ssum(*args):\n",
    "    return sum([*args])**2"
   ]
  },
  {
   "cell_type": "code",
   "execution_count": null,
   "metadata": {},
   "outputs": [],
   "source": [
    "ssum(2,3,4,5)"
   ]
  },
  {
   "cell_type": "markdown",
   "metadata": {},
   "source": [
    "이때, `*args`는 unpacking을 나타낸다. (즉, 튜플의 괄호를 없앤다고 생각하면 됨)"
   ]
  },
  {
   "cell_type": "markdown",
   "metadata": {},
   "source": [
    "아래와 같이 `*args`는 함수 밖에서도 언제든 사용할 수 있다."
   ]
  },
  {
   "cell_type": "code",
   "execution_count": null,
   "metadata": {},
   "outputs": [],
   "source": [
    "args = (2,3,4)\n",
    "ssum(*args)"
   ]
  },
  {
   "cell_type": "markdown",
   "metadata": {},
   "source": [
    "<font color = \"blue\"><p>\n",
    "#### Ex) `**kwargs`라는 또 다른 packing/unpacking 표현은 무엇을 의미하는가? 다음 함수를 실행한 결과를 가지고 설명하라.  \n",
    "*Hint: https://mingrammer.com/understanding-the-asterisk-of-python/ *"
   ]
  },
  {
   "cell_type": "code",
   "execution_count": null,
   "metadata": {},
   "outputs": [],
   "source": [
    "def g(x, **kwargs) :\n",
    "    return x, kwargs"
   ]
  },
  {
   "cell_type": "code",
   "execution_count": null,
   "metadata": {},
   "outputs": [],
   "source": [
    "# ...설명...\n"
   ]
  },
  {
   "cell_type": "markdown",
   "metadata": {},
   "source": [
    "<font color = \"#CC3D3D\"><p>\n",
    "# Date/time & String"
   ]
  },
  {
   "cell_type": "markdown",
   "metadata": {},
   "source": [
    "# 날짜와 시간"
   ]
  },
  {
   "cell_type": "markdown",
   "metadata": {},
   "source": [
    "- 날짜와 시간은 파이썬 기본 자료형에는 포함되어 있지 않지만, 데이터 차리에 있어 빠질 수 없는 중요한 자료형이다. \n",
    "- 날짜를 처리할 땐 [`arrow`](https://arrow.readthedocs.io/en/latest/)라는 라이브러리를 주로 사용한다. (파이썬 표준 라이브러리인 `datetime`을 대체)"
   ]
  },
  {
   "cell_type": "markdown",
   "metadata": {},
   "source": [
    "### 설치 및 모듈 가져오기"
   ]
  },
  {
   "cell_type": "code",
   "execution_count": null,
   "metadata": {},
   "outputs": [],
   "source": [
    "#!pip install arrow"
   ]
  },
  {
   "cell_type": "code",
   "execution_count": null,
   "metadata": {},
   "outputs": [],
   "source": [
    "import arrow"
   ]
  },
  {
   "cell_type": "markdown",
   "metadata": {},
   "source": [
    "### now\n",
    "`arrow.now()`를 이용하여 현재시간을 알 수 있다."
   ]
  },
  {
   "cell_type": "code",
   "execution_count": null,
   "metadata": {},
   "outputs": [],
   "source": [
    "arrow.now()"
   ]
  },
  {
   "cell_type": "markdown",
   "metadata": {},
   "source": [
    "다른 장소의 현지 시간을 구할수도 있다."
   ]
  },
  {
   "cell_type": "code",
   "execution_count": null,
   "metadata": {},
   "outputs": [],
   "source": [
    "arrow.now('US/Pacific')  # 미태평양시간의 현재시간을 구한다."
   ]
  },
  {
   "cell_type": "markdown",
   "metadata": {},
   "source": [
    "### get\n",
    "날짜를 arrow 형태로 받고 싶다면, `arrow.get()`을 사용하면 된다."
   ]
  },
  {
   "cell_type": "code",
   "execution_count": null,
   "metadata": {},
   "outputs": [],
   "source": [
    "arrow.get('2019-04-10')  # 2019년 4월 10일을 arrow 형태로 가져온다."
   ]
  },
  {
   "cell_type": "markdown",
   "metadata": {},
   "source": [
    "시간 단위까지 넣어주고 싶다면 날짜 뒤에 넘겨주면 된다."
   ]
  },
  {
   "cell_type": "code",
   "execution_count": null,
   "metadata": {},
   "outputs": [],
   "source": [
    "date = arrow.get('2019-04-10 15:23') # 2019년 4월 10일 오후 3시 23분을 넘겨준다.\n",
    "date"
   ]
  },
  {
   "cell_type": "markdown",
   "metadata": {},
   "source": [
    "문자열을 사용하지 않고도 날짜를 지정할 수 있다."
   ]
  },
  {
   "cell_type": "code",
   "execution_count": null,
   "metadata": {},
   "outputs": [],
   "source": [
    "date = arrow.get(2019, 4, 10)\n",
    "date"
   ]
  },
  {
   "cell_type": "markdown",
   "metadata": {},
   "source": [
    "날짜가 어떻게 구성되어있는지 직접 지정할 수도 있다."
   ]
  },
  {
   "cell_type": "code",
   "execution_count": null,
   "metadata": {},
   "outputs": [],
   "source": [
    "arrow.get('20190410', 'YYYYMMDD')  # 연도 네 자리, 월 두자리, 일 두자리로 인식하게 지정"
   ]
  },
  {
   "cell_type": "code",
   "execution_count": null,
   "metadata": {},
   "outputs": [],
   "source": [
    "arrow.get('04/10/19', 'MM/DD/YY')"
   ]
  },
  {
   "cell_type": "markdown",
   "metadata": {},
   "source": [
    "### format\n",
    "날짜의 출력 형식을 지정할 수 있게 해준다.\n",
    "- `Y`는 연도,\n",
    "- `M`는 월,\n",
    "- `D`는 일,\n",
    "- `h`는 시,\n",
    "- `m`은 분,\n",
    "- `s`는 초를 뜻한다.\n",
    "<img align='left' src='http://drive.google.com/uc?export=view&id=1ophVqbfhPiIgux_-4YUqeUoyJdtWytbl'>"
   ]
  },
  {
   "cell_type": "markdown",
   "metadata": {},
   "source": [
    "예를 들어, 날짜를 '년/월' 형식으로 나타내고 싶다면 format 에 'YY/MM'을 넘겨준다."
   ]
  },
  {
   "cell_type": "code",
   "execution_count": null,
   "metadata": {},
   "outputs": [],
   "source": [
    "date.format('YY/MM')"
   ]
  },
  {
   "cell_type": "code",
   "execution_count": null,
   "metadata": {},
   "outputs": [],
   "source": [
    "date.format('YYYY.MM')"
   ]
  },
  {
   "cell_type": "code",
   "execution_count": null,
   "metadata": {},
   "outputs": [],
   "source": [
    "date.format('YYYY.MMMM')  # M 4개를 사용하면 숫자 대신 영어로 월이 출력된다."
   ]
  },
  {
   "cell_type": "code",
   "execution_count": null,
   "metadata": {},
   "outputs": [],
   "source": [
    "date.format('YY년 MM월 DD일')"
   ]
  },
  {
   "cell_type": "code",
   "execution_count": null,
   "metadata": {},
   "outputs": [],
   "source": [
    "date.format('dddd')  # d 4개를 사용하면 숫자 대신 영어로 요일이 출력된다."
   ]
  },
  {
   "cell_type": "code",
   "execution_count": null,
   "metadata": {},
   "outputs": [],
   "source": [
    "date.format('dddd', locale='ko')  # locale 인자를 'kr'로 지정하면 우리말로 요일이 출력된다."
   ]
  },
  {
   "cell_type": "markdown",
   "metadata": {},
   "source": [
    "### shift / replace\n",
    "해당 날짜를 다른 날짜로 옮길 수 있다."
   ]
  },
  {
   "cell_type": "code",
   "execution_count": null,
   "metadata": {},
   "outputs": [],
   "source": [
    "three_weeks_later = date.shift(weeks=3)  # date 를 3 주후의 시간으로 옮긴다.\n",
    "three_weeks_later"
   ]
  },
  {
   "cell_type": "code",
   "execution_count": null,
   "metadata": {},
   "outputs": [],
   "source": [
    "three_weeks_before = date.shift(weeks=-3) # date 를 3주 전의 시간으로 옮긴다.\n",
    "three_weeks_before"
   ]
  },
  {
   "cell_type": "markdown",
   "metadata": {},
   "source": [
    "주 단위 외에도 년, 일, 시간 단위 까지 이동을 할 수 있다."
   ]
  },
  {
   "cell_type": "code",
   "execution_count": null,
   "metadata": {},
   "outputs": [],
   "source": [
    "date.shift(days=3)  # date 를 3일 후의 시간으로 옮긴다."
   ]
  },
  {
   "cell_type": "markdown",
   "metadata": {},
   "source": [
    "해당 일로 지정할 수 있다."
   ]
  },
  {
   "cell_type": "code",
   "execution_count": null,
   "metadata": {},
   "outputs": [],
   "source": [
    "date.replace(day=3) # date의 날짜를 3일로 옮긴다."
   ]
  },
  {
   "cell_type": "markdown",
   "metadata": {},
   "source": [
    "### weekday\n",
    "- 해당 날짜가 무슨 요일이였는지도 알 수 있다.\n",
    "- `0`이 월요일이고, `6`은 일요일이다."
   ]
  },
  {
   "cell_type": "code",
   "execution_count": null,
   "metadata": {},
   "outputs": [],
   "source": [
    "date.weekday()  # date 변수의 날짜가 무슨 요일이였는지 알아보자"
   ]
  },
  {
   "cell_type": "markdown",
   "metadata": {},
   "source": [
    "### 날짜 빼기\n",
    "arrow 에서 `-`을 사용해 날짜에서 날짜를 뺄 수 있다."
   ]
  },
  {
   "cell_type": "code",
   "execution_count": null,
   "metadata": {},
   "outputs": [],
   "source": [
    "date1 = arrow.get('2019-11-12')  # date1을 11월 12일로 지정한다.\n",
    "date2 = arrow.get('2019-12-01')  # date2를 12월 1일로 지정한다."
   ]
  },
  {
   "cell_type": "code",
   "execution_count": null,
   "metadata": {},
   "outputs": [],
   "source": [
    "difference = date2 - date1  # date2 에서 date1 을 빼준다."
   ]
  },
  {
   "cell_type": "code",
   "execution_count": null,
   "metadata": {},
   "outputs": [],
   "source": [
    "difference.days  # difference.days 로 총 며칠인지 확인한다."
   ]
  },
  {
   "cell_type": "markdown",
   "metadata": {},
   "source": [
    "### humanize"
   ]
  },
  {
   "cell_type": "code",
   "execution_count": null,
   "metadata": {},
   "outputs": [],
   "source": [
    "date = arrow.now().shift(days=2) "
   ]
  },
  {
   "cell_type": "code",
   "execution_count": null,
   "metadata": {},
   "outputs": [],
   "source": [
    "date.humanize()"
   ]
  },
  {
   "cell_type": "code",
   "execution_count": null,
   "metadata": {},
   "outputs": [],
   "source": [
    "date.humanize(locale='ko')"
   ]
  },
  {
   "cell_type": "markdown",
   "metadata": {},
   "source": [
    "<font color = \"blue\">\n",
    "#### Ex) 날짜를 나타내는 문자열 리스트 dates로부터 각 날짜에 상응하는 요일을 출력하는 코드이다. 이 코드를 1) list comprehension, 2) map 함수를 이용하여 다시 작성하시오."
   ]
  },
  {
   "cell_type": "code",
   "execution_count": null,
   "metadata": {},
   "outputs": [],
   "source": [
    "dates = ['1945/8/15', '1946/9/1', '1960/4/19', '1980/5/18', '2013/3/1']"
   ]
  },
  {
   "cell_type": "code",
   "execution_count": null,
   "metadata": {},
   "outputs": [],
   "source": [
    "for date in dates:\n",
    "    print(arrow.get(date).format('dddd', locale='ko'))"
   ]
  },
  {
   "cell_type": "code",
   "execution_count": null,
   "metadata": {},
   "outputs": [],
   "source": [
    "# list comprehension 사용\n",
    "# ..."
   ]
  },
  {
   "cell_type": "code",
   "execution_count": null,
   "metadata": {},
   "outputs": [],
   "source": [
    "# map과 lambda 함수 사용\n",
    "# ..."
   ]
  },
  {
   "cell_type": "markdown",
   "metadata": {},
   "source": [
    "# 문자열 관련 메소드"
   ]
  },
  {
   "cell_type": "markdown",
   "metadata": {},
   "source": [
    "### format\n",
    "문자열에 원하는 값을 대입할 수 있게 해준다."
   ]
  },
  {
   "cell_type": "markdown",
   "metadata": {},
   "source": [
    "문자열 안에 `{ }`를 넣어준 후, `format()`을 부르고 안에 원하는 값을 넣는다."
   ]
  },
  {
   "cell_type": "code",
   "execution_count": null,
   "metadata": {},
   "outputs": [],
   "source": [
    "'제 키는 {}이며, 몸무게는 {}입니다'.format('180 센치', '비밀')"
   ]
  },
  {
   "cell_type": "markdown",
   "metadata": {},
   "source": [
    "숫자 자리수나 소숫점 자리수를 지정할 수 있다."
   ]
  },
  {
   "cell_type": "code",
   "execution_count": null,
   "metadata": {},
   "outputs": [],
   "source": [
    "'제 키는 {:2d}cm이며, 몸무게는 {:.1f}kg, 체지방률은 {:2.2%}입니다'.format(180, 88.33, .35)"
   ]
  },
  {
   "cell_type": "markdown",
   "metadata": {},
   "source": [
    "### f-String\n",
    "파이썬 3.6버전 이상에서 지원하는 새로운 문자열 포매팅 방법:  \n",
    "https://realpython.com/python-f-strings/"
   ]
  },
  {
   "cell_type": "code",
   "execution_count": null,
   "metadata": {},
   "outputs": [],
   "source": [
    "name = '홍길동'\n",
    "age = 30\n",
    "f'나의 이름은 {name}입니다. 나이는 {age+1}입니다.'"
   ]
  },
  {
   "cell_type": "markdown",
   "metadata": {},
   "source": [
    "### join\n",
    "문자열을 특정 글자로 합쳐준다."
   ]
  },
  {
   "cell_type": "code",
   "execution_count": null,
   "metadata": {},
   "outputs": [],
   "source": [
    "','.join('abcd')  # 'abcd' 사이에 쉼표를 추가"
   ]
  },
  {
   "cell_type": "markdown",
   "metadata": {},
   "source": [
    "### split\n",
    "특정 글자로 문자열을 나눈다."
   ]
  },
  {
   "cell_type": "code",
   "execution_count": null,
   "metadata": {},
   "outputs": [],
   "source": [
    "'사과,오렌지,포도,딸기'.split(',')  # 쉼표를 기준으로 문자열 분리"
   ]
  },
  {
   "cell_type": "markdown",
   "metadata": {},
   "source": [
    "### strip\n",
    "문자열 앞뒤의 공백을 지운다."
   ]
  },
  {
   "cell_type": "code",
   "execution_count": null,
   "metadata": {},
   "outputs": [],
   "source": [
    "' 안녕하세요 '.strip()"
   ]
  },
  {
   "cell_type": "code",
   "execution_count": null,
   "metadata": {},
   "outputs": [],
   "source": [
    "# 단, 문자열 내부의 빈 공백은 지우지 않는다.\n",
    "' 안녕하 세요 '.strip()"
   ]
  },
  {
   "cell_type": "markdown",
   "metadata": {},
   "source": [
    "### replace\n",
    "특정 글자를 다른 글자로 바꿔준다"
   ]
  },
  {
   "cell_type": "code",
   "execution_count": null,
   "metadata": {},
   "outputs": [],
   "source": [
    "'안녕하 세요'.replace(' ', '')  # 문자열 중간의 띄어쓰기 교체"
   ]
  },
  {
   "cell_type": "code",
   "execution_count": null,
   "metadata": {},
   "outputs": [],
   "source": [
    "'파이쏜은 참 쉽습니다?'.replace('쏜', '썬')  # '쏜'을 '썬'으로 교체"
   ]
  },
  {
   "cell_type": "markdown",
   "metadata": {},
   "source": [
    "### in, not in"
   ]
  },
  {
   "cell_type": "markdown",
   "metadata": {},
   "source": [
    "`in`을 사용해 문자열 안에 해당 글자가 포함되었는지 확인할 수 있다."
   ]
  },
  {
   "cell_type": "code",
   "execution_count": null,
   "metadata": {},
   "outputs": [],
   "source": [
    "'사과' in '오늘의 메뉴는 밥, 미역국, 사과입니다.'  # '사과'가 문자열에 포함되었는지 확인"
   ]
  },
  {
   "cell_type": "markdown",
   "metadata": {},
   "source": [
    "`not in`을 사용해 반대로 해당 글자가 없는지 확인할 수 있다."
   ]
  },
  {
   "cell_type": "code",
   "execution_count": null,
   "metadata": {},
   "outputs": [],
   "source": [
    "'사과' not in '오늘의 메뉴는 밥, 미역국, 사과입니다.'  # '사과'가 문자열에 없는지 확인"
   ]
  },
  {
   "cell_type": "markdown",
   "metadata": {},
   "source": [
    "### count, find, index"
   ]
  },
  {
   "cell_type": "markdown",
   "metadata": {},
   "source": [
    "`count()`는 해당 글자가 문자열에서 몇 번 쓰였는지 확인해준다."
   ]
  },
  {
   "cell_type": "code",
   "execution_count": null,
   "metadata": {},
   "outputs": [],
   "source": [
    "text = 'hello world' \n",
    "text.count('l')  # 알파벳 'l' 이 몇번 쓰였는지 확인"
   ]
  },
  {
   "cell_type": "markdown",
   "metadata": {},
   "source": [
    "`index()`는 해당 글자의 위치를 확인해준다."
   ]
  },
  {
   "cell_type": "code",
   "execution_count": null,
   "metadata": {},
   "outputs": [],
   "source": [
    "text.index('w')  # 'w'의 위치 확인"
   ]
  },
  {
   "cell_type": "markdown",
   "metadata": {},
   "source": [
    "### capitalize, lower, upper"
   ]
  },
  {
   "cell_type": "markdown",
   "metadata": {},
   "source": [
    "`capitalize()`는 문장의 첫 글자를 대문자로 바꾼다."
   ]
  },
  {
   "cell_type": "code",
   "execution_count": null,
   "metadata": {},
   "outputs": [],
   "source": [
    "'hello world'.capitalize()"
   ]
  },
  {
   "cell_type": "markdown",
   "metadata": {},
   "source": [
    "`lower()`는 모든 글자를 소문자로 바꾼다."
   ]
  },
  {
   "cell_type": "code",
   "execution_count": null,
   "metadata": {},
   "outputs": [],
   "source": [
    "'HeLLO woRlD'.lower()"
   ]
  },
  {
   "cell_type": "markdown",
   "metadata": {},
   "source": [
    "`upper()`는 모든 글자를 대문자로 바꾼다."
   ]
  },
  {
   "cell_type": "code",
   "execution_count": null,
   "metadata": {},
   "outputs": [],
   "source": [
    "'mBc, sBs, Kbs'.upper()"
   ]
  },
  {
   "cell_type": "markdown",
   "metadata": {},
   "source": [
    "### startswith, endswith"
   ]
  },
  {
   "cell_type": "markdown",
   "metadata": {},
   "source": [
    "`startswith()`는 문자열이 해당 글자로 시작하는지 확인해준다."
   ]
  },
  {
   "cell_type": "code",
   "execution_count": null,
   "metadata": {},
   "outputs": [],
   "source": [
    "'보고서 작성 중'.startswith('보고서') # 문자열이 '보고서'로 시작하는지 확인"
   ]
  },
  {
   "cell_type": "markdown",
   "metadata": {},
   "source": [
    "`endswith()`는 문자열이 해당 글자로 끝나는지 확인해준다."
   ]
  },
  {
   "cell_type": "code",
   "execution_count": null,
   "metadata": {},
   "outputs": [],
   "source": [
    "'보고서 작성 중?'.endswith('?') # 문자열이 '완료'로 끝나는지 확인"
   ]
  },
  {
   "cell_type": "markdown",
   "metadata": {},
   "source": [
    "# 연습문제"
   ]
  },
  {
   "cell_type": "markdown",
   "metadata": {},
   "source": [
    "### 문제 21)\n",
    "년, 월, 일을 입력받아 요일(한글명)을 출력하는 프로그램을 작성하시오."
   ]
  },
  {
   "cell_type": "code",
   "execution_count": 2,
   "metadata": {},
   "outputs": [
    {
     "name": "stdout",
     "output_type": "stream",
     "text": [
      "연도: 2014\n",
      "월: 5\n",
      "일: 31\n"
     ]
    }
   ],
   "source": [
    "year = input('연도: ')\n",
    "month = input('월: ')\n",
    "day = input('일: ')"
   ]
  },
  {
   "cell_type": "code",
   "execution_count": 3,
   "metadata": {},
   "outputs": [
    {
     "ename": "AttributeError",
     "evalue": "module 'arrow' has no attribute 'weekday'",
     "output_type": "error",
     "traceback": [
      "\u001b[1;31m---------------------------------------------------------------------------\u001b[0m",
      "\u001b[1;31mAttributeError\u001b[0m                            Traceback (most recent call last)",
      "\u001b[1;32m<ipython-input-3-871e64f7256c>\u001b[0m in \u001b[0;36m<module>\u001b[1;34m\u001b[0m\n\u001b[0;32m      2\u001b[0m \u001b[1;32mimport\u001b[0m \u001b[0marrow\u001b[0m\u001b[1;33m\u001b[0m\u001b[1;33m\u001b[0m\u001b[0m\n\u001b[0;32m      3\u001b[0m \u001b[0mweekday\u001b[0m \u001b[1;33m=\u001b[0m \u001b[0myear\u001b[0m\u001b[1;33m+\u001b[0m\u001b[0mmonth\u001b[0m\u001b[1;33m+\u001b[0m\u001b[0mday\u001b[0m\u001b[1;33m\u001b[0m\u001b[1;33m\u001b[0m\u001b[0m\n\u001b[1;32m----> 4\u001b[1;33m \u001b[0marrow\u001b[0m\u001b[1;33m.\u001b[0m\u001b[0mweekday\u001b[0m\u001b[1;33m(\u001b[0m\u001b[0mweekday\u001b[0m\u001b[1;33m)\u001b[0m\u001b[1;33m\u001b[0m\u001b[1;33m\u001b[0m\u001b[0m\n\u001b[0m",
      "\u001b[1;31mAttributeError\u001b[0m: module 'arrow' has no attribute 'weekday'"
     ]
    }
   ],
   "source": [
    "# ...\n",
    "limport arrow\n",
    "weekday = year+month+day\n",
    "arrow.format(weekday)"
   ]
  },
  {
   "cell_type": "markdown",
   "metadata": {},
   "source": [
    "### 문제 22)\n",
    "본인에게 있어 중요한 날 또는 기념일을 입력하면 현재 날짜 기준으로 몇일 남았는지 또는 몇일 지났는지 또는 오늘인지를 친절하게 알려주는 프로그램을 만드시오.\n",
    "```python\n",
    ">>> 기념일을 입력하세요. (형식 YYYY-MM-DD): 2019-05-02\n",
    "23일 뒤입니다.\n",
    "```"
   ]
  },
  {
   "cell_type": "code",
   "execution_count": null,
   "metadata": {},
   "outputs": [],
   "source": [
    "date = input('기념일을 입력하세요. (형식 YYYY-MM-DD): ')"
   ]
  },
  {
   "cell_type": "code",
   "execution_count": null,
   "metadata": {},
   "outputs": [],
   "source": [
    "days = (arrow.get(date) - arrow.now()).days\n",
    "\n",
    "# ..."
   ]
  },
  {
   "cell_type": "markdown",
   "metadata": {},
   "source": [
    "### 문제 23)\n",
    "아래 코드를 실행하면 2019년도 4월 달력이 출력된다.\n",
    "```python\n",
    "print('{}년 {}월'.format(arrow.now().year, arrow.now().month))\n",
    "print('일 월 화 수 목 금 토')\n",
    "for i in range(1,31):\n",
    "    print('{:2}'.format(i), end=' ')       # 일자를 2자리로 맞추어 출력하고, 일자와 일자 사이에 공백 하나를 둔다.\n",
    "    if arrow.get(2019,4,i).weekday() == 5: # 토요일이면,\n",
    "        print()                            # 다음 라인으로 넘긴다.\n",
    "```  \n",
    "```\n",
    "2019년 4월\n",
    "일 월 화 수 목 금 토\n",
    " 1  2  3  4  5  6 \n",
    " 7  8  9 10 11 12 13 \n",
    "14 15 16 17 18 19 20 \n",
    "21 22 23 24 25 26 27 \n",
    "28 29 30\n",
    "```\n",
    "하지만 이 코드에는 오류가 있다. 즉, 4월1일부터 6일까지 하루씩 앞당겨 잘못된 요일을 출력한다는 점(4월1일은 월요일)이다.  \n",
    "어떻게 수정하면 제대로 된 달력을 출력할 수 있을까? "
   ]
  },
  {
   "cell_type": "code",
   "execution_count": null,
   "metadata": {},
   "outputs": [],
   "source": [
    "print('{}년 {}월'.format(arrow.now().year, arrow.now().month))\n",
    "print('일 월 화 수 목 금 토')\n",
    "#\n",
    "# Insert Here\n",
    "#\n",
    "for i in range(1,31):\n",
    "    print('{:2}'.format(i), end=' ')       # 일자를 2자리로 맞추어 출력하고, 일자와 일자 사이에 공백 하나를 둔다.\n",
    "    if arrow.get(2019,4,i).weekday() == 5: # 토요일이면,\n",
    "        print()                            # 다음 라인으로 넘긴다."
   ]
  },
  {
   "cell_type": "markdown",
   "metadata": {},
   "source": [
    "### 문제 24)\n",
    "<img src=\"http://archivenew.vop.co.kr/images/9c419c2c579399e3db2fab3e8fdc473f/2011-11/09065222_02c0301_010.gif\" width=500 height=350><br>\n",
    "주민등록번호를 입력하면 성별과 나이(우리나라 나이)를 출력하는 프로그램을 작성하시오. *Hint: 문자열 인덱싱은 리스트 인덱싱과 동일함*\n",
    "```python\n",
    ">>> 주민번호를 입력하세요: 990108-1234567\n",
    "성별: 남\n",
    "나이: 20    \n",
    "```"
   ]
  },
  {
   "cell_type": "code",
   "execution_count": null,
   "metadata": {},
   "outputs": [],
   "source": [
    "ssn = input('주민번호를 입력하세요: ')"
   ]
  },
  {
   "cell_type": "code",
   "execution_count": null,
   "metadata": {},
   "outputs": [],
   "source": [
    "# ssn[:2] => 출생연도\n",
    "# ssn[7] => 성별코드\n",
    "# 개략적인 logic은 다음과 같음:\n",
    "# if 성별코드 == '1' 또는 '3' then '남자' else '여자'\n",
    "# if 성별코드 == '1' 또는 '3' then 2020 - (1900+int(출생연도)) + 1 else 2020 - (2000+int(출생연도)) + 1"
   ]
  },
  {
   "cell_type": "markdown",
   "metadata": {},
   "source": [
    "### 문제 25)"
   ]
  },
  {
   "cell_type": "markdown",
   "metadata": {},
   "source": [
    "현재까지의 강의 전반에 대해 총평을 하고, 개선 및 건의 사항이 있으면 적극 말하시오."
   ]
  },
  {
   "cell_type": "markdown",
   "metadata": {},
   "source": [
    "<font color = \"#CC3D3D\"><p>\n",
    "# End"
   ]
  }
 ],
 "metadata": {
  "kernelspec": {
   "display_name": "Python 3",
   "language": "python",
   "name": "python3"
  },
  "language_info": {
   "codemirror_mode": {
    "name": "ipython",
    "version": 3
   },
   "file_extension": ".py",
   "mimetype": "text/x-python",
   "name": "python",
   "nbconvert_exporter": "python",
   "pygments_lexer": "ipython3",
   "version": "3.7.6"
  }
 },
 "nbformat": 4,
 "nbformat_minor": 2
}
