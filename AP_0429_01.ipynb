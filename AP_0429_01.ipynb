{
 "cells": [
  {
   "cell_type": "markdown",
   "metadata": {},
   "source": [
    "### Packing & Unpacking Arguments: *args"
   ]
  },
  {
   "cell_type": "markdown",
   "metadata": {},
   "source": [
    "다음과 같이 입력한 인자를 제곱한 후 모두 합하는 함수 `ssum()`를 만든다고 가정하자. 이때 인자의 갯수는 1개 이상이다.  \n",
    "- ssum(2) &rarr; $2^2$\n",
    "- ssum(2,3) &rarr; $2^2+3^2$\n",
    "- ssum(2,3,4) &rarr; $2^2+3^2+4^2$\n",
    "- ssum(2,3,4,5) &rarr; $2^2+3^2+4^2+5^2$  \n",
    "**...**"
   ]
  },
  {
   "cell_type": "markdown",
   "metadata": {},
   "source": []
  },
  {
   "cell_type": "markdown",
   "metadata": {},
   "source": [
    "일단, 아래와 같이 함수를 정의해보자."
   ]
  },
  {
   "cell_type": "code",
   "execution_count": 6,
   "metadata": {},
   "outputs": [],
   "source": [
    "def ssum(a,b,c,d):\n",
    "    return a**2 + b**2 + c**2 + d**2"
   ]
  },
  {
   "cell_type": "code",
   "execution_count": 7,
   "metadata": {},
   "outputs": [
    {
     "data": {
      "text/plain": [
       "54"
      ]
     },
     "execution_count": 7,
     "metadata": {},
     "output_type": "execute_result"
    }
   ],
   "source": [
    "ssum(2,3,4,5)"
   ]
  },
  {
   "cell_type": "markdown",
   "metadata": {},
   "source": [
    "함수 호출 시 인자가 4개일 때는 잘 돌아간다. 하지만,"
   ]
  },
  {
   "cell_type": "code",
   "execution_count": 11,
   "metadata": {},
   "outputs": [
    {
     "ename": "TypeError",
     "evalue": "ssum() missing 3 required positional arguments: 'b', 'c', and 'd'",
     "output_type": "error",
     "traceback": [
      "\u001b[1;31m---------------------------------------------------------------------------\u001b[0m",
      "\u001b[1;31mTypeError\u001b[0m                                 Traceback (most recent call last)",
      "\u001b[1;32m<ipython-input-11-28cc8a6576ef>\u001b[0m in \u001b[0;36m<module>\u001b[1;34m\u001b[0m\n\u001b[1;32m----> 1\u001b[1;33m \u001b[0mssum\u001b[0m\u001b[1;33m(\u001b[0m\u001b[1;36m2\u001b[0m\u001b[1;33m)\u001b[0m\u001b[1;33m\u001b[0m\u001b[1;33m\u001b[0m\u001b[0m\n\u001b[0m",
      "\u001b[1;31mTypeError\u001b[0m: ssum() missing 3 required positional arguments: 'b', 'c', and 'd'"
     ]
    }
   ],
   "source": [
    "ssum(2)"
   ]
  },
  {
   "cell_type": "code",
   "execution_count": 12,
   "metadata": {},
   "outputs": [
    {
     "ename": "TypeError",
     "evalue": "ssum() missing 2 required positional arguments: 'c' and 'd'",
     "output_type": "error",
     "traceback": [
      "\u001b[1;31m---------------------------------------------------------------------------\u001b[0m",
      "\u001b[1;31mTypeError\u001b[0m                                 Traceback (most recent call last)",
      "\u001b[1;32m<ipython-input-12-79822f6b4bac>\u001b[0m in \u001b[0;36m<module>\u001b[1;34m\u001b[0m\n\u001b[1;32m----> 1\u001b[1;33m \u001b[0mssum\u001b[0m\u001b[1;33m(\u001b[0m\u001b[1;36m2\u001b[0m\u001b[1;33m,\u001b[0m\u001b[1;36m3\u001b[0m\u001b[1;33m)\u001b[0m\u001b[1;33m\u001b[0m\u001b[1;33m\u001b[0m\u001b[0m\n\u001b[0m",
      "\u001b[1;31mTypeError\u001b[0m: ssum() missing 2 required positional arguments: 'c' and 'd'"
     ]
    }
   ],
   "source": [
    "ssum(2,3)"
   ]
  },
  {
   "cell_type": "markdown",
   "metadata": {},
   "source": [
    "인자가 4개가 아닐 때는 모두 TypeError가 발생한다.  (갯수가 맞지 않기 때문)\n",
    "=> 가변인자(variadic parameters)를 사용하고자 할 때 이를 나타낼 수 있는 문법이 필요한데, 이것이 인자의 `packing`과 `unpacking`이다."
   ]
  },
  {
   "cell_type": "markdown",
   "metadata": {},
   "source": [
    "함수를 정의할 때 가변적인 인자를 `*args`로 나타내면 된다. (여기서 args라는 변수명은 얼마든지 바꿀 수 있지만 그대로 사용하는 것이 관습)"
   ]
  },
  {
   "cell_type": "code",
   "execution_count": 19,
   "metadata": {},
   "outputs": [
    {
     "name": "stdout",
     "output_type": "stream",
     "text": [
      "(2, 3, 4, 5)\n"
     ]
    },
    {
     "data": {
      "text/plain": [
       "54"
      ]
     },
     "execution_count": 19,
     "metadata": {},
     "output_type": "execute_result"
    }
   ],
   "source": [
    "def ssum(*args):\n",
    "    print(args)\n",
    "    return sum([i**2 for i in args])   # List comprehension함수 sum함수가 튜플로 만들어졌다. 인자로 호출할 때 args가 *를 만남으로써 packing이 된다.\n",
    "\n",
    "ssum(2,3,4,5) # 튜플 값으로 바뀜. 파라미터 명 앞에다가 별표를 붙인다. 인자가 하나,두개 상관 없이 튜플 값으로 바꿔버린다. 그래서 인자를 받을 수 있게 된다."
   ]
  },
  {
   "cell_type": "code",
   "execution_count": 22,
   "metadata": {},
   "outputs": [
    {
     "ename": "TypeError",
     "evalue": "sum expected at most 2 arguments, got 3",
     "output_type": "error",
     "traceback": [
      "\u001b[1;31m---------------------------------------------------------------------------\u001b[0m",
      "\u001b[1;31mTypeError\u001b[0m                                 Traceback (most recent call last)",
      "\u001b[1;32m<ipython-input-22-ae25c22a45ed>\u001b[0m in \u001b[0;36m<module>\u001b[1;34m\u001b[0m\n\u001b[1;32m----> 1\u001b[1;33m \u001b[0msum\u001b[0m\u001b[1;33m(\u001b[0m\u001b[1;36m2\u001b[0m\u001b[1;33m,\u001b[0m\u001b[1;36m3\u001b[0m\u001b[1;33m,\u001b[0m\u001b[1;36m4\u001b[0m\u001b[1;33m)\u001b[0m\u001b[1;33m\u001b[0m\u001b[1;33m\u001b[0m\u001b[0m\n\u001b[0m",
      "\u001b[1;31mTypeError\u001b[0m: sum expected at most 2 arguments, got 3"
     ]
    }
   ],
   "source": [
    "sum(2,3,4)"
   ]
  },
  {
   "cell_type": "markdown",
   "metadata": {},
   "source": [
    "(1,2,3,4) 말 그대로 묶는 게 packing\n",
    "unpacking은 말 그대로 푸는 것"
   ]
  },
  {
   "cell_type": "code",
   "execution_count": 28,
   "metadata": {},
   "outputs": [
    {
     "data": {
      "text/plain": [
       "9"
      ]
     },
     "execution_count": 28,
     "metadata": {},
     "output_type": "execute_result"
    }
   ],
   "source": [
    "sum((2,3,4))"
   ]
  },
  {
   "cell_type": "code",
   "execution_count": 31,
   "metadata": {},
   "outputs": [
    {
     "name": "stdout",
     "output_type": "stream",
     "text": [
      "(2, 3, 4, 5)\n"
     ]
    },
    {
     "data": {
      "text/plain": [
       "54"
      ]
     },
     "execution_count": 31,
     "metadata": {},
     "output_type": "execute_result"
    }
   ],
   "source": [
    "ssum(2,3,4,5)"
   ]
  },
  {
   "cell_type": "code",
   "execution_count": 35,
   "metadata": {},
   "outputs": [
    {
     "name": "stdout",
     "output_type": "stream",
     "text": [
      "(2, 3, 4)\n",
      "(2, 3)\n",
      "(2,)\n"
     ]
    },
    {
     "data": {
      "text/plain": [
       "(29, 13, 4)"
      ]
     },
     "execution_count": 35,
     "metadata": {},
     "output_type": "execute_result"
    }
   ],
   "source": [
    "ssum(2,3,4), ssum(2,3), ssum(2)"
   ]
  },
  {
   "cell_type": "markdown",
   "metadata": {},
   "source": [
    "함수 내에서 `args`는 packing을 의미한다. (즉, 넘어오는 인자값에 튜플 괄호를 씌운다고 생각하면 됨)"
   ]
  },
  {
   "cell_type": "code",
   "execution_count": 46,
   "metadata": {},
   "outputs": [
    {
     "name": "stdout",
     "output_type": "stream",
     "text": [
      "(2, 3, 4, 5)\n"
     ]
    },
    {
     "data": {
      "text/plain": [
       "54"
      ]
     },
     "execution_count": 46,
     "metadata": {},
     "output_type": "execute_result"
    }
   ],
   "source": [
    "def ssum(*args):\n",
    "    print(args)\n",
    "    return sum([i**2 for i in args])\n",
    "\n",
    "ssum(2,3,4,5)\n",
    "\n",
    "# "
   ]
  },
  {
   "cell_type": "markdown",
   "metadata": {},
   "source": [
    "넘어온 모든 인자값을 더한 후 그 값을 제곱하여 반환하도록 `ssum()`을 아래와 같이 빠꾼다고 하자."
   ]
  },
  {
   "cell_type": "code",
   "execution_count": 49,
   "metadata": {},
   "outputs": [],
   "source": [
    "def ssum1(*args):\n",
    "    print(*args) # unpacking\n",
    "    print(args)  # packing\n",
    "    return sum([*args])**2   # 2,3,4로 되는 리스트 값으로 반환\n",
    "\n",
    "def ssum2(*args):\n",
    "    return sum([i**2 for i in args])   # 결과값은 동일"
   ]
  },
  {
   "cell_type": "code",
   "execution_count": 50,
   "metadata": {},
   "outputs": [
    {
     "name": "stdout",
     "output_type": "stream",
     "text": [
      "(2, 3, 4, 5)\n"
     ]
    },
    {
     "data": {
      "text/plain": [
       "54"
      ]
     },
     "execution_count": 50,
     "metadata": {},
     "output_type": "execute_result"
    }
   ],
   "source": [
    "ssum(2,3,4,5)"
   ]
  },
  {
   "cell_type": "markdown",
   "metadata": {},
   "source": [
    "이때, `*args`는 unpacking을 나타낸다. (즉, 튜플의 괄호를 없앤다고 생각하면 됨)"
   ]
  },
  {
   "cell_type": "markdown",
   "metadata": {},
   "source": [
    "아래와 같이 `*args`는 함수 밖에서도 언제든 사용할 수 있다."
   ]
  },
  {
   "cell_type": "code",
   "execution_count": 51,
   "metadata": {},
   "outputs": [
    {
     "name": "stdout",
     "output_type": "stream",
     "text": [
      "(2, 3, 4)\n"
     ]
    },
    {
     "data": {
      "text/plain": [
       "29"
      ]
     },
     "execution_count": 51,
     "metadata": {},
     "output_type": "execute_result"
    }
   ],
   "source": [
    "x = (2,3,4)\n",
    "ssum(*x)    # = ssum(2,3,4) * 붙이면 unpacking, 가로를 띄고 들어간다. 그러면 그냥 2,3,4 개별값으로써 튜플로 부르는 것이다. 함수 외부에서도 사용한다.\n",
    "# "
   ]
  },
  {
   "cell_type": "markdown",
   "metadata": {},
   "source": [
    "<font color = \"blue\"><p>\n",
    "#### Ex) `**kwargs`라는 또 다른 packing/unpacking 표현은 무엇을 의미하는가? 다음 함수를 실행한 결과를 가지고 설명하라.  \n",
    "*Hint: https://mingrammer.com/understanding-the-asterisk-of-python/ *"
   ]
  },
  {
   "cell_type": "code",
   "execution_count": 52,
   "metadata": {},
   "outputs": [],
   "source": [
    "def g(x, **kwargs) :\n",
    "    return x, kwargs"
   ]
  },
  {
   "cell_type": "code",
   "execution_count": 53,
   "metadata": {},
   "outputs": [
    {
     "data": {
      "text/plain": [
       "(1, {'a': 2, 'b': 3, 'c': 4, 'd': 5})"
      ]
     },
     "execution_count": 53,
     "metadata": {},
     "output_type": "execute_result"
    }
   ],
   "source": [
    "# ...설명...\n",
    "g(1,a=2,b=3,c=4,d=5)\n",
    "\n",
    "# 이것도 packing, unpacking이랑 같은 내용 ** 이렇게 2개 들어가면 Error 나온다. * 1개 : 값만 넘겨줬을 때, * 2개 : keyword 방식으로 넘겨줬을 때\n"
   ]
  },
  {
   "cell_type": "code",
   "execution_count": 55,
   "metadata": {},
   "outputs": [],
   "source": [
    "def f(*args):\n",
    "#    args -> (1,2,3)\n",
    "#    *args -> 1,2,3\n",
    "#    abc(args) = abc((1,2,3))\n",
    "#    abc(*args) = abc(1,2,3)\n",
    "    f(1,2,3)"
   ]
  },
  {
   "cell_type": "markdown",
   "metadata": {},
   "source": [
    "<font color = \"#CC3D3D\"><p>\n",
    "# Date/time & String"
   ]
  },
  {
   "cell_type": "markdown",
   "metadata": {},
   "source": [
    "# 날짜와 시간"
   ]
  },
  {
   "cell_type": "markdown",
   "metadata": {},
   "source": [
    "- 날짜와 시간은 파이썬 기본 자료형에는 포함되어 있지 않지만, 데이터 처리에 있어 빠질 수 없는 중요한 자료형이다. \n",
    "- 날짜를 처리할 땐 [`arrow`](https://arrow.readthedocs.io/en/latest/)라는 라이브러리를 주로 사용한다. (파이썬 표준 라이브러리인 `datetime`을 대체)\n",
    "\n",
    "- datetime은 불편한 부분이 있어서 arrow를 쓴다."
   ]
  },
  {
   "cell_type": "markdown",
   "metadata": {},
   "source": [
    "### 설치 및 모듈 가져오기"
   ]
  },
  {
   "cell_type": "code",
   "execution_count": 56,
   "metadata": {},
   "outputs": [
    {
     "name": "stdout",
     "output_type": "stream",
     "text": [
      "Requirement already satisfied: arrow in c:\\download\\anaconda3\\lib\\site-packages (0.15.5)\n",
      "Requirement already satisfied: python-dateutil in c:\\download\\anaconda3\\lib\\site-packages (from arrow) (2.8.1)\n",
      "Requirement already satisfied: six>=1.5 in c:\\download\\anaconda3\\lib\\site-packages (from python-dateutil->arrow) (1.14.0)\n"
     ]
    }
   ],
   "source": [
    "!pip install arrow "
   ]
  },
  {
   "cell_type": "code",
   "execution_count": 57,
   "metadata": {},
   "outputs": [
    {
     "name": "stdout",
     "output_type": "stream",
     "text": [
      " C 드라이브의 볼륨에는 이름이 없습니다.\n",
      " 볼륨 일련 번호: E677-A9F5\n",
      "\n",
      " C:\\Users\\송한솔 디렉터리\n",
      "\n",
      "2020-05-03  오후 04:23    <DIR>          .\n",
      "2020-05-03  오후 04:23    <DIR>          ..\n",
      "2020-03-22  오후 03:33    <DIR>          .android\n",
      "2020-04-29  오후 02:14    <DIR>          .ipynb_checkpoints\n",
      "2020-03-25  오후 02:50    <DIR>          .ipython\n",
      "2020-03-26  오후 02:06    <DIR>          .jupyter\n",
      "2020-04-22  오후 04:47    <DIR>          .matplotlib\n",
      "2020-04-17  오후 09:52    <DIR>          .qgis2\n",
      "2020-03-26  오후 02:11             2,555 0325 수업 노트 필기.ipynb\n",
      "2020-03-14  오후 03:52    <DIR>          3D Objects\n",
      "2020-04-10  오후 05:51            44,402 AP_0325_01.ipynb\n",
      "2020-04-01  오후 02:49             5,802 AP_0325_ex.ipynb\n",
      "2020-04-29  오후 03:32            58,743 AP_0401_01.ipynb\n",
      "2020-04-10  오후 05:51           107,749 AP_0408_01.ipynb\n",
      "2020-04-24  오후 05:19            70,467 AP_0422_01.ipynb\n",
      "2020-04-29  오후 03:33            71,125 AP_0422_02.ipynb\n",
      "2020-05-03  오후 04:23            58,279 AP_0429_01.ipynb\n",
      "2020-03-14  오후 03:52    <DIR>          Contacts\n",
      "2020-03-22  오후 03:44               297 d4ac4633ebd6440fa397b84f1bc94a3c.7z\n",
      "2020-05-01  오후 07:36    <DIR>          Desktop\n",
      "2020-04-17  오후 09:07    <DIR>          Documents\n",
      "2020-05-03  오후 12:04    <DIR>          Downloads\n",
      "2020-03-14  오후 03:52    <DIR>          Favorites\n",
      "2020-02-26  오후 04:34                66 inittk.ini\n",
      "2020-02-26  오후 04:34                41 inst.ini\n",
      "2020-04-22  오후 05:14               104 kkk.py\n",
      "2020-03-14  오후 03:52    <DIR>          Links\n",
      "2020-03-14  오후 03:52    <DIR>          Music\n",
      "2020-04-24  오후 02:41               274 mymath.py\n",
      "2020-02-26  오후 04:34    <DIR>          Nox_share\n",
      "2020-02-26  오후 04:34                45 nuuid.ini\n",
      "2020-04-08  오후 02:19            11,363 Obama_words.txt\n",
      "2020-04-30  오후 05:04    <DIR>          OneDrive\n",
      "2020-03-31  오후 01:42    <DIR>          Pictures\n",
      "2017-12-07  오후 12:52    <DIR>          Roaming\n",
      "2020-03-14  오후 03:52    <DIR>          Saved Games\n",
      "2020-03-14  오후 03:52    <DIR>          Searches\n",
      "2020-02-26  오후 04:34                53 useruid.ini\n",
      "2020-03-14  오후 03:52    <DIR>          Videos\n",
      "2020-03-22  오후 03:33    <DIR>          vmlogs\n",
      "2020-04-24  오후 02:41    <DIR>          __pycache__\n",
      "2020-03-24  오후 09:50    <DIR>          새 폴더\n",
      "              16개 파일             431,365 바이트\n",
      "              26개 디렉터리  43,517,915,136 바이트 남음\n"
     ]
    }
   ],
   "source": [
    "!dir"
   ]
  },
  {
   "cell_type": "code",
   "execution_count": 35,
   "metadata": {
    "scrolled": true
   },
   "outputs": [
    {
     "name": "stdout",
     "output_type": "stream",
     "text": [
      " C 드라이브의 볼륨에는 이름이 없습니다.\n",
      " 볼륨 일련 번호: E677-A9F5\n",
      "\n",
      " C:\\Users\\송한솔 디렉터리\n",
      "\n",
      "\n",
      " C:\\Users\\송한솔 디렉터리\n",
      "\n",
      "\n",
      " C:\\Users\\송한솔 디렉터리\n",
      "\n",
      "\n",
      " C:\\Users\\송한솔 디렉터리\n",
      "\n",
      "\n",
      " C:\\Users\\송한솔 디렉터리\n",
      "\n",
      "\n",
      " C:\\Users\\송한솔 디렉터리\n",
      "\n",
      "\n",
      " C:\\Users\\송한솔 디렉터리\n",
      "\n",
      "\n",
      " C:\\Users\\송한솔 디렉터리\n",
      "\n",
      "\n",
      " C:\\Users\\송한솔 디렉터리\n",
      "\n",
      "\n",
      " C:\\Users\\송한솔 디렉터리\n",
      "\n",
      "\n",
      " C:\\Users\\송한솔 디렉터리\n",
      "\n",
      "\n",
      " C:\\Users\\송한솔 디렉터리\n",
      "\n",
      "\n",
      " C:\\Users\\송한솔 디렉터리\n",
      "\n",
      "\n",
      " C:\\Users\\송한솔 디렉터리\n",
      "\n",
      "\n",
      " C:\\Users\\송한솔 디렉터리\n",
      "\n",
      "\n",
      " C:\\Users\\송한솔 디렉터리\n",
      "\n",
      "\n",
      " C:\\Users\\송한솔 디렉터리\n",
      "\n",
      "\n",
      " C:\\Users\\송한솔 디렉터리\n",
      "\n",
      "\n",
      " C:\\Users\\송한솔 디렉터리\n",
      "\n",
      "\n",
      " C:\\Users\\송한솔 디렉터리\n",
      "\n",
      "\n",
      " C:\\Users\\송한솔 디렉터리\n",
      "\n",
      "\n",
      " C:\\Users\\송한솔 디렉터리\n",
      "\n",
      "\n",
      " C:\\Users\\송한솔 디렉터리\n",
      "\n",
      "\n",
      " C:\\Users\\송한솔 디렉터리\n",
      "\n",
      "\n",
      " C:\\Users\\송한솔 디렉터리\n",
      "\n",
      "\n",
      " C:\\Users\\송한솔 디렉터리\n",
      "\n",
      "\n",
      " C:\\Users\\송한솔 디렉터리\n",
      "\n",
      "\n",
      " C:\\Users\\송한솔 디렉터리\n",
      "\n",
      "\n",
      " C:\\Users\\송한솔 디렉터리\n",
      "\n"
     ]
    },
    {
     "name": "stderr",
     "output_type": "stream",
     "text": [
      "파일을 찾을 수 없습니다.\n"
     ]
    }
   ],
   "source": [
    "%ls # 현재 폴더에 있는 파일을 보여준다. # %로 시작하는 커맨드, !로 시작하는 커맨드가 있다. 권장하는 것은 jupyter notebook 안에서 하는 것보다 promt창에서 직접 pip install 하는 것이 더 낫다."
   ]
  },
  {
   "cell_type": "code",
   "execution_count": 2,
   "metadata": {},
   "outputs": [],
   "source": [
    "import arrow"
   ]
  },
  {
   "cell_type": "markdown",
   "metadata": {},
   "source": [
    "### now\n",
    "`arrow.now()`를 이용하여 현재시간을 알 수 있다."
   ]
  },
  {
   "cell_type": "code",
   "execution_count": 58,
   "metadata": {},
   "outputs": [
    {
     "data": {
      "text/plain": [
       "<Arrow [2020-05-03T16:30:52.309374+09:00]>"
      ]
     },
     "execution_count": 58,
     "metadata": {},
     "output_type": "execute_result"
    }
   ],
   "source": [
    "arrow.now()"
   ]
  },
  {
   "cell_type": "markdown",
   "metadata": {},
   "source": [
    "다른 장소의 현지 시간을 구할수도 있다."
   ]
  },
  {
   "cell_type": "code",
   "execution_count": 59,
   "metadata": {},
   "outputs": [
    {
     "data": {
      "text/plain": [
       "<Arrow [2020-05-03T00:30:54.479522-07:00]>"
      ]
     },
     "execution_count": 59,
     "metadata": {},
     "output_type": "execute_result"
    }
   ],
   "source": [
    "arrow.now('US/Pacific')  # 미태평양시간의 현재시간을 구한다."
   ]
  },
  {
   "cell_type": "markdown",
   "metadata": {},
   "source": [
    "### get\n",
    "날짜를 arrow 형태로 받고 싶다면, `arrow.get()`을 사용하면 된다."
   ]
  },
  {
   "cell_type": "code",
   "execution_count": 60,
   "metadata": {},
   "outputs": [
    {
     "data": {
      "text/plain": [
       "<Arrow [2020-04-29T00:00:00+00:00]>"
      ]
     },
     "execution_count": 60,
     "metadata": {},
     "output_type": "execute_result"
    }
   ],
   "source": [
    "arrow.get('2020-04-29')  # 2020년 4월 29일을 arrow 형태로 가져온다."
   ]
  },
  {
   "cell_type": "markdown",
   "metadata": {},
   "source": [
    "시간 단위까지 넣어주고 싶다면 날짜 뒤에 넘겨주면 된다."
   ]
  },
  {
   "cell_type": "code",
   "execution_count": 61,
   "metadata": {},
   "outputs": [
    {
     "data": {
      "text/plain": [
       "<Arrow [2020-04-29T16:45:00+00:00]>"
      ]
     },
     "execution_count": 61,
     "metadata": {},
     "output_type": "execute_result"
    }
   ],
   "source": [
    "date = arrow.get('2020-04-29 16:45') # 2020년 4월 29일 오후 4시 45분을 넘겨준다.\n",
    "date"
   ]
  },
  {
   "cell_type": "markdown",
   "metadata": {},
   "source": [
    "문자열을 사용하지 않고도 날짜를 지정할 수 있다."
   ]
  },
  {
   "cell_type": "code",
   "execution_count": 7,
   "metadata": {},
   "outputs": [
    {
     "data": {
      "text/plain": [
       "<Arrow [2020-04-29T16:46:00+00:00]>"
      ]
     },
     "execution_count": 7,
     "metadata": {},
     "output_type": "execute_result"
    }
   ],
   "source": [
    "date = arrow.get(2020, 4, 29, 16, 46)  # 초 단위까지 들어간다.\n",
    "date"
   ]
  },
  {
   "cell_type": "markdown",
   "metadata": {},
   "source": [
    "날짜가 어떻게 구성되어있는지 직접 지정할 수도 있다."
   ]
  },
  {
   "cell_type": "code",
   "execution_count": 63,
   "metadata": {},
   "outputs": [
    {
     "data": {
      "text/plain": [
       "<Arrow [2020-04-29T00:00:00+00:00]>"
      ]
     },
     "execution_count": 63,
     "metadata": {},
     "output_type": "execute_result"
    }
   ],
   "source": [
    "arrow.get('20200429', 'YYYYMMDD')  # 연도 네 자리, 월 두자리, 일 두자리로 인식하게 지정 그냥 20200429만 쓰게 되면 컴퓨터가 인식을 못하게 됨으로, 뒷 부분에 Year,Month,Day를 알려줘야 한다."
   ]
  },
  {
   "cell_type": "code",
   "execution_count": 5,
   "metadata": {},
   "outputs": [
    {
     "data": {
      "text/plain": [
       "<Arrow [2020-04-29T00:00:00+00:00]>"
      ]
     },
     "execution_count": 5,
     "metadata": {},
     "output_type": "execute_result"
    }
   ],
   "source": [
    "arrow.get('04/29/20', 'MM/DD/YY')  # 기준년도를 지정하고 micro second을 기준으로 값을 저장하고 있다."
   ]
  },
  {
   "cell_type": "markdown",
   "metadata": {},
   "source": [
    "### format\n",
    "날짜의 출력 형식을 지정할 수 있게 해준다.\n",
    "- `Y`는 연도,\n",
    "- `M`는 월,\n",
    "- `D`는 일,\n",
    "- `h`는 시,\n",
    "- `m`은 분,\n",
    "- `s`는 초를 뜻한다.\n",
    "<img align='left' src='http://drive.google.com/uc?export=view&id=1ophVqbfhPiIgux_-4YUqeUoyJdtWytbl'>"
   ]
  },
  {
   "cell_type": "markdown",
   "metadata": {},
   "source": [
    "예를 들어, 날짜를 '년/월' 형식으로 나타내고 싶다면 format 에 'YY/MM'을 넘겨준다."
   ]
  },
  {
   "cell_type": "code",
   "execution_count": 8,
   "metadata": {},
   "outputs": [
    {
     "data": {
      "text/plain": [
       "'20/04'"
      ]
     },
     "execution_count": 8,
     "metadata": {},
     "output_type": "execute_result"
    }
   ],
   "source": [
    "date.format('YY/MM')"
   ]
  },
  {
   "cell_type": "code",
   "execution_count": 66,
   "metadata": {},
   "outputs": [
    {
     "data": {
      "text/plain": [
       "'2020.04'"
      ]
     },
     "execution_count": 66,
     "metadata": {},
     "output_type": "execute_result"
    }
   ],
   "source": [
    "date.format('YYYY.MM')"
   ]
  },
  {
   "cell_type": "code",
   "execution_count": 67,
   "metadata": {},
   "outputs": [
    {
     "data": {
      "text/plain": [
       "'2020.April'"
      ]
     },
     "execution_count": 67,
     "metadata": {},
     "output_type": "execute_result"
    }
   ],
   "source": [
    "date.format('YYYY.MMMM')  # M 4개를 사용하면 숫자 대신 영어로 월이 fullname으로 출력된다."
   ]
  },
  {
   "cell_type": "code",
   "execution_count": 68,
   "metadata": {},
   "outputs": [
    {
     "data": {
      "text/plain": [
       "'2020년 04월 29일'"
      ]
     },
     "execution_count": 68,
     "metadata": {},
     "output_type": "execute_result"
    }
   ],
   "source": [
    "date.format('YYYY년 MM월 DD일')"
   ]
  },
  {
   "cell_type": "code",
   "execution_count": 69,
   "metadata": {},
   "outputs": [
    {
     "data": {
      "text/plain": [
       "'Wednesday'"
      ]
     },
     "execution_count": 69,
     "metadata": {},
     "output_type": "execute_result"
    }
   ],
   "source": [
    "date.format('dddd')  # d 4개를 사용하면 숫자 대신 영어로 요일이 출력된다."
   ]
  },
  {
   "cell_type": "code",
   "execution_count": 70,
   "metadata": {},
   "outputs": [
    {
     "data": {
      "text/plain": [
       "'수요일'"
      ]
     },
     "execution_count": 70,
     "metadata": {},
     "output_type": "execute_result"
    }
   ],
   "source": [
    "date.format('dddd', locale='ko')  # locale 인자를 'kr'로 지정하면 우리말로 요일이 출력된다."
   ]
  },
  {
   "cell_type": "markdown",
   "metadata": {},
   "source": [
    "### shift / replace\n",
    "해당 날짜를 다른 날짜로 옮길 수 있다."
   ]
  },
  {
   "cell_type": "code",
   "execution_count": 10,
   "metadata": {},
   "outputs": [
    {
     "data": {
      "text/plain": [
       "<Arrow [2020-05-20T16:46:00+00:00]>"
      ]
     },
     "execution_count": 10,
     "metadata": {},
     "output_type": "execute_result"
    }
   ],
   "source": [
    "three_weeks_later = date.shift(weeks=3)  # date 를 3 주후의 시간으로 옮긴다. weeks, month, year 바꿀 수 있다.\n",
    "three_weeks_later"
   ]
  },
  {
   "cell_type": "code",
   "execution_count": 72,
   "metadata": {},
   "outputs": [
    {
     "data": {
      "text/plain": [
       "<Arrow [2020-04-08T16:46:00+00:00]>"
      ]
     },
     "execution_count": 72,
     "metadata": {},
     "output_type": "execute_result"
    }
   ],
   "source": [
    "three_weeks_before = date.shift(weeks=-3) # date 를 3주 전의 시간으로 옮긴다.\n",
    "three_weeks_before"
   ]
  },
  {
   "cell_type": "markdown",
   "metadata": {},
   "source": [
    "주 단위 외에도 년, 일, 시간 단위 까지 이동을 할 수 있다."
   ]
  },
  {
   "cell_type": "code",
   "execution_count": 11,
   "metadata": {},
   "outputs": [
    {
     "data": {
      "text/plain": [
       "<Arrow [2020-05-02T16:46:00+00:00]>"
      ]
     },
     "execution_count": 11,
     "metadata": {},
     "output_type": "execute_result"
    }
   ],
   "source": [
    "date.shift(days=3)  # date 를 3일 후의 시간으로 옮긴다."
   ]
  },
  {
   "cell_type": "markdown",
   "metadata": {},
   "source": [
    "해당 일로 지정할 수 있다."
   ]
  },
  {
   "cell_type": "code",
   "execution_count": 12,
   "metadata": {},
   "outputs": [
    {
     "data": {
      "text/plain": [
       "<Arrow [2020-04-03T16:46:00+00:00]>"
      ]
     },
     "execution_count": 12,
     "metadata": {},
     "output_type": "execute_result"
    }
   ],
   "source": [
    "date.replace(day=3) # date의 날짜를 3일로 옮긴다. replace(대체)"
   ]
  },
  {
   "cell_type": "code",
   "execution_count": 13,
   "metadata": {},
   "outputs": [
    {
     "data": {
      "text/plain": [
       "<Arrow [2020-04-29T16:46:00+00:00]>"
      ]
     },
     "execution_count": 13,
     "metadata": {},
     "output_type": "execute_result"
    }
   ],
   "source": [
    "date"
   ]
  },
  {
   "cell_type": "markdown",
   "metadata": {},
   "source": [
    "### weekday\n",
    "- 해당 날짜가 무슨 요일이였는지도 알 수 있다.\n",
    "- `0`이 월요일이고, `6`은 일요일이다."
   ]
  },
  {
   "cell_type": "code",
   "execution_count": 75,
   "metadata": {},
   "outputs": [
    {
     "data": {
      "text/plain": [
       "2"
      ]
     },
     "execution_count": 75,
     "metadata": {},
     "output_type": "execute_result"
    }
   ],
   "source": [
    "date.weekday()  # date 변수의 날짜가 무슨 요일이였는지 알아보자 굉장히 많이 쓰인다. 요일 뽑아내기 위해서 많이 사용한다.\n",
    "# 0 월, 1 화, 2 수, 3 목, 4 금, 5 토, 6 일"
   ]
  },
  {
   "cell_type": "markdown",
   "metadata": {},
   "source": [
    "### 날짜 빼기\n",
    "arrow 에서 `-`을 사용해 날짜에서 날짜를 뺄 수 있다."
   ]
  },
  {
   "cell_type": "code",
   "execution_count": 76,
   "metadata": {},
   "outputs": [],
   "source": [
    "date1 = arrow.get('2019-11-12')  # date1을 11월 12일로 지정한다.\n",
    "date2 = arrow.get('2019-12-01')  # date2를 12월 1일로 지정한다."
   ]
  },
  {
   "cell_type": "code",
   "execution_count": 77,
   "metadata": {},
   "outputs": [],
   "source": [
    "difference = date2 - date1  # date2 에서 date1 을 빼준다. date + date는 필요가 없다. 날짜끼리 더하기 X, 날짜끼리 빼기 O"
   ]
  },
  {
   "cell_type": "code",
   "execution_count": 78,
   "metadata": {},
   "outputs": [
    {
     "data": {
      "text/plain": [
       "19"
      ]
     },
     "execution_count": 78,
     "metadata": {},
     "output_type": "execute_result"
    }
   ],
   "source": [
    "difference.days  # difference.days 로 총 며칠인지 확인한다."
   ]
  },
  {
   "cell_type": "markdown",
   "metadata": {},
   "source": [
    "### humanize"
   ]
  },
  {
   "cell_type": "code",
   "execution_count": 79,
   "metadata": {},
   "outputs": [],
   "source": [
    "date = arrow.now().shift(days=2) # 잘 쓰이진 않는다... 사람 친화적으로 보여주기 위해서 쓰인다. days에 1 or 2 값이 같은 이유 : 0시 기준이기 때문에 같은 값으로 될 것이다."
   ]
  },
  {
   "cell_type": "code",
   "execution_count": 80,
   "metadata": {},
   "outputs": [
    {
     "data": {
      "text/plain": [
       "'in a day'"
      ]
     },
     "execution_count": 80,
     "metadata": {},
     "output_type": "execute_result"
    }
   ],
   "source": [
    "date.humanize()"
   ]
  },
  {
   "cell_type": "code",
   "execution_count": 81,
   "metadata": {},
   "outputs": [
    {
     "data": {
      "text/plain": [
       "'1일 후'"
      ]
     },
     "execution_count": 81,
     "metadata": {},
     "output_type": "execute_result"
    }
   ],
   "source": [
    "date.humanize(locale='ko')"
   ]
  },
  {
   "cell_type": "markdown",
   "metadata": {},
   "source": [
    "<font color = \"blue\">\n",
    "#### Ex) 날짜를 나타내는 문자열 리스트 dates로부터 각 날짜에 상응하는 요일을 출력하는 코드이다. 이 코드를 1) list comprehension, 2) map 함수를 이용하여 다시 작성하시오."
   ]
  },
  {
   "cell_type": "code",
   "execution_count": 82,
   "metadata": {},
   "outputs": [],
   "source": [
    "dates = ['1945/8/15', '1946/9/1', '1960/4/19', '1980/5/18', '2013/3/1']"
   ]
  },
  {
   "cell_type": "code",
   "execution_count": 83,
   "metadata": {},
   "outputs": [
    {
     "name": "stdout",
     "output_type": "stream",
     "text": [
      "수요일\n",
      "일요일\n",
      "화요일\n",
      "일요일\n",
      "금요일\n"
     ]
    }
   ],
   "source": [
    "for date in dates:\n",
    "    print(arrow.get(date).format('dddd', locale='ko'))"
   ]
  },
  {
   "cell_type": "code",
   "execution_count": 84,
   "metadata": {},
   "outputs": [
    {
     "data": {
      "text/plain": [
       "['수요일', '일요일', '화요일', '일요일', '금요일']"
      ]
     },
     "execution_count": 84,
     "metadata": {},
     "output_type": "execute_result"
    }
   ],
   "source": [
    "# list comprehension 사용\n",
    "# ...\n",
    "[arrow.get(date).format('dddd', locale='ko') for date in dates]"
   ]
  },
  {
   "cell_type": "code",
   "execution_count": 85,
   "metadata": {},
   "outputs": [
    {
     "data": {
      "text/plain": [
       "['수요일', '일요일', '화요일', '일요일', '금요일']"
      ]
     },
     "execution_count": 85,
     "metadata": {},
     "output_type": "execute_result"
    }
   ],
   "source": [
    "# map과 lambda 함수 사용\n",
    "# ...\n",
    "list(map(lambda date : arrow.get(date).format('dddd', locale='ko') ,dates)) # 이 정도 QUIZ 문제 나올 것이다."
   ]
  },
  {
   "cell_type": "markdown",
   "metadata": {},
   "source": [
    "# 문자열 관련 메소드"
   ]
  },
  {
   "cell_type": "markdown",
   "metadata": {},
   "source": [
    "### format\n",
    "문자열에 원하는 값을 대입할 수 있게 해준다."
   ]
  },
  {
   "cell_type": "markdown",
   "metadata": {},
   "source": [
    "문자열 안에 `{ }`를 넣어준 후, `format()`을 부르고 안에 원하는 값을 넣는다."
   ]
  },
  {
   "cell_type": "code",
   "execution_count": 86,
   "metadata": {},
   "outputs": [
    {
     "data": {
      "text/plain": [
       "'제 키는 180이며, 몸무게는 70입니다'"
      ]
     },
     "execution_count": 86,
     "metadata": {},
     "output_type": "execute_result"
    }
   ],
   "source": [
    "h = 180\n",
    "w = 70\n",
    "'제 키는 {}이며, 몸무게는 {}입니다'.format(h,w)\n",
    "# format 함수 {} 안의 값을 따른 곳에서 불러오려고 할 때 사용. 순서대로 매칭 된다. 개수가 서로 맞아야 한다. 깔끔하게 출력하고 싶을 때 format 함수를 사용한다."
   ]
  },
  {
   "cell_type": "markdown",
   "metadata": {},
   "source": [
    "숫자 자리수나 소숫점 자리수를 지정할 수 있다."
   ]
  },
  {
   "cell_type": "code",
   "execution_count": 87,
   "metadata": {},
   "outputs": [
    {
     "data": {
      "text/plain": [
       "'제 키는 180cm이며, 몸무게는 88.3kg, 체지방률은 35.0%입니다'"
      ]
     },
     "execution_count": 87,
     "metadata": {},
     "output_type": "execute_result"
    }
   ],
   "source": [
    "'제 키는 {:2d}cm이며, 몸무게는 {:.1f}kg, 체지방률은 {:1.1%}입니다'.format(180, 88.33, .35)"
   ]
  },
  {
   "cell_type": "markdown",
   "metadata": {},
   "source": [
    "### f-String\n",
    "파이썬 3.6버전 이상에서 지원하는 새로운 문자열 포매팅 방법:  \n",
    "https://realpython.com/python-f-strings/"
   ]
  },
  {
   "cell_type": "code",
   "execution_count": 88,
   "metadata": {},
   "outputs": [
    {
     "data": {
      "text/plain": [
       "'나의 이름은 홍길동입니다. 나이는 31입니다.'"
      ]
     },
     "execution_count": 88,
     "metadata": {},
     "output_type": "execute_result"
    }
   ],
   "source": [
    "name = '홍길동'\n",
    "age = 30\n",
    "f'나의 이름은 {name}입니다. 나이는 {age+1}입니다.'  # 앞에 f를 붙이게 되면 스페셜한 문자열이 된다. format으로 사용가능하다. 간단한 연산도 가능하다. format보다 간단하게 사용가능하다."
   ]
  },
  {
   "cell_type": "markdown",
   "metadata": {},
   "source": [
    "### join\n",
    "문자열을 특정 글자로 합쳐준다."
   ]
  },
  {
   "cell_type": "code",
   "execution_count": 89,
   "metadata": {},
   "outputs": [
    {
     "data": {
      "text/plain": [
       "'a,b,c,d'"
      ]
     },
     "execution_count": 89,
     "metadata": {},
     "output_type": "execute_result"
    }
   ],
   "source": [
    "','.join('abcd')  # 'abcd' 사이에 쉼표를 추가"
   ]
  },
  {
   "cell_type": "code",
   "execution_count": 90,
   "metadata": {},
   "outputs": [
    {
     "data": {
      "text/plain": [
       "['a', 'b', 'c', 'd']"
      ]
     },
     "execution_count": 90,
     "metadata": {},
     "output_type": "execute_result"
    }
   ],
   "source": [
    "['a','b','c','d']"
   ]
  },
  {
   "cell_type": "markdown",
   "metadata": {},
   "source": [
    "### split\n",
    "특정 글자로 문자열을 나눈다."
   ]
  },
  {
   "cell_type": "code",
   "execution_count": 91,
   "metadata": {},
   "outputs": [
    {
     "data": {
      "text/plain": [
       "['사과', '오렌지', '포도', '딸기']"
      ]
     },
     "execution_count": 91,
     "metadata": {},
     "output_type": "execute_result"
    }
   ],
   "source": [
    "'사과,오렌지,포도,딸기'.split(',')  # 쉼표를 기준으로 문자열 분리"
   ]
  },
  {
   "cell_type": "code",
   "execution_count": 92,
   "metadata": {},
   "outputs": [
    {
     "data": {
      "text/plain": [
       "','"
      ]
     },
     "execution_count": 92,
     "metadata": {},
     "output_type": "execute_result"
    }
   ],
   "source": [
    "','"
   ]
  },
  {
   "cell_type": "markdown",
   "metadata": {},
   "source": [
    "# Ex 추가) 문자열 분리하고 다시 합치기"
   ]
  },
  {
   "cell_type": "code",
   "execution_count": 94,
   "metadata": {},
   "outputs": [
    {
     "data": {
      "text/plain": [
       "'사과,++++++오렌지,++++++포도,++++++딸기'"
      ]
     },
     "execution_count": 94,
     "metadata": {},
     "output_type": "execute_result"
    }
   ],
   "source": [
    "',++++++'.join('사과,오렌지,포도,딸기'.split(','))"
   ]
  },
  {
   "cell_type": "markdown",
   "metadata": {},
   "source": [
    "### strip\n",
    "문자열 앞뒤의 공백을 지운다."
   ]
  },
  {
   "cell_type": "code",
   "execution_count": 95,
   "metadata": {},
   "outputs": [
    {
     "data": {
      "text/plain": [
       "'안녕하세요'"
      ]
     },
     "execution_count": 95,
     "metadata": {},
     "output_type": "execute_result"
    }
   ],
   "source": [
    "' 안녕하세요 '.strip()"
   ]
  },
  {
   "cell_type": "code",
   "execution_count": 96,
   "metadata": {},
   "outputs": [
    {
     "data": {
      "text/plain": [
       "'안녕하 세요'"
      ]
     },
     "execution_count": 96,
     "metadata": {},
     "output_type": "execute_result"
    }
   ],
   "source": [
    "# 단, 문자열 내부의 빈 공백은 지우지 않는다.\n",
    "' 안녕하 세요 '.strip()"
   ]
  },
  {
   "cell_type": "markdown",
   "metadata": {},
   "source": [
    "### replace\n",
    "특정 글자를 다른 글자로 바꿔준다"
   ]
  },
  {
   "cell_type": "code",
   "execution_count": 97,
   "metadata": {},
   "outputs": [
    {
     "data": {
      "text/plain": [
       "'안녕하세요'"
      ]
     },
     "execution_count": 97,
     "metadata": {},
     "output_type": "execute_result"
    }
   ],
   "source": [
    "'안녕하 세요'.replace(' ', '')  # 문자열 중간의 띄어쓰기 교체, 공백을 없애는 코드"
   ]
  },
  {
   "cell_type": "code",
   "execution_count": 98,
   "metadata": {},
   "outputs": [
    {
     "data": {
      "text/plain": [
       "'파이썬은 참 쉽습니다?'"
      ]
     },
     "execution_count": 98,
     "metadata": {},
     "output_type": "execute_result"
    }
   ],
   "source": [
    "'파이쏜은 참 쉽습니다?'.replace('쏜', '썬')  # '쏜'을 '썬'으로 교체"
   ]
  },
  {
   "cell_type": "markdown",
   "metadata": {},
   "source": [
    "# Ex  추가) 여러 개 문자를 기준으로 문자열을 자르는 방법이 있나요?"
   ]
  },
  {
   "cell_type": "code",
   "execution_count": 1,
   "metadata": {},
   "outputs": [],
   "source": [
    "sentence = \"Hey, you - what are you doing here!?\"\n",
    "# Hint\n",
    "sentence.replace(',',' ').replace('-',' ').replace('?', ' ').replace('!', ' ').split().append('kkk')\n",
    "\n",
    "# 메쏘드 체이닝이라고 한다. 파이썬의 강력한 기능이다."
   ]
  },
  {
   "cell_type": "code",
   "execution_count": 2,
   "metadata": {},
   "outputs": [
    {
     "data": {
      "text/plain": [
       "'Hey, you - what are you doing here!?'"
      ]
     },
     "execution_count": 2,
     "metadata": {},
     "output_type": "execute_result"
    }
   ],
   "source": [
    "sentence"
   ]
  },
  {
   "cell_type": "markdown",
   "metadata": {},
   "source": [
    "### in, not in"
   ]
  },
  {
   "cell_type": "markdown",
   "metadata": {},
   "source": [
    "`in`을 사용해 문자열 안에 해당 글자가 포함되었는지 확인할 수 있다."
   ]
  },
  {
   "cell_type": "code",
   "execution_count": 101,
   "metadata": {},
   "outputs": [
    {
     "data": {
      "text/plain": [
       "True"
      ]
     },
     "execution_count": 101,
     "metadata": {},
     "output_type": "execute_result"
    }
   ],
   "source": [
    "'사과' in '오늘의 메뉴는 밥, 미역국, 사과입니다.'  # '사과'가 문자열에 포함되었는지 확인"
   ]
  },
  {
   "cell_type": "markdown",
   "metadata": {},
   "source": [
    "`not in`을 사용해 반대로 해당 글자가 없는지 확인할 수 있다."
   ]
  },
  {
   "cell_type": "code",
   "execution_count": 102,
   "metadata": {},
   "outputs": [
    {
     "data": {
      "text/plain": [
       "False"
      ]
     },
     "execution_count": 102,
     "metadata": {},
     "output_type": "execute_result"
    }
   ],
   "source": [
    "'사과' not in '오늘의 메뉴는 밥, 미역국, 사과입니다.'  # '사과'가 문자열에 없는지 확인"
   ]
  },
  {
   "cell_type": "markdown",
   "metadata": {},
   "source": [
    "### count, find, index"
   ]
  },
  {
   "cell_type": "markdown",
   "metadata": {},
   "source": [
    "`count()`는 해당 글자가 문자열에서 몇 번 쓰였는지 확인해준다."
   ]
  },
  {
   "cell_type": "code",
   "execution_count": 3,
   "metadata": {},
   "outputs": [
    {
     "data": {
      "text/plain": [
       "3"
      ]
     },
     "execution_count": 3,
     "metadata": {},
     "output_type": "execute_result"
    }
   ],
   "source": [
    "text = 'hello world' \n",
    "text.count('l')  # 알파벳 'l' 이 몇번 쓰였는지 확인"
   ]
  },
  {
   "cell_type": "code",
   "execution_count": 6,
   "metadata": {},
   "outputs": [
    {
     "data": {
      "text/plain": [
       "8"
      ]
     },
     "execution_count": 6,
     "metadata": {},
     "output_type": "execute_result"
    }
   ],
   "source": [
    "text.find('r')"
   ]
  },
  {
   "cell_type": "markdown",
   "metadata": {},
   "source": [
    "`index()`는 해당 글자의 위치를 확인해준다."
   ]
  },
  {
   "cell_type": "code",
   "execution_count": 7,
   "metadata": {},
   "outputs": [
    {
     "data": {
      "text/plain": [
       "6"
      ]
     },
     "execution_count": 7,
     "metadata": {},
     "output_type": "execute_result"
    }
   ],
   "source": [
    "text.index('w')  # 'w'의 위치 확인"
   ]
  },
  {
   "cell_type": "markdown",
   "metadata": {},
   "source": [
    "### capitalize, lower, upper"
   ]
  },
  {
   "cell_type": "markdown",
   "metadata": {},
   "source": [
    "`capitalize()`는 문장의 첫 글자를 대문자로 바꾼다."
   ]
  },
  {
   "cell_type": "code",
   "execution_count": 105,
   "metadata": {},
   "outputs": [
    {
     "data": {
      "text/plain": [
       "'Hello world'"
      ]
     },
     "execution_count": 105,
     "metadata": {},
     "output_type": "execute_result"
    }
   ],
   "source": [
    "'hello world'.capitalize()"
   ]
  },
  {
   "cell_type": "markdown",
   "metadata": {},
   "source": [
    "`lower()`는 모든 글자를 소문자로 바꾼다."
   ]
  },
  {
   "cell_type": "code",
   "execution_count": 106,
   "metadata": {},
   "outputs": [
    {
     "data": {
      "text/plain": [
       "'hello world'"
      ]
     },
     "execution_count": 106,
     "metadata": {},
     "output_type": "execute_result"
    }
   ],
   "source": [
    "'HeLLO woRlD'.lower()"
   ]
  },
  {
   "cell_type": "markdown",
   "metadata": {},
   "source": [
    "`upper()`는 모든 글자를 대문자로 바꾼다."
   ]
  },
  {
   "cell_type": "code",
   "execution_count": 107,
   "metadata": {},
   "outputs": [
    {
     "data": {
      "text/plain": [
       "'MBC, SBS, KBS'"
      ]
     },
     "execution_count": 107,
     "metadata": {},
     "output_type": "execute_result"
    }
   ],
   "source": [
    "'mBc, sBs, Kbs'.upper()"
   ]
  },
  {
   "cell_type": "markdown",
   "metadata": {},
   "source": [
    "### startswith, endswith"
   ]
  },
  {
   "cell_type": "markdown",
   "metadata": {},
   "source": [
    "`startswith()`는 문자열이 해당 글자로 시작하는지 확인해준다."
   ]
  },
  {
   "cell_type": "code",
   "execution_count": 108,
   "metadata": {},
   "outputs": [
    {
     "data": {
      "text/plain": [
       "True"
      ]
     },
     "execution_count": 108,
     "metadata": {},
     "output_type": "execute_result"
    }
   ],
   "source": [
    "'보고서 작성 중'.startswith('보고서') # 문자열이 '보고서'로 시작하는지 확인"
   ]
  },
  {
   "cell_type": "markdown",
   "metadata": {},
   "source": [
    "`endswith()`는 문자열이 해당 글자로 끝나는지 확인해준다."
   ]
  },
  {
   "cell_type": "code",
   "execution_count": 109,
   "metadata": {},
   "outputs": [
    {
     "data": {
      "text/plain": [
       "True"
      ]
     },
     "execution_count": 109,
     "metadata": {},
     "output_type": "execute_result"
    }
   ],
   "source": [
    "'보고서 작성 중?'.endswith('?') # 문자열이 '완료'로 끝나는지 확인"
   ]
  },
  {
   "cell_type": "markdown",
   "metadata": {},
   "source": [
    "# 연습문제"
   ]
  },
  {
   "cell_type": "markdown",
   "metadata": {},
   "source": [
    "### 문제 21)\n",
    "년, 월, 일을 입력받아 요일(한글명)을 출력하는 프로그램을 작성하시오."
   ]
  },
  {
   "cell_type": "code",
   "execution_count": 112,
   "metadata": {},
   "outputs": [
    {
     "name": "stdout",
     "output_type": "stream",
     "text": [
      "연도: 2014\n",
      "월: 05\n",
      "일: 29\n"
     ]
    }
   ],
   "source": [
    "year = input('연도: ')\n",
    "month = input('월: ')\n",
    "day = input('일: ')\n",
    "Dates = year+month+day"
   ]
  },
  {
   "cell_type": "code",
   "execution_count": 113,
   "metadata": {},
   "outputs": [
    {
     "data": {
      "text/plain": [
       "<Arrow [2014-05-29T00:00:00+00:00]>"
      ]
     },
     "execution_count": 113,
     "metadata": {},
     "output_type": "execute_result"
    }
   ],
   "source": [
    "# ... 연 월 일 받은 다음에 get 함수로 받아서 format해서 dddd 요일 나온다.\n",
    "# 처음에 입력했던 year, month, day는 문자열로 입력을 받았기 때문에 Dates라는 변수에 덧셈을 하게 되면 문자열끼리 합쳐지는 꼴이 된다.\n",
    "import arrow\n",
    "date = arrow.get(Dates, 'YYYYMMDD')\n",
    "date"
   ]
  },
  {
   "cell_type": "code",
   "execution_count": 114,
   "metadata": {},
   "outputs": [
    {
     "data": {
      "text/plain": [
       "'목요일'"
      ]
     },
     "execution_count": 114,
     "metadata": {},
     "output_type": "execute_result"
    }
   ],
   "source": [
    "date1 = date.format('dddd', locale='ko')\n",
    "date1"
   ]
  },
  {
   "cell_type": "code",
   "execution_count": 14,
   "metadata": {},
   "outputs": [
    {
     "name": "stdout",
     "output_type": "stream",
     "text": [
      "연도: 2014\n",
      "월: 5\n",
      "일: 29\n"
     ]
    },
    {
     "data": {
      "text/plain": [
       "'목요일'"
      ]
     },
     "execution_count": 14,
     "metadata": {},
     "output_type": "execute_result"
    }
   ],
   "source": [
    "# 교수님 풀이 과정\n",
    "year = input('연도: ')\n",
    "month = input('월: ')\n",
    "day = input('일: ')\n",
    "\n",
    "arrow.get(int(year), int(month), int(day)).format('dddd', locale='ko')"
   ]
  },
  {
   "cell_type": "markdown",
   "metadata": {},
   "source": [
    "### 문제 22)\n",
    "본인에게 있어 중요한 날 또는 기념일을 입력하면 현재 날짜 기준으로 몇일 남았는지 또는 몇일 지났는지 또는 오늘인지를 친절하게 알려주는 프로그램을 만드시오.\n",
    "```python\n",
    ">>> 기념일을 입력하세요. (형식 YYYY-MM-DD): 2019-05-02\n",
    "23일 뒤입니다.\n",
    "```"
   ]
  },
  {
   "cell_type": "code",
   "execution_count": 117,
   "metadata": {},
   "outputs": [
    {
     "name": "stdout",
     "output_type": "stream",
     "text": [
      "기념일을 입력하세요. (형식 YYYY-MM-DD): 2014-12-15\n"
     ]
    }
   ],
   "source": [
    "date = input('기념일을 입력하세요. (형식 YYYY-MM-DD): ')"
   ]
  },
  {
   "cell_type": "code",
   "execution_count": 118,
   "metadata": {},
   "outputs": [
    {
     "name": "stdout",
     "output_type": "stream",
     "text": [
      "1967 일 지났습니다.\n"
     ]
    }
   ],
   "source": [
    "days = (arrow.get(date) - arrow.now()).days\n",
    "if days > 0:\n",
    "    print(days,\"일 남았습니다.\")\n",
    "elif days < 0:\n",
    "    print(abs(days),\"일 지났습니다.\")\n",
    "else:\n",
    "    print(\"오늘입니다.\")\n",
    "# ... 만난 날 지정해 놓고 구현 해봐라 날짜 빼는 거 계산\n",
    "\n",
    "# if문을 사용해서 총 3가지 경우로 나눴습니다. days가 0보다 크면 아직 기념일이 지나지 않은 거고, days가 0보다 작으면 기념일이 지난 거고\n",
    "# 마지막으로 days가 0이면 오늘인 경우로 나눠서 진행했습니다. 그리고 days가 0보다 작으면 '-xxx일 지났습니다.'로 출력 되기 때문에 절댓값\n",
    "# 함수 abs()로 마이너스를 없앴습니다."
   ]
  },
  {
   "cell_type": "code",
   "execution_count": 15,
   "metadata": {},
   "outputs": [
    {
     "name": "stdout",
     "output_type": "stream",
     "text": [
      "기념일을 입력하세요. (형식 YYYY-MM-DD): 2014-05-31\n",
      "2166일 지났습니다\n"
     ]
    }
   ],
   "source": [
    "# 교수님 풀이 과정\n",
    "# 첫 번째 방식 \n",
    "date = input('기념일을 입력하세요. (형식 YYYY-MM-DD): ')\n",
    "\n",
    "days = (arrow.get(date) - arrow.now()).days + 1  # now는 현재시간 기준, 년월일 입력으로 만든 날짜는 00:00:00 기준이라 +1 하는게 적절\n",
    "postfix = '뒤입니다' if days >= 0 else '지났습니다' \n",
    "# format 메소드 사용\n",
    "print('{}일 {}'.format(abs(days), postfix))"
   ]
  },
  {
   "cell_type": "code",
   "execution_count": 16,
   "metadata": {},
   "outputs": [
    {
     "name": "stdout",
     "output_type": "stream",
     "text": [
      "기념일을 입력하세요. (형식 YYYY-MM-DD): 2020-07-30\n",
      "86일 뒤입니다\n"
     ]
    }
   ],
   "source": [
    "# 두 번째 방식 \n",
    "date = input('기념일을 입력하세요. (형식 YYYY-MM-DD): ')\n",
    "\n",
    "days = (arrow.get(date) - arrow.now()).days + 1\n",
    "postfix = '뒤입니다' if days > 0 else '지났습니다' \n",
    "# f-String 사용\n",
    "print(f'{abs(days)}일 {postfix}')"
   ]
  },
  {
   "cell_type": "markdown",
   "metadata": {},
   "source": [
    "### 문제 23)\n",
    "아래 코드를 실행하면 2019년도 4월 달력이 출력된다.\n",
    "```python\n",
    "print('{}년 {}월'.format(arrow.now().year, arrow.now().month))\n",
    "print('일 월 화 수 목 금 토')\n",
    "for i in range(1,31):\n",
    "    print('{:2}'.format(i), end=' ')       # 일자를 2자리로 맞추어 출력하고, 일자와 일자 사이에 공백 하나를 둔다.\n",
    "    if arrow.get(2019,4,i).weekday() == 5: # 토요일이면,\n",
    "        print()                            # 다음 라인으로 넘긴다.\n",
    "```  \n",
    "```\n",
    "2019년 4월\n",
    "일 월 화 수 목 금 토\n",
    " 1  2  3  4  5  6 \n",
    " 7  8  9 10 11 12 13 \n",
    "14 15 16 17 18 19 20 \n",
    "21 22 23 24 25 26 27 \n",
    "28 29 30\n",
    "```\n",
    "하지만 이 코드에는 오류가 있다. 즉, 4월1일부터 6일까지 하루씩 앞당겨 잘못된 요일을 출력한다는 점(4월1일은 월요일)이다.  \n",
    "어떻게 수정하면 제대로 된 달력을 출력할 수 있을까? "
   ]
  },
  {
   "cell_type": "code",
   "execution_count": 5,
   "metadata": {},
   "outputs": [
    {
     "name": "stdout",
     "output_type": "stream",
     "text": [
      "2020년 5월\n",
      "일 월 화 수 목 금 토\n",
      "    1  2  3  4  5  6 \n",
      " 7  8  9 10 11 12 13 \n",
      "14 15 16 17 18 19 20 \n",
      "21 22 23 24 25 26 27 \n",
      "28 29 30 "
     ]
    }
   ],
   "source": [
    "import arrow\n",
    "print('{}년 {}월'.format(arrow.now().year, arrow.now().month))\n",
    "print('일 월 화 수 목 금 토')\n",
    "#\n",
    "#\n",
    "for i in range(1):\n",
    "    print('   ', end='')\n",
    "\n",
    "for i in range(1,31):\n",
    "    print('{:2}'.format(i), end=' ')       # 일자를 2자리로 맞추어 출력하고, 일자와 일자 사이에 공백 하나를 둔다.\n",
    "    if arrow.get(2019,4,i).weekday() == 5: # 토요일이면,\n",
    "        print()                            # 다음 라인으로 넘긴다.\n",
    "        \n",
    "# 2019년 그대로 하면 된다. if 돌리면 요일이 안 맞는다. 최대한 해보기"
   ]
  },
  {
   "cell_type": "markdown",
   "metadata": {},
   "source": [
    "23) 문제 풀이 설명\n",
    "- 교수님께서 주신 코드를 봤을 때, 처음에 arrow.now를 사용해서 년 월을 사용해서 바꼇다. 2020년 5월로 출력 됐지만, 교수님께서 언급하셨던 2019년 4월 그대로 하면 된다고 하셔서 2019년 4월 기준으로 달력을 만들어 보기로 했다.\n",
    "- 처음부터 추가해야 되는 부분을 건드린 것이 아니라 for i in range(1,31): 구문이 어떻게 작동하는 지 확인하고, 출력값을 변경하면서 어떤 부분이 달력처럼 보이도록 하는지 확인해 봤을 때, end=' '부분이 \\n을 담당하는 것을 알 수 있었다. 그래서 처음에 2019년 4월달은 일요일 값만 blank 부분이므로 총 빈칸이 3칸이 필요하다는 것을 알게 되었다. print('   ', end='')을 만들고 달력에서 토요일부터 1일이 시작하는 경우도 있으므로 for 구문을 만들어서 range 부분만 바꾸면 만들 수 있도록 조치를 취했다."
   ]
  },
  {
   "cell_type": "code",
   "execution_count": 17,
   "metadata": {},
   "outputs": [
    {
     "name": "stdout",
     "output_type": "stream",
     "text": [
      "2020년 5월\n",
      "일 월 화 수 목 금 토\n",
      "                1  2 \n",
      " 3  4  5  6  7  8  9 \n",
      "10 11 12 13 14 15 16 \n",
      "17 18 19 20 21 22 23 \n",
      "24 25 26 27 28 29 30 \n",
      "31 "
     ]
    }
   ],
   "source": [
    "# 교수님 풀이과정\n",
    "# 2019년 4월 뿐만아니라 특정 년월에 관계없는 달력 생성\n",
    "\n",
    "year = arrow.now().year\n",
    "month = arrow.now().month\n",
    "print(f'{year}년 {month}월')\n",
    "print('일 월 화 수 목 금 토')\n",
    "\n",
    "wd = arrow.get(year, month, 1).weekday()          # 이번 달 1일의 요일을 구한 후 \n",
    "for i in range((wd+1)%7):                        # 1일을 출력하기 전 적절한 공백을 출력한다.\n",
    "    print('{:2}'.format(''), end=' ')             # 예: 금요일이면 weekday값이 4이므로 (4+1) % 7 = 5, 즉 5번 반복하면서 공백을 출력\n",
    "\n",
    "# % 7하는 이유는 일때 계산 하기 위해서 한다.\n",
    "\n",
    "last_day = arrow.get(year, month, 1).ceil('month').day # 이번 달이 몇일까지 있는지 ceil 메쏘드로 구함    \n",
    "for i in range(1, last_day+1):\n",
    "    print('{:2}'.format(i), end=' ')              # 일자를 2자리로 맞추어 출력하고, 일자와 일자 사이에 공백 하나를 둔다.\n",
    "    if arrow.get(year, month, i).weekday() == 5:  # 토요일이면,\n",
    "        print()                                   # 다음 라인으로 넘긴다.\n",
    "        \n",
    "# if문으로도 풀 수 있다. But, 코드가 길어져서 안된다."
   ]
  },
  {
   "cell_type": "markdown",
   "metadata": {},
   "source": [
    "### 문제 24)\n",
    "<img src=\"http://archivenew.vop.co.kr/images/9c419c2c579399e3db2fab3e8fdc473f/2011-11/09065222_02c0301_010.gif\" width=500 height=350><br>\n",
    "주민등록번호를 입력하면 성별과 나이(우리나라 나이)를 출력하는 프로그램을 작성하시오. *Hint: 문자열 인덱싱은 리스트 인덱싱과 동일함*\n",
    "```python\n",
    ">>> 주민번호를 입력하세요: 990108-1234567\n",
    "성별: 남\n",
    "나이: 20    \n",
    "```"
   ]
  },
  {
   "cell_type": "code",
   "execution_count": 3,
   "metadata": {},
   "outputs": [
    {
     "name": "stdout",
     "output_type": "stream",
     "text": [
      "주민번호를 입력하세요: 990108-1234567\n"
     ]
    }
   ],
   "source": [
    "ssn = input('주민번호를 입력하세요: ')"
   ]
  },
  {
   "cell_type": "code",
   "execution_count": 9,
   "metadata": {},
   "outputs": [
    {
     "name": "stdout",
     "output_type": "stream",
     "text": [
      "성별 : 남자\n",
      "나이 : 22\n"
     ]
    }
   ],
   "source": [
    "# ssn[:2] => 출생연도\n",
    "# ssn[2:4] => 월\n",
    "# ssn[4:6] => 일\n",
    "# ssn[7] => 성별코드\n",
    "# ssn[8:12] => 출생지역조합번호\n",
    "# ssn[12] => 출생지역의 같은 성씨 출생신고 순번\n",
    "# ssn[13] => 오류검증번호\n",
    "# 개략적인 logic은 다음과 같음:\n",
    "# if 성별코드 == '1' 또는 '3' then '남자' else '여자'\n",
    "# if 성별코드 == '1' 또는 '3' then 2020 - (1900+int(출생연도)) + 1 else 2020 - (2000+int(출생연도)) + 1\n",
    "import arrow\n",
    "date1 = arrow.get('200101','YYMMDD')\n",
    "date2 = arrow.get(ssn[:6], 'YYMMDD')\n",
    "difference = date1 - date2\n",
    "age = round(difference.days/365) + 1\n",
    "출생연도 = ssn[:2]\n",
    "월 = ssn[2:4]\n",
    "일 = ssn[4:6]\n",
    "성별코드 = ssn[7]\n",
    "if 성별코드 == 1 or 3:\n",
    "    print(\"성별 : 남자\")\n",
    "    print(\"나이 :\", age)\n",
    "elif 성별코드 == 2 or 4:\n",
    "    print(\"성별 : 여자\")\n",
    "    print(\"나이 :\", age)\n",
    "else:\n",
    "    print(\"잘못 입력하셨습니다. 다시 입력해 주시기 바랍니다.\")\n",
    "    ssn"
   ]
  },
  {
   "cell_type": "code",
   "execution_count": 18,
   "metadata": {},
   "outputs": [
    {
     "name": "stdout",
     "output_type": "stream",
     "text": [
      "주민번호를 입력하세요: 940531-1063519\n",
      "성별: 남\n",
      "나이: 27\n"
     ]
    }
   ],
   "source": [
    "# 교수님 풀이과정\n",
    "ssn = input('주민번호를 입력하세요: ')\n",
    "\n",
    "year = ssn[:2]  # 출생연도\n",
    "gender = ssn[7] # 성별코드\n",
    "\n",
    "# 성별은 format 매소드와 one-liner 사용\n",
    "print('성별: {}'.format('남' if gender == '1' or gender == '3' else '여'))\n",
    "\n",
    "# 나이는 f-String과 one-liner 사용\n",
    "age = 2020 - (1900+int(year)) if gender == '1' or gender == '3' else 2020 - (2000+int(year))\n",
    "print(f'나이: {age+1}')\n",
    "\n",
    "# if 성별코드 == 1 or 3:으로 코딩하는 건 잘못되게 한거다.\n",
    "# one-linear 쓰는 연습 많이 해봣으면 좋겠다."
   ]
  },
  {
   "cell_type": "markdown",
   "metadata": {},
   "source": [
    "24) 풀이 방법 설명\n",
    "- 기본적으로 문제에서 알아내고 싶어하는 부분은 성별하고 나이이다. 그러므로 성별하고 나이를 확인 할 수 있는 부분 : 앞부터 총 7자리 숫자만 알면 기본적으로 풀이가 가능하다.\n",
    "- ssn[:6]까지는 나이 계산하는 데 사용하고, ssn[7]은 성별 계산하는데 사용한다.\n",
    "- 일반적으로 성별 계산하는 게 더 쉬운 편이라 우선 성별코드 1 or 3이면 남자로 분류하고, 성별코드가 2 or 4이면 여자로 분류한다.\n",
    "- if문으로 분류 한 이휴 나이 계산에 들어가는데 나이 계산은 날짜 빼기를 통해서 2020년 현재와 태어난 년월생을 계산하면 총 일수가 나온다. 거기서 365로 나누게 되면 나이가 얼추 나오게 된다. 하지만 정확한 나이는 아니므로 소수점 반올림을 통해서 계산한 이후 예시에서 확인했을 때 만 나이로 구하는 것이 아니라 판단해 +1를 더 해줬다. 소수점 반올림은 round()함수를 이용했다. 마지막으로, 성별코드가 1,2,3,4가 아닌 경우 다시 입력하게 하는 else를 넣어서 다시 입력하게 만들었다."
   ]
  },
  {
   "cell_type": "markdown",
   "metadata": {},
   "source": [
    "### 문제 25)"
   ]
  },
  {
   "cell_type": "markdown",
   "metadata": {},
   "source": [
    "현재까지의 강의 전반에 대해 총평을 하고, 개선 및 건의 사항이 있으면 적극 말하시오."
   ]
  },
  {
   "cell_type": "markdown",
   "metadata": {},
   "source": [
    " 제가 교수님 강의를 처음으로 들어보는 입장으로써, 현재 진행하고 계시는 강의는 현강이 온라인 강의로 전환되면서 발생한 장단점 밖에 없는 것 같습니다. 휴강 포함 7주차까지 진행되면서 예전에 배웠던 파이썬 문법, 코딩하는 것에 대해서 다시 복습하는 시간이 되어서 좋았습니다. 예전 대학교에서 듣던 파이썬강의에 비해서 연습문제가 있어서 좀 더 복합적으로 제가 문제를 해결해보고 풀어볼 수 있던 점이 가장 좋았습니다. 단점이라면 역시 온라인 강의이다 보니, 소통적으로 문제도 생기고, 현강에 비해서 공부하는 마음가짐이 조금 안 잡힐 뿐, 그 외에 단점은 없습니다.\n",
    " 건의 사항으로는 딱 한 가지 생각해본 것이 있습니다. 지금도 연습 문제가 그 주의 배운 내용을 토대로 풀어가면 어느 정도 학습하면서 풀 수 있지만, 주마다 2~3문제 정도가 더 있어서 기본적으로 학생들이 개인학습을 조금씩 더 할 수 있게 만들면 좋겠다는 생각입니다. 그 외에는, 제가 느꼇을 땐 저는 대학원생으로써 선수과목을 듣길 잘했다는 생각뿐입니다. "
   ]
  },
  {
   "cell_type": "markdown",
   "metadata": {},
   "source": [
    "<font color = \"#CC3D3D\"><p>\n",
    "# End"
   ]
  },
  {
   "cell_type": "code",
   "execution_count": 12,
   "metadata": {},
   "outputs": [
    {
     "ename": "TypeError",
     "evalue": "'x' is an invalid keyword argument for print()",
     "output_type": "error",
     "traceback": [
      "\u001b[1;31m---------------------------------------------------------------------------\u001b[0m",
      "\u001b[1;31mTypeError\u001b[0m                                 Traceback (most recent call last)",
      "\u001b[1;32m<ipython-input-12-e6dffd2fb705>\u001b[0m in \u001b[0;36m<module>\u001b[1;34m\u001b[0m\n\u001b[1;32m----> 1\u001b[1;33m \u001b[0mprint\u001b[0m\u001b[1;33m(\u001b[0m\u001b[1;33m**\u001b[0m\u001b[1;33m{\u001b[0m\u001b[1;34m'x'\u001b[0m\u001b[1;33m:\u001b[0m\u001b[1;36m3\u001b[0m\u001b[1;33m,\u001b[0m\u001b[1;34m'y'\u001b[0m\u001b[1;33m:\u001b[0m\u001b[1;36m4\u001b[0m\u001b[1;33m}\u001b[0m\u001b[1;33m)\u001b[0m\u001b[1;33m\u001b[0m\u001b[1;33m\u001b[0m\u001b[0m\n\u001b[0m",
      "\u001b[1;31mTypeError\u001b[0m: 'x' is an invalid keyword argument for print()"
     ]
    }
   ],
   "source": [
    "print(**{'x':3,'y':4}) # error print에는 파라미터 x와 y는 없기에....\n",
    "print(x:3,y:4)"
   ]
  },
  {
   "cell_type": "code",
   "execution_count": null,
   "metadata": {},
   "outputs": [],
   "source": []
  }
 ],
 "metadata": {
  "kernelspec": {
   "display_name": "Python 3",
   "language": "python",
   "name": "python3"
  },
  "language_info": {
   "codemirror_mode": {
    "name": "ipython",
    "version": 3
   },
   "file_extension": ".py",
   "mimetype": "text/x-python",
   "name": "python",
   "nbconvert_exporter": "python",
   "pygments_lexer": "ipython3",
   "version": "3.7.6"
  }
 },
 "nbformat": 4,
 "nbformat_minor": 2
}
