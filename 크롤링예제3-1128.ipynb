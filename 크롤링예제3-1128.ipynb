{
 "cells": [
  {
   "cell_type": "code",
   "execution_count": 1,
   "id": "837a84ef-0840-46d2-a8fe-c174f59f1242",
   "metadata": {},
   "outputs": [],
   "source": [
    "import requests\n",
    "from bs4 import BeautifulSoup"
   ]
  },
  {
   "cell_type": "code",
   "execution_count": 3,
   "id": "b7aa771b-da6f-4d1d-8f0c-024352010cf3",
   "metadata": {},
   "outputs": [],
   "source": [
    "import requests\n",
    "from bs4 import BeautifulSoup"
   ]
  },
  {
   "cell_type": "code",
   "execution_count": 23,
   "id": "89ef6331-1037-4024-8888-16c44ef83354",
   "metadata": {},
   "outputs": [],
   "source": [
    "url='https://finance.naver.com/'\n",
    "soup=[]\n",
    "response = requests.get(url)\n",
    "html = response.text\n",
    "soup = BeautifulSoup(html, 'html.parser')\n"
   ]
  },
  {
   "cell_type": "code",
   "execution_count": 10,
   "id": "ed9dcaa3-434f-46e2-a4bc-8bfae6a4629b",
   "metadata": {},
   "outputs": [
    {
     "data": {
      "text/plain": [
       "'거래상위'"
      ]
     },
     "execution_count": 10,
     "metadata": {},
     "output_type": "execute_result"
    }
   ],
   "source": [
    "soup.select_one('#content > div.article > div.section > div.section_sise_top > ul > li.tab1 > a > span').text"
   ]
  },
  {
   "cell_type": "code",
   "execution_count": 16,
   "id": "95097cdb-6b27-457b-902a-ef9ffccdcb9f",
   "metadata": {},
   "outputs": [
    {
     "data": {
      "text/plain": [
       "'KODEX 200선물인버스2X'"
      ]
     },
     "execution_count": 16,
     "metadata": {},
     "output_type": "execute_result"
    }
   ],
   "source": [
    "soup.select_one('#_topItems1 > tr:nth-child(1) > th > a').text"
   ]
  },
  {
   "cell_type": "code",
   "execution_count": 12,
   "id": "a850d4a6-4369-4889-ae41-8fa3f381a7f4",
   "metadata": {},
   "outputs": [
    {
     "data": {
      "text/plain": [
       "'3,100'"
      ]
     },
     "execution_count": 12,
     "metadata": {},
     "output_type": "execute_result"
    }
   ],
   "source": [
    "soup.select_one('#_topItems1 > tr:nth-child(1) > td:nth-child(2)').text"
   ]
  },
  {
   "cell_type": "code",
   "execution_count": 14,
   "id": "46765ff3-8b87-45f1-88a7-a3e48c0ccbc4",
   "metadata": {},
   "outputs": [
    {
     "data": {
      "text/plain": [
       "'  +2.65%  '"
      ]
     },
     "execution_count": 14,
     "metadata": {},
     "output_type": "execute_result"
    }
   ],
   "source": [
    "soup.select_one('#_topItems1 > tr:nth-child(1) > td:nth-child(4)').text"
   ]
  },
  {
   "cell_type": "code",
   "execution_count": null,
   "id": "87b6aa46-57e6-4892-98ce-84bb7d7c78ef",
   "metadata": {},
   "outputs": [],
   "source": []
  },
  {
   "cell_type": "code",
   "execution_count": null,
   "id": "8925fafa-1d57-4113-941a-21f8e65f3193",
   "metadata": {},
   "outputs": [],
   "source": []
  }
 ],
 "metadata": {
  "kernelspec": {
   "display_name": "Python 3 (ipykernel)",
   "language": "python",
   "name": "python3"
  },
  "language_info": {
   "codemirror_mode": {
    "name": "ipython",
    "version": 3
   },
   "file_extension": ".py",
   "mimetype": "text/x-python",
   "name": "python",
   "nbconvert_exporter": "python",
   "pygments_lexer": "ipython3",
   "version": "3.9.13"
  }
 },
 "nbformat": 4,
 "nbformat_minor": 5
}
