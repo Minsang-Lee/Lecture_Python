{
 "cells": [
  {
   "cell_type": "markdown",
   "metadata": {},
   "source": [
    "<font color = \"#CC3D3D\"><p>\n",
    "# Flow Control (I)\n",
    " \n",
    "- **Conditional Execution**\n",
    "- **Loops and Iteration**"
   ]
  },
  {
   "cell_type": "markdown",
   "metadata": {},
   "source": [
    "# if 문"
   ]
  },
  {
   "cell_type": "markdown",
   "metadata": {},
   "source": [
    "- python에서 조건에 따라 다른 코드를 실행하고 싶을때, `if` 문을 사용한다.  \n",
    "- `if` 문은 기본적으로 조건문과 실행할 문장(들)으로 이루어져 있다.\n",
    "- `if` 문 안에 들어있는 문장(들)은 조건문이 참(True)일 경우에만 실행된다.\n",
    "- :이 무조건 들어가야 한다.\n",
    "- 인덱션이 아주 중요하다! 보기 편하게 만들기 위해서 필요함\n",
    "```python\n",
    "if condition:\n",
    "    statements\n",
    "```    "
   ]
  },
  {
   "cell_type": "code",
   "execution_count": 1,
   "metadata": {},
   "outputs": [
    {
     "name": "stdout",
     "output_type": "stream",
     "text": [
      "large\n",
      "more\n"
     ]
    }
   ],
   "source": [
    "a = 10\n",
    "if a > 5:\n",
    "    print('large')\n",
    "    print('more')"
   ]
  },
  {
   "cell_type": "markdown",
   "metadata": {},
   "source": [
    " - 자바 if문은 구조가 이렇게 된다. 파이썬과 달리 statements 부분의 줄맞춤을 안해도 상관이 없다. \n",
    "'''\n",
    "if (a > 5) {\n",
    "    print('large')\n",
    "    ............\n",
    "}\n",
    "'''\n"
   ]
  },
  {
   "cell_type": "markdown",
   "metadata": {},
   "source": [
    "### if else"
   ]
  },
  {
   "cell_type": "markdown",
   "metadata": {},
   "source": [
    "만약 조건문이 충족되지 않았을 경우, 다른 코드를 실행시키고 싶다면, `else`를 사용하면 된다.  'else'도 : 들어간다. \n",
    "```python\n",
    "if condition:\n",
    "    statements\n",
    "else:\n",
    "    statements\n",
    "```    "
   ]
  },
  {
   "cell_type": "code",
   "execution_count": 7,
   "metadata": {},
   "outputs": [
    {
     "name": "stdout",
     "output_type": "stream",
     "text": [
      "large\n"
     ]
    }
   ],
   "source": [
    "b = 10\n",
    "if b > 5:          # b가 5보다 크면, \n",
    "    print('large') # large를 출력하고, \n",
    "else:              # 크지 않으면, \n",
    "    print('small') # small을 출력한다."
   ]
  },
  {
   "cell_type": "markdown",
   "metadata": {},
   "source": [
    "### if elif else"
   ]
  },
  {
   "cell_type": "markdown",
   "metadata": {},
   "source": [
    "복수의 조건에 따라 실행을 달리하는 문장을 지정하고 싶다면, `elif` 문을 사용하면 된다   (elif는 else if의 줄임말)\n",
    "```python\n",
    "if condition-1:\n",
    "    statements \n",
    "elif condition-2:\n",
    "    statements\n",
    "else:\n",
    "    statements\n",
    "```"
   ]
  },
  {
   "cell_type": "code",
   "execution_count": 3,
   "metadata": {},
   "outputs": [
    {
     "name": "stdout",
     "output_type": "stream",
     "text": [
      "three three\n"
     ]
    }
   ],
   "source": [
    "i = 3\n",
    "if i == 2:\n",
    "    print('two two') \n",
    "elif i == 3: \n",
    "    print('three three') \n",
    "else:\n",
    "    print('.')"
   ]
  },
  {
   "cell_type": "code",
   "execution_count": 4,
   "metadata": {},
   "outputs": [
    {
     "name": "stdout",
     "output_type": "stream",
     "text": [
      "청년\n"
     ]
    }
   ],
   "source": [
    "age = 28\n",
    "\n",
    "if age < 20:\n",
    "    print('미성년') \n",
    "elif age < 40:\n",
    "    print('청년') \n",
    "elif age < 65: \n",
    "    print('중년')\n",
    "else:\n",
    "    print('노인')"
   ]
  },
  {
   "cell_type": "markdown",
   "metadata": {},
   "source": [
    "### if 문장 한 줄로 쓰기 (one-liner)\n",
    "- 처음보는 내용! 꼭 외워두기!"
   ]
  },
  {
   "cell_type": "code",
   "execution_count": 8,
   "metadata": {},
   "outputs": [],
   "source": [
    "x = 'large' if b > 5 else 'small'"
   ]
  },
  {
   "cell_type": "code",
   "execution_count": 9,
   "metadata": {},
   "outputs": [],
   "source": [
    "y = {i == 2: 'two two', i == 3: 'three three'}.get(True, '.') # elif 들어간 조건문! else 값이 .get(True, '.')이다."
   ]
  },
  {
   "cell_type": "code",
   "execution_count": 10,
   "metadata": {},
   "outputs": [
    {
     "data": {
      "text/plain": [
       "('large', 'three three')"
      ]
     },
     "execution_count": 10,
     "metadata": {},
     "output_type": "execute_result"
    }
   ],
   "source": [
    "x, y"
   ]
  },
  {
   "cell_type": "markdown",
   "metadata": {},
   "source": [
    "### Nested if\n",
    "`if` 문 안에 `if` 문을 중복해서 사용할 수 있다. 중첩된 if문"
   ]
  },
  {
   "cell_type": "code",
   "execution_count": 13,
   "metadata": {},
   "outputs": [
    {
     "name": "stdout",
     "output_type": "stream",
     "text": [
      "할머니\n"
     ]
    }
   ],
   "source": [
    "# 이전과 같은 호칭을 지정하는 프로그램에서 성별 옵션도 추가하자.\n",
    "# 나이가 65세 이상인데, 남성이면 '할아버지', 여성이면 '할머니'로 결과를 출력하도록 하자.\n",
    "\n",
    "age = 67 \n",
    "gender = 'female'\n",
    "\n",
    "if age < 20:\n",
    "    print('미성년') \n",
    "elif age < 40:\n",
    "    print('청년') \n",
    "elif age < 65:\n",
    "    print('중년')\n",
    "else:\n",
    "    if gender == 'male':\n",
    "        print('할아버지')\n",
    "    else:\n",
    "        print('할머니')\n",
    "        \n",
    "        \n",
    "        \n",
    "elif gender == 'male':\n",
    "    print('할아버지')\n",
    "else:\n",
    "    print('할머니') "
   ]
  },
  {
   "cell_type": "markdown",
   "metadata": {},
   "source": [
    "# for 문"
   ]
  },
  {
   "cell_type": "markdown",
   "metadata": {},
   "source": [
    "`for` 문의 형식:\n",
    "***\n",
    "```python\n",
    "for variable in iterable:\n",
    "    repeated statement 1\n",
    "    repeated statement 2\n",
    "    ...\n",
    "```\n",
    "\n",
    "***\n",
    "iterable 객체(range, 리스트, 튜플, 사전, 집합, 문자열)의 첫 번째 요소부터 마지막 요소까지 차례로 variable(변수)에 대입되면서 같은 문장(repeated statement 1, 2, ...)를 반복해서 실행한다.\n",
    "\n",
    "for문과 while문의 차이 : 정해진 횟수가 존재하느냐, 않느냐의 차이!!!"
   ]
  },
  {
   "cell_type": "markdown",
   "metadata": {},
   "source": [
    "*Ranges as an iterable*"
   ]
  },
  {
   "cell_type": "code",
   "execution_count": 14,
   "metadata": {},
   "outputs": [
    {
     "name": "stdout",
     "output_type": "stream",
     "text": [
      "0\n",
      "1\n",
      "2\n",
      "3\n",
      "4\n"
     ]
    }
   ],
   "source": [
    "for x in range(5):\n",
    "    print(x)"
   ]
  },
  {
   "cell_type": "code",
   "execution_count": 2,
   "metadata": {},
   "outputs": [
    {
     "data": {
      "text/plain": [
       "[0, 1, 2, 3, 4]"
      ]
     },
     "execution_count": 2,
     "metadata": {},
     "output_type": "execute_result"
    }
   ],
   "source": [
    "list(range(0,5))\n",
    "# [0,1,2,3,4] == range(0,5)"
   ]
  },
  {
   "cell_type": "markdown",
   "metadata": {},
   "source": [
    "*Lists as an iterable*"
   ]
  },
  {
   "cell_type": "code",
   "execution_count": 18,
   "metadata": {},
   "outputs": [
    {
     "name": "stdout",
     "output_type": "stream",
     "text": [
      "hey\n",
      "5\n",
      "d\n"
     ]
    }
   ],
   "source": [
    "for x in ['hey', 5, 'd']:\n",
    "    print(x)"
   ]
  },
  {
   "cell_type": "code",
   "execution_count": 20,
   "metadata": {},
   "outputs": [
    {
     "name": "stdout",
     "output_type": "stream",
     "text": [
      "14\n",
      "18\n",
      "23\n",
      "22\n"
     ]
    }
   ],
   "source": [
    "# 아래 for 문 안에 사용되는 age는 리스트 안의 항목을 지칭하기 위한 일시적인 변수 이름이다.\n",
    "# 만약 for문 전에 age = 100 이라고 변수를 지정해준다면, for문에서 사용되는 age에 의해 덮어쓰여진다.\n",
    "# 변수명 맘대로 지어도 된다. 루프 돌리기 위해서 필요한 변수명이기 때문\n",
    "\n",
    "age = 100\n",
    "for age in [13, 17, 22]:\n",
    "    print(age + 1)\n",
    "print(age)\n",
    "\n",
    "# 유의할점!!! print(age)가 22로 출력되는 이유 : age란 변수와 for문 안에 들어간 age 변수명이 겹치기 때문!! 그래서, for문 안에 들어가는 변수는 전에 쓰던 변수명이랑 겹치지 않아야 한다."
   ]
  },
  {
   "cell_type": "markdown",
   "metadata": {},
   "source": [
    "*Strings as an iterable*"
   ]
  },
  {
   "cell_type": "code",
   "execution_count": 23,
   "metadata": {},
   "outputs": [
    {
     "name": "stdout",
     "output_type": "stream",
     "text": [
      "Hello World\n"
     ]
    }
   ],
   "source": [
    "for x in [\"Hello World\"]:\n",
    "    print(x)"
   ]
  },
  {
   "cell_type": "code",
   "execution_count": 24,
   "metadata": {},
   "outputs": [
    {
     "name": "stdout",
     "output_type": "stream",
     "text": [
      "H\n",
      "e\n",
      "l\n",
      "l\n",
      "o\n",
      " \n",
      "W\n",
      "o\n",
      "r\n",
      "l\n",
      "d\n"
     ]
    }
   ],
   "source": [
    "for x in \"Hello World\":\n",
    "    print(x)"
   ]
  },
  {
   "cell_type": "markdown",
   "metadata": {},
   "source": [
    "두 for문의 차이점 : 대괄호의 유무! 대괄호 들어가면 하나의 문자열로 인정하지만, 대괄호가 들어가지 않으면 하나씩 루프문 돌린다."
   ]
  },
  {
   "cell_type": "markdown",
   "metadata": {},
   "source": [
    "*Dictionaries as an iterable*\n",
    "\n",
    "딕셔너리 돌릴 때는 아래의 3가지 유형을 확인해서 쓸 것! ( 그냥 쓸 경우, .values()로 쓰면 값만 출력, .items()하면 둘 다 출력"
   ]
  },
  {
   "cell_type": "code",
   "execution_count": 25,
   "metadata": {},
   "outputs": [
    {
     "name": "stdout",
     "output_type": "stream",
     "text": [
      "name\n",
      "age\n"
     ]
    }
   ],
   "source": [
    "for x in {'name': 'cho', 'age': 22}:\n",
    "    print(x)"
   ]
  },
  {
   "cell_type": "code",
   "execution_count": 26,
   "metadata": {},
   "outputs": [
    {
     "name": "stdout",
     "output_type": "stream",
     "text": [
      "cho\n",
      "22\n"
     ]
    }
   ],
   "source": [
    "for x in {'name': 'cho', 'age': 22}.values():\n",
    "    print(x)"
   ]
  },
  {
   "cell_type": "code",
   "execution_count": 27,
   "metadata": {},
   "outputs": [
    {
     "name": "stdout",
     "output_type": "stream",
     "text": [
      "('name', 'cho')\n",
      "('age', 22)\n"
     ]
    }
   ],
   "source": [
    "for x in {'name': 'cho', 'age': 22}.items():\n",
    "    print(x)"
   ]
  },
  {
   "cell_type": "markdown",
   "metadata": {},
   "source": [
    "### Loop over Lists of lists\n",
    "\n",
    "- 차이점을 잘 확인할 것!"
   ]
  },
  {
   "cell_type": "code",
   "execution_count": 29,
   "metadata": {},
   "outputs": [
    {
     "name": "stdout",
     "output_type": "stream",
     "text": [
      "[1, 2, 3]\n",
      "[4, 5, 6]\n",
      "[7, 8, 9]\n"
     ]
    }
   ],
   "source": [
    "list_of_lists = [[1, 2, 3], [4, 5, 6], [7, 8, 9]]\n",
    "for x in list_of_lists:\n",
    "    print(x)\n",
    "    \n",
    "# list_of_lists는 3 X 3 행렬 for 루프는 총 3번 돈다."
   ]
  },
  {
   "cell_type": "code",
   "execution_count": 30,
   "metadata": {},
   "outputs": [
    {
     "name": "stdout",
     "output_type": "stream",
     "text": [
      "1 2 3\n",
      "4 5 6\n",
      "7 8 9\n"
     ]
    }
   ],
   "source": [
    "list_of_lists = [[1, 2, 3], [4, 5, 6], [7, 8, 9]]\n",
    "for x in list_of_lists:\n",
    "    print(x[0],x[1],x[2])"
   ]
  },
  {
   "cell_type": "markdown",
   "metadata": {},
   "source": [
    "x, y, z = (1,2,3)\n",
    "\n",
    "밑의 방법은 이 원리로 작동"
   ]
  },
  {
   "cell_type": "code",
   "execution_count": 31,
   "metadata": {},
   "outputs": [
    {
     "name": "stdout",
     "output_type": "stream",
     "text": [
      "1 2 3\n",
      "4 5 6\n",
      "7 8 9\n"
     ]
    }
   ],
   "source": [
    "list_of_lists = [[1, 2, 3], [4, 5, 6], [7, 8, 9]]\n",
    "for x,y,z in list_of_lists:\n",
    "    print(x,y,z)"
   ]
  },
  {
   "cell_type": "code",
   "execution_count": 32,
   "metadata": {},
   "outputs": [
    {
     "name": "stdout",
     "output_type": "stream",
     "text": [
      "1\n",
      "4\n",
      "7\n"
     ]
    }
   ],
   "source": [
    "list_of_lists = [[1, 2, 3], [4, 5, 6], [7, 8, 9]]\n",
    "for x,_,_ in list_of_lists:\n",
    "    print(x)"
   ]
  },
  {
   "cell_type": "markdown",
   "metadata": {},
   "source": [
    "### 파이썬만의 특징 3가지 Enumerate, Zip, List Comprehension"
   ]
  },
  {
   "cell_type": "markdown",
   "metadata": {},
   "source": [
    "### Enumerate"
   ]
  },
  {
   "cell_type": "markdown",
   "metadata": {},
   "source": [
    "`for` 문을 `enumerate()`와 같이 사용하면, 각 요소의 값과 인덱스 값을 동시에 얻을 수 있다."
   ]
  },
  {
   "cell_type": "code",
   "execution_count": 35,
   "metadata": {},
   "outputs": [
    {
     "name": "stdout",
     "output_type": "stream",
     "text": [
      "0 사과\n",
      "1 포도\n",
      "2 딸기\n"
     ]
    }
   ],
   "source": [
    "name = ['사과', '포도', '딸기']\n",
    "for i, j in enumerate(name):\n",
    "    print(i, j)"
   ]
  },
  {
   "cell_type": "code",
   "execution_count": 37,
   "metadata": {},
   "outputs": [
    {
     "data": {
      "text/plain": [
       "[(0, '사과'), (1, '포도'), (2, '딸기')]"
      ]
     },
     "execution_count": 37,
     "metadata": {},
     "output_type": "execute_result"
    }
   ],
   "source": [
    "list(enumerate(name))"
   ]
  },
  {
   "cell_type": "markdown",
   "metadata": {},
   "source": [
    "만약 인덱스의 시작값을 바꾸고 싶다면, 원하는 시작값을 넘겨줄 수 있다. 예시로 인덱스 값을 1로 시작하게 바꿔보자."
   ]
  },
  {
   "cell_type": "code",
   "execution_count": 2,
   "metadata": {},
   "outputs": [
    {
     "name": "stdout",
     "output_type": "stream",
     "text": [
      "1 사과\n",
      "2 포도\n",
      "3 딸기\n"
     ]
    }
   ],
   "source": [
    "name = ['사과', '포도', '딸기']\n",
    "for i, j in enumerate(name, 1):\n",
    "    print(i, j)\n",
    "# enumerate(name, 1) 여기서 1은 시작값을 주는 것이다."
   ]
  },
  {
   "cell_type": "markdown",
   "metadata": {},
   "source": [
    "### Zip\n",
    "같은 길이(중요~)의 여러 리스트로부터 인덱스가 같은 값끼리 묶어서 리스트로 반환한다."
   ]
  },
  {
   "cell_type": "code",
   "execution_count": 41,
   "metadata": {},
   "outputs": [
    {
     "data": {
      "text/plain": [
       "[(34, 45, 5), (30, 48, 10), (26, 25, 8), (40, 50, 10)]"
      ]
     },
     "execution_count": 41,
     "metadata": {},
     "output_type": "execute_result"
    }
   ],
   "source": [
    "중간고사 = [34, 30, 26, 40]\n",
    "기말고사 = [45, 48, 25, 50]\n",
    "과제점수 = [5, 10, 8, 10]\n",
    "\n",
    "list(zip(중간고사, 기말고사, 과제점수))"
   ]
  },
  {
   "cell_type": "code",
   "execution_count": 42,
   "metadata": {},
   "outputs": [
    {
     "name": "stdout",
     "output_type": "stream",
     "text": [
      "[84, 88, 59, 100]\n"
     ]
    }
   ],
   "source": [
    "총점 = []\n",
    "\n",
    "for i, j, k in zip(중간고사, 기말고사, 과제점수):\n",
    "    총점.append(i + j + k)\n",
    "\n",
    "print(총점)"
   ]
  },
  {
   "cell_type": "markdown",
   "metadata": {},
   "source": [
    "### List Comprehension"
   ]
  },
  {
   "cell_type": "markdown",
   "metadata": {},
   "source": [
    "- 파이썬에서 보편적!!!으로 사용되는 `for` 문을 이용한 효율적인 리스트 생성 방법  \n",
    "- 응용하면 다양한 조건으로 리스트를 생성할 수 있는 강력한 기능\n",
    "- 파이썬의 엄청난 강점"
   ]
  },
  {
   "cell_type": "code",
   "execution_count": 51,
   "metadata": {},
   "outputs": [
    {
     "data": {
      "text/plain": [
       "[0, 1, 2, 3, 4, 5, 6, 7, 8, 9, 10, 11, 12, 13, 14, 15, 16, 17, 18, 19]"
      ]
     },
     "execution_count": 51,
     "metadata": {},
     "output_type": "execute_result"
    }
   ],
   "source": [
    "# 0에서 19까지의 정수로 구성된 리스트\n",
    "\n",
    "[i for i in range(20)] # 이 문장 구조를 잘 외워 둘 것!!!!"
   ]
  },
  {
   "cell_type": "markdown",
   "metadata": {},
   "source": [
    "[f(x) if condition else g(x) for x in iterable]\n",
    "[i ** 2 for i in range(20) if i % 2 == 1]\n",
    "\n",
    "1. [f(x) for x in iterable]\n",
    "2. [f(x) for x in iterable if condition]\n",
    "3. [f(x) if condition  else g(x) for x in iterable]"
   ]
  },
  {
   "cell_type": "code",
   "execution_count": 44,
   "metadata": {},
   "outputs": [
    {
     "data": {
      "text/plain": [
       "[0.0,\n",
       " 0.8414709848078965,\n",
       " 0.9092974268256817,\n",
       " 0.1411200080598672,\n",
       " -0.7568024953079282,\n",
       " -0.9589242746631385,\n",
       " -0.27941549819892586,\n",
       " 0.6569865987187891,\n",
       " 0.9893582466233818,\n",
       " 0.4121184852417566,\n",
       " -0.5440211108893698,\n",
       " -0.9999902065507035,\n",
       " -0.5365729180004349,\n",
       " 0.4201670368266409,\n",
       " 0.9906073556948704,\n",
       " 0.6502878401571168,\n",
       " -0.2879033166650653,\n",
       " -0.9613974918795568,\n",
       " -0.7509872467716762,\n",
       " 0.14987720966295234]"
      ]
     },
     "execution_count": 44,
     "metadata": {},
     "output_type": "execute_result"
    }
   ],
   "source": [
    "# sine(0)에서 sine(19)까지의 실수로 구성된 리스트\n",
    "\n",
    "import numpy as np\n",
    "\n",
    "[np.sin(i) for i in range(20)]"
   ]
  },
  {
   "cell_type": "code",
   "execution_count": 52,
   "metadata": {},
   "outputs": [
    {
     "data": {
      "text/plain": [
       "[-1, 1, -1, 3, -1, 5, -1, 7, -1, 9, -1, 11, -1, 13, -1, 15, -1, 17, -1, 19]"
      ]
     },
     "execution_count": 52,
     "metadata": {},
     "output_type": "execute_result"
    }
   ],
   "source": [
    "# 20 이하의 홀수로 만들어진 리스트\n",
    "\n",
    "[i for i in range(20) if i % 2 == 1]\n",
    "z = [i if i % 2 == 1 else - 1 for i in range(20)]\n",
    "z"
   ]
  },
  {
   "cell_type": "markdown",
   "metadata": {},
   "source": [
    "*List Comprehension을 사용하지 않을 경우, 같은 결과를 얻으려면 아래와 같은 보다 긴 코드가 요구된다.*"
   ]
  },
  {
   "cell_type": "code",
   "execution_count": 46,
   "metadata": {},
   "outputs": [
    {
     "data": {
      "text/plain": [
       "[1, 3, 5, 7, 9, 11, 13, 15, 17, 19]"
      ]
     },
     "execution_count": 46,
     "metadata": {},
     "output_type": "execute_result"
    }
   ],
   "source": [
    "z = []\n",
    "for i in range(20):\n",
    "    if i % 2 == 1:\n",
    "        z.append(i)\n",
    "z"
   ]
  },
  {
   "cell_type": "code",
   "execution_count": 53,
   "metadata": {},
   "outputs": [
    {
     "data": {
      "text/plain": [
       "[('sweet', 'john'),\n",
       " ('sweet', 'alice'),\n",
       " ('sweet', 'james'),\n",
       " ('annoying', 'john'),\n",
       " ('annoying', 'alice'),\n",
       " ('annoying', 'james'),\n",
       " ('cool', 'john'),\n",
       " ('cool', 'alice'),\n",
       " ('cool', 'james'),\n",
       " ('grey-eyed', 'john'),\n",
       " ('grey-eyed', 'alice'),\n",
       " ('grey-eyed', 'james')]"
      ]
     },
     "execution_count": 53,
     "metadata": {},
     "output_type": "execute_result"
    }
   ],
   "source": [
    "# 두 리스트의 원소들의 모든 조합\n",
    "\n",
    "epithets = ['sweet', 'annoying', 'cool', 'grey-eyed']\n",
    "names = ['john', 'alice', 'james']\n",
    "epithet_names = [(e, n) for e in epithets for n in names]\n",
    "epithet_names"
   ]
  },
  {
   "cell_type": "code",
   "execution_count": 54,
   "metadata": {},
   "outputs": [
    {
     "data": {
      "text/plain": [
       "[1, 2, 3, 4, 5, 6, 7, 8, 9, 10, 11, 12]"
      ]
     },
     "execution_count": 54,
     "metadata": {},
     "output_type": "execute_result"
    }
   ],
   "source": [
    "# 행렬을 일차원화 시키는 List Comprehension\n",
    "matrix = [\n",
    "  [1, 2, 3, 4],\n",
    "  [5, 6, 7, 8],\n",
    "  [9, 10, 11, 12],\n",
    "]\n",
    "flatten = [e for r in matrix for e in r]\n",
    "flatten"
   ]
  },
  {
   "cell_type": "markdown",
   "metadata": {},
   "source": [
    "### Dict Comprehension\n",
    "List Comprehension과 동일하며 dict를 생성한다."
   ]
  },
  {
   "cell_type": "code",
   "execution_count": 55,
   "metadata": {},
   "outputs": [
    {
     "data": {
      "text/plain": [
       "{0: 0.0,\n",
       " 1: 0.8414709848078965,\n",
       " 2: 0.9092974268256817,\n",
       " 3: 0.1411200080598672,\n",
       " 4: -0.7568024953079282,\n",
       " 5: -0.9589242746631385,\n",
       " 6: -0.27941549819892586,\n",
       " 7: 0.6569865987187891,\n",
       " 8: 0.9893582466233818,\n",
       " 9: 0.4121184852417566,\n",
       " 10: -0.5440211108893698,\n",
       " 11: -0.9999902065507035,\n",
       " 12: -0.5365729180004349,\n",
       " 13: 0.4201670368266409,\n",
       " 14: 0.9906073556948704,\n",
       " 15: 0.6502878401571168,\n",
       " 16: -0.2879033166650653,\n",
       " 17: -0.9613974918795568,\n",
       " 18: -0.7509872467716762,\n",
       " 19: 0.14987720966295234}"
      ]
     },
     "execution_count": 55,
     "metadata": {},
     "output_type": "execute_result"
    }
   ],
   "source": [
    "{i: np.sin(i) for i in range(20)}"
   ]
  },
  {
   "cell_type": "markdown",
   "metadata": {},
   "source": [
    "파이썬 문법 특징 : 간결함"
   ]
  },
  {
   "cell_type": "markdown",
   "metadata": {},
   "source": [
    "# while 문\n",
    "`while` 문의 형식:\n",
    "***\n",
    "```python\n",
    "while condition:\n",
    "    repeated statement 1\n",
    "    repeated statement 2\n",
    "    ...\n",
    "```\n",
    "***\n",
    "`while` 문은 condition(조건)이 '참(True)'일 동안, 같은 문장(repeated statement 1, 2, ...)를 반복해서 실행한다.  \n",
    "따라서, `for` 문과 달리 무한 반복(Endless loop)에 빠지지 않도록 주의해야한다.\n",
    "\n",
    "정해진 횟수가 없다"
   ]
  },
  {
   "cell_type": "code",
   "execution_count": 56,
   "metadata": {},
   "outputs": [
    {
     "name": "stdout",
     "output_type": "stream",
     "text": [
      "0 0\n",
      "1 0\n",
      "2 0\n",
      "3 0\n",
      "4 0\n"
     ]
    }
   ],
   "source": [
    "# while 문을 이용해 0에서 4까지 더하는 코드\n",
    "\n",
    "total = 0  \n",
    "i = 0      \n",
    "while i < 5: \n",
    "    print(i, total) \n",
    "    i = i + 1"
   ]
  },
  {
   "cell_type": "markdown",
   "metadata": {},
   "source": [
    "`while` 조건에 True/False 이용하기"
   ]
  },
  {
   "cell_type": "code",
   "execution_count": null,
   "metadata": {},
   "outputs": [],
   "source": [
    "last = False \n",
    "alist = [1,2,4,8,16]\n",
    "\n",
    "while not last:\n",
    "    print(alist[0])\n",
    "    del alist[0]\n",
    "    if alist == []:\n",
    "        last = True"
   ]
  },
  {
   "cell_type": "markdown",
   "metadata": {},
   "source": [
    "While loop from 1 to infinity, therefore running forever."
   ]
  },
  {
   "cell_type": "code",
   "execution_count": null,
   "metadata": {},
   "outputs": [],
   "source": [
    "# x = 1\n",
    "# while True:\n",
    "#     print(\"To infinity and beyond! We're getting close, on %d now!\" % (x))\n",
    "#     x += 1"
   ]
  },
  {
   "cell_type": "markdown",
   "metadata": {},
   "source": [
    "# 루프 제어문"
   ]
  },
  {
   "cell_type": "markdown",
   "metadata": {},
   "source": [
    "### break\n",
    "`break` 문은 `for`나 `while` 문을 이용해 어떤 작업을 반복적으로 수행하다가 특정 조건일 때 반복문 자체를 빠져나와야 할 때 사용한다."
   ]
  },
  {
   "cell_type": "code",
   "execution_count": 61,
   "metadata": {},
   "outputs": [
    {
     "name": "stdout",
     "output_type": "stream",
     "text": [
      "0\n",
      "ignore\n",
      "1\n",
      "ignore\n",
      "2\n",
      "ignore\n",
      "3\n",
      "ignore\n",
      "4\n",
      "ignore\n",
      "5\n",
      "6\n",
      "ignore\n",
      "7\n",
      "ignore\n",
      "8\n",
      "ignore\n",
      "9\n",
      "ignore\n",
      "10\n",
      "ignore\n",
      "11\n",
      "ignore\n",
      "12\n",
      "ignore\n",
      "13\n",
      "ignore\n",
      "14\n",
      "ignore\n",
      "15\n",
      "ignore\n",
      "16\n",
      "ignore\n",
      "17\n",
      "ignore\n",
      "18\n",
      "ignore\n",
      "19\n",
      "ignore\n",
      "20\n",
      "ignore\n",
      "21\n",
      "ignore\n",
      "22\n",
      "ignore\n",
      "23\n",
      "ignore\n",
      "24\n",
      "ignore\n",
      "25\n",
      "ignore\n",
      "26\n",
      "ignore\n",
      "27\n",
      "ignore\n",
      "28\n",
      "ignore\n",
      "29\n",
      "ignore\n",
      "30\n",
      "ignore\n",
      "31\n",
      "ignore\n",
      "32\n",
      "ignore\n",
      "33\n",
      "ignore\n",
      "34\n",
      "ignore\n",
      "35\n",
      "ignore\n",
      "36\n",
      "ignore\n",
      "37\n",
      "ignore\n",
      "38\n",
      "ignore\n",
      "39\n",
      "ignore\n",
      "40\n",
      "ignore\n",
      "41\n",
      "ignore\n",
      "42\n",
      "ignore\n",
      "43\n",
      "ignore\n",
      "44\n",
      "ignore\n",
      "45\n",
      "ignore\n",
      "46\n",
      "ignore\n",
      "47\n",
      "ignore\n",
      "48\n",
      "ignore\n",
      "49\n",
      "ignore\n",
      "50\n",
      "ignore\n",
      "51\n",
      "ignore\n",
      "52\n",
      "ignore\n",
      "53\n",
      "ignore\n",
      "54\n",
      "ignore\n",
      "55\n",
      "ignore\n",
      "56\n",
      "ignore\n",
      "57\n",
      "ignore\n",
      "58\n",
      "ignore\n",
      "59\n",
      "ignore\n",
      "60\n",
      "ignore\n",
      "61\n",
      "ignore\n",
      "62\n",
      "ignore\n",
      "63\n",
      "ignore\n",
      "64\n",
      "ignore\n",
      "65\n",
      "ignore\n",
      "66\n",
      "ignore\n",
      "67\n",
      "ignore\n",
      "68\n",
      "ignore\n",
      "69\n",
      "ignore\n",
      "70\n",
      "ignore\n",
      "71\n",
      "ignore\n",
      "72\n",
      "ignore\n",
      "73\n",
      "ignore\n",
      "74\n",
      "ignore\n",
      "75\n",
      "ignore\n",
      "76\n",
      "ignore\n",
      "77\n",
      "ignore\n",
      "78\n",
      "ignore\n",
      "79\n",
      "ignore\n",
      "80\n",
      "ignore\n",
      "81\n",
      "ignore\n",
      "82\n",
      "ignore\n",
      "83\n",
      "ignore\n",
      "84\n",
      "ignore\n",
      "85\n",
      "ignore\n",
      "86\n",
      "ignore\n",
      "87\n",
      "ignore\n",
      "88\n",
      "ignore\n",
      "89\n",
      "ignore\n",
      "90\n",
      "ignore\n",
      "91\n",
      "ignore\n",
      "92\n",
      "ignore\n",
      "93\n",
      "ignore\n",
      "94\n",
      "ignore\n",
      "95\n",
      "ignore\n",
      "96\n",
      "ignore\n",
      "97\n",
      "ignore\n",
      "98\n",
      "ignore\n",
      "99\n",
      "ignore\n",
      "aaa\n"
     ]
    }
   ],
   "source": [
    "for i in range(100):\n",
    "    print(i) \n",
    "    if i == 5:\n",
    "        continue\n",
    "    print('ignore')\n",
    "    \n",
    "print('aaa')\n",
    "# break는 루프 탈출, continue는 이후 계속"
   ]
  },
  {
   "cell_type": "code",
   "execution_count": 64,
   "metadata": {},
   "outputs": [
    {
     "name": "stdout",
     "output_type": "stream",
     "text": [
      "3\n"
     ]
    },
    {
     "data": {
      "text/plain": [
       "'3333333333333333333333333333333333333333333333333333333333333333333333333333333333333333333333333333'"
      ]
     },
     "execution_count": 64,
     "metadata": {},
     "output_type": "execute_result"
    }
   ],
   "source": [
    "while True:\n",
    "    x = input()\n",
    "    # if x에 in 문자가 있다면\n",
    "    #       continue:"
   ]
  },
  {
   "cell_type": "markdown",
   "metadata": {},
   "source": [
    "### continue\n",
    "`while` 문이나 `for` 문을 사용하는 반복문에서 `break`를 사용하면 반복문 전체를 빠져나오게 된다.  \n",
    "그런데 반복문 전체를 빠져나오는 것이 아니라 해당 조건만 건너뛰고 싶을 때는 어떻게 하면 될까?  \n",
    "(Ex: 1부터 10까지 출력하는데 짝수인 경우는 출력하지 않음).  \n",
    "이럴 때 사용할 수 있는 것이 바로 `continue` 문이다."
   ]
  },
  {
   "cell_type": "code",
   "execution_count": 70,
   "metadata": {},
   "outputs": [
    {
     "name": "stdout",
     "output_type": "stream",
     "text": [
      "100\n",
      "300\n",
      "500\n",
      "700\n",
      "900\n"
     ]
    }
   ],
   "source": [
    "for i in range(10):\n",
    "    if i % 2 == 0:  # 짝수인 경우 continue 이하 코드가 실행되지 않고 다음 숫자로 넘어간다.\n",
    "        continue\n",
    "    print(i*100)"
   ]
  },
  {
   "cell_type": "markdown",
   "metadata": {},
   "source": [
    "# 연습문제"
   ]
  },
  {
   "cell_type": "markdown",
   "metadata": {},
   "source": [
    "### 문제 10) \n",
    "Which will never print?"
   ]
  },
  {
   "cell_type": "code",
   "execution_count": null,
   "metadata": {},
   "outputs": [],
   "source": [
    "# case 1\n",
    "\n",
    "if x < 2 :\n",
    "    print('Below 2')\n",
    "elif x >= 2 :\n",
    "    print('Two or more')\n",
    "else :\n",
    "    print('Something else')\n",
    "    \n",
    "# if문과 elif문에서 이미 모든 조건값을 다 가지기 때문에 else로 넘어갈 경우가 없다."
   ]
  },
  {
   "cell_type": "code",
   "execution_count": null,
   "metadata": {},
   "outputs": [],
   "source": [
    "# case 2\n",
    "\n",
    "if x < 2 :\n",
    "    print('Below 2')\n",
    "elif x < 20 :\n",
    "    print('Below 20')\n",
    "elif x < 10 :\n",
    "    print('Below 10')\n",
    "else :\n",
    "    print('Something else')\n",
    "    \n",
    "# elif x < 10은 절대 나올 수 없다. 이미 그 전 elif x < 20에서 출력되는 값이 elif x < 10값을 포함해서 elif x < 10값이 포함되지 않는다."
   ]
  },
  {
   "cell_type": "markdown",
   "metadata": {},
   "source": [
    "### 문제 11)\n",
    "0에서 999 사이의 숫자를 입력받아, 입력값의 자리수를 출력하는 코드를 작성하시오. 단, 숫자를 문자열로 변환하여 계산하지 말것."
   ]
  },
  {
   "cell_type": "code",
   "execution_count": 69,
   "metadata": {},
   "outputs": [
    {
     "name": "stdout",
     "output_type": "stream",
     "text": [
      "1111\n",
      "0에서 999 사이의 숫자를 입력하세요.\n"
     ]
    }
   ],
   "source": [
    "digits = int(input())\n",
    "\n",
    "if digits < 10:\n",
    "    print('1자리수')\n",
    "elif digits < 100:\n",
    "    print('2자리수')\n",
    "elif digits < 1000:\n",
    "    print('3자리수')\n",
    "else:\n",
    "    print('0에서 999 사이의 숫자를 입력하세요.')\n",
    "\n",
    "# ... 오로지 if, elif, else로만 써서 풀어라.\n",
    "\n",
    "# 교수님 풀이 과정\n",
    "'''\n",
    "digits = int(input())\n",
    "\n",
    "if digits < 10:\n",
    "    print('한자리수')\n",
    "elif digits < 100:\n",
    "    print('두자리수')\n",
    "else:\n",
    "    print('세자리수')\n",
    "'''\n",
    "# 또 다른 풀이\n",
    "'''\n",
    "while True:\n",
    "    try:\n",
    "        digits = int(input())\n",
    "        if 0 <= digits <= 999:\n",
    "            break\n",
    "    except:\n",
    "        continue\n",
    "        \n",
    "if digits < 10:\n",
    "    print('한자리수')\n",
    "elif digits < 100:\n",
    "    print('두자리수')\n",
    "else:\n",
    "    print('세자리수')\n",
    "'''"
   ]
  },
  {
   "cell_type": "markdown",
   "metadata": {},
   "source": [
    "### 문제 12)\n",
    "프로그램의 오류를 수정하시오.</p>\n",
    "Hint: https://blog.naver.com/ksg97031/221126216595"
   ]
  },
  {
   "cell_type": "code",
   "execution_count": null,
   "metadata": {},
   "outputs": [],
   "source": [
    "sales = 5555555\n",
    "\n",
    "if sales < 500000 :\n",
    "    incentive = 0\n",
    "elif 500000 <= sales and sales <= 5000000 :\n",
    "    incentive = sales * 0.01\n",
    "else :\n",
    "    incentive = 700000 + (sales - 5000000) * 0.08\n",
    "#print(\"sales = %10d, incentive = %d\" % (sales, incentive))\n",
    "\n",
    "#print(\"sales = \", sales, \", incentive = \", incentive)\n",
    "\n",
    "\n",
    "# 풀지말 것! 문제가 잘못 되었다.."
   ]
  },
  {
   "cell_type": "markdown",
   "metadata": {},
   "source": [
    "### 문제 13)\n",
    "- Sales < 50 만원 이면 Incentive가 없다.\n",
    "- 50만원 ≤ Sales ≤ 500만원 이면 (Sales의 10%)를 Incentive로 지급한다.\n",
    "- Sales > 500만원 이면 (70만원 + Sales 중 500만원 초과된 액수의 8%)를 Incentive로 지급한다.  \n",
    "  \n",
    "총 판매액 sales가 주어졌을 때, 위의 결정규칙에 따라 Incentive를 계산하여 출력하는 프로그램을 작성하시오. \t"
   ]
  },
  {
   "cell_type": "code",
   "execution_count": 68,
   "metadata": {},
   "outputs": [
    {
     "name": "stdout",
     "output_type": "stream",
     "text": [
      "7000000\n",
      "860000.0\n"
     ]
    }
   ],
   "source": [
    "sales = int(input())\n",
    "\n",
    "if sales < 500000:\n",
    "    print('No Incentive')\n",
    "elif 500000 <= sales <= 5000000:\n",
    "    print(sales%10)\n",
    "else:\n",
    "    print( 700000 + (sales - 5000000)*0.08)\n",
    "# ...    "
   ]
  },
  {
   "cell_type": "markdown",
   "metadata": {},
   "source": [
    "### 문제 14)\n",
    "What is the purpose of the following code?"
   ]
  },
  {
   "cell_type": "code",
   "execution_count": 67,
   "metadata": {},
   "outputs": [
    {
     "name": "stdout",
     "output_type": "stream",
     "text": [
      "-1\n"
     ]
    }
   ],
   "source": [
    "# case 1\n",
    "\n",
    "x = [-3,-8,-6,-4,-5,-1]\n",
    "y = x[0]\n",
    "for i in x :\n",
    "    if y < i : y = i\n",
    "print(y)\n",
    "\n",
    "# 가장 큰 값을 출력하는 프로그램"
   ]
  },
  {
   "cell_type": "code",
   "execution_count": 66,
   "metadata": {},
   "outputs": [
    {
     "name": "stdout",
     "output_type": "stream",
     "text": [
      "-8\n"
     ]
    }
   ],
   "source": [
    "x = [-3,-8,-6,-4,-5,-1]\n",
    "y = x[0]\n",
    "for i in x :\n",
    "    if y > i : y = i\n",
    "print(y)\n",
    "# 가장 작은 값을 출력하는 프로그램"
   ]
  },
  {
   "cell_type": "markdown",
   "metadata": {},
   "source": [
    "가장 작은 값을 출력하려면 if문 안에 있는 부등호 <를 >로만 바꾸면 된다."
   ]
  },
  {
   "cell_type": "code",
   "execution_count": 69,
   "metadata": {},
   "outputs": [
    {
     "name": "stdout",
     "output_type": "stream",
     "text": [
      "Lets try Mike\n"
     ]
    }
   ],
   "source": [
    "# case 2\n",
    "\n",
    "s = \"Let's try, Mike.\"\n",
    "sd = \"\"\n",
    "for c in s :  # 문자열 s로부터 글자수만큼 반복하면서 한글자씩 가져옴\n",
    "    if c == \"'\" or c == \",\" or c == \".\" :\n",
    "        continue\n",
    "    sd = sd + c\n",
    "\n",
    "print(sd)\n",
    "\n",
    "# ' , .은 빼고 출력해라 즉, 문자만 출력하라는 명령으로 해석할 수 있습니다."
   ]
  },
  {
   "cell_type": "markdown",
   "metadata": {},
   "source": [
    "### 문제 15)\n",
    "백 만원을 은행에 년 5.5%의 복리이자로 예금하면, 몇 년 후에 원리금이 초기 원금의 두 배가 넘게 되는지를 계산하는 프로그램을 작성하시오."
   ]
  },
  {
   "cell_type": "code",
   "execution_count": 88,
   "metadata": {},
   "outputs": [
    {
     "name": "stdout",
     "output_type": "stream",
     "text": [
      "6\n"
     ]
    }
   ],
   "source": [
    "money = 1000000\n",
    "interest = 0.055\n",
    "year = 0\n",
    "\n",
    "while True:\n",
    "    money = money*(1+interest)**year\n",
    "    year = year + 1\n",
    "    if money >= 2000000:\n",
    "        break\n",
    "print(year)\n",
    "\n",
    "# 교수님 풀이 과정\n",
    "'''\n",
    "money = 1000000\n",
    "interest = 0.055\n",
    "year = 0\n",
    "\n",
    "while True:\n",
    "    money *= (1+interest)\n",
    "    year += 1\n",
    "    if money > 2000000:\n",
    "        break\n",
    "'''"
   ]
  },
  {
   "cell_type": "markdown",
   "metadata": {},
   "source": [
    "### 문제 16)\n",
    "다음은 names라는 리스트에 들어있는 단어와 그것의 횟수를 출력하는 코드이다.\n",
    "```\n",
    "counts = dict()\n",
    "names = ['빅데이터', '경영', '통계', '경영', '경영', '정보']\n",
    "for name in names :\n",
    "    counts[name] = counts.get(name, 0) + 1\n",
    "print(counts)\n",
    "```\n",
    "위의 코드를 응용하여, 오바마 연설문에서 가장 자주 언급되는 단어와 그것의 횟수를 출력하는 프로그램을 작성하시오."
   ]
  },
  {
   "cell_type": "code",
   "execution_count": 43,
   "metadata": {
    "scrolled": true
   },
   "outputs": [
    {
     "name": "stdout",
     "output_type": "stream",
     "text": [
      "Hello, Chicago.\n",
      "If there is anyone out there who still doubts that America is a place where all things are possible, who still wonders if the dream of our founders is alive in our time, who still questions the power of our democracy, tonight is your answer.\n",
      "\n",
      "It's the answer told by lines that stretched around schools and churches in numbers this nation has never seen, by people who waited three hours and four hours, many for the first time in their lives, because they believed that this time must be different, that their voices could be that difference.\n",
      "\n",
      "It's the answer spoken by young and old, rich and poor, Democrat and Republican, black, white, Hispanic, Asian, Native American, gay, straight, disabled and not disabled. Americans who sent a message to the world that we have never been just a collection of individuals or a collection of red states and blue states.\n",
      "\n",
      "We are, and always will be, the United States of America.\n",
      "\n",
      "It's the answer that led those who've been told for so long by so many to be cynical and fearful and doubtful about what we can achieve to put their hands on the arc of history and bend it on-ce more toward the hope of a better day.\n",
      "\n",
      "It's been a long time coming, but tonight, because of what we did on this date in this election at this defining moment change has come to America.\n",
      "\n",
      "A little bit earlier this evening, I received an extraordinarily gracious call from Sen. McCain.\n",
      "\n",
      "Don't Miss\n",
      "America votes for change\n",
      "Transcript of McCain's concession speech\n",
      "African-American centenarian votes\n",
      "Obama grandmother dies before election\n",
      "Presidential election results\n",
      "Sen. McCain fought long and hard in this campaign. And he's fought even longer and harder for the country that he loves. He has endured sacrifices for America that most of us cannot begin to imagine. We are better off for the service rendered by this brave and selfless leader.\n",
      "\n",
      "I congratulate him; I congratulate Gov. Palin for all that they've achieved. And I look forward to working with them to renew this nation's promise in the months ahead.\n",
      "\n",
      "I want to thank my partner in this journey, a man who campaigned from his heart, and spoke for the men and women he grew up with on the streets of Scranton and rode with on the train home to Delaware, the vice president-elect of the United States, Joe Biden.\n",
      "\n",
      "And I would not be standing here tonight without the unyielding support of my best friend for the last 16 years the rock of our family, the love of my life, the nation's next first lady Michelle Obama.\n",
      "\n",
      "Sasha and Malia I love you both more than you can imagine. And you have earned the new puppy that's coming with us to the new White House.\n",
      "\n",
      "And while she's no longer with us, I know my grandmother's watching, along with the family that made me who I am. I miss them tonight. I know that my debt to them is beyond measure.\n",
      "\n",
      "To my sister Maya, my sister Alma, all my other brothers and sisters, thank you so much for all the support that you've given me. I am grateful to them.\n",
      "\n",
      "And to my campaign manager, David Plouffe, the unsung hero of this campaign, who built the best -- the best political campaign, I think, in the history of the United States of America.\n",
      "\n",
      "To my chief strategist David Axelrod who's been a partner with me every step of the way.\n",
      "\n",
      "To the best campaign team ever assembled in the history of politics you made this happen, and I am forever grateful for what you've sacrificed to get it done.\n",
      "\n",
      "But above all, I will never forget who this victory truly belongs to. It belongs to you. It belongs to you.\n",
      "\n",
      "I was never the likeliest candidate for this office. We didn't start with much money or many endorsements. Our campaign was not hatched in the halls of Washington. It began in the backyards of Des Moines and the living rooms of Concord and the front porches of Charleston. It was built by working men and women who dug into what little savings they had to give $5 and $10 and $20 to the cause.\n",
      "\n",
      "It grew strength from the young people who rejected the myth of their generation's apathy who left their homes and their families for jobs that offered little pay and less sleep.\n",
      "\n",
      "It drew strength from the not-so-young people who braved the bitter cold and scorching heat to knock on doors of perfect strangers, and from the millions of Americans who volunteered and organized and proved that more than two centuries later a government of the people, by the people, and for the people has not perished from the Earth.\n",
      "\n",
      "This is your victory.\n",
      "And I know you didn't do this just to win an election. And I know you didn't do it for me.\n",
      "\n",
      "You did it because you understand the enormity of the task that lies ahead. For even as we celebrate tonight, we know the challenges that tomorrow will bring are the greatest of our lifetime -- two wars, a planet in peril, the worst financial crisis in a century.\n",
      "\n",
      "Even as we stand here tonight, we know there are brave Americans waking up in the deserts of Iraq and the mountains of Afghanistan to risk their lives for us.\n",
      "\n",
      "There are mothers and fathers who will lie awake after the children fall asleep and wonder how they'll make the mortgage or pay their doctors' bills or save enough for their child's college education.\n",
      "\n",
      "There's new energy to harness, new jobs to be created, new schools to build, and threats to meet, alliances to repair.\n",
      "\n",
      "The road ahead will be long. Our climb will be steep. We may not get there in on-e year or even in on-e term. But, America, I have never been more hopeful than I am tonight that we will get there.\n",
      "\n",
      "I promise you, we as a people will get there.\n",
      "There will be setbacks and false starts. There are many who won't agree with every decision or policy I make as president. And we know the government can't solve every problem.\n",
      "\n",
      "But I will always be honest with you about the challenges we face. I will listen to you, especially when we disagree. And, above all, I will ask you to join in the work of remaking this nation, the on-ly way it's been done in America for 221 years -- block by block, brick by brick, calloused hand by calloused hand.\n",
      "\n",
      "What began 21 months ago in the depths of winter cannot end on this autumn night.\n",
      "\n",
      "This victory alone is not the change we seek. It is on-ly the chance for us to make that change. And that cannot happen if we go back to the way things were.\n",
      "\n",
      "It can't happen without you, without a new spirit of service, a new spirit of sacrifice.\n",
      "\n",
      "So let us summon a new spirit of patriotism, of responsibility, where each of us resolves to pitch in and work harder and look after not on-ly ourselves but each other.\n",
      "\n",
      "Let us remember that, if this financial crisis taught us anything, it's that we cannot have a thriving Wall Street while Main Street suffers.\n",
      "\n",
      "In this country, we rise or fall as on-e nation, as on-e people. Let's resist the temptation to fall back on the same partisanship and pettiness and immaturity that has poisoned our politics for so long.\n",
      "\n",
      "Let's remember that it was a man from this state who first carried the banner of the Republican Party to the White House, a party founded on the values of self-reliance and individual liberty and national unity.\n",
      "\n",
      "Those are values that we all share. And while the Democratic Party has won a great victory tonight, we do so with a measure of humility and determination to heal the divides that have held back our progress.\n",
      "\n",
      "As Lincoln said to a nation far more divided than ours, we are not enemies but friends. Though passion may have strained, it must not break our bonds of affection.\n",
      "\n",
      "And to those Americans whose support I have yet to earn, I may not have won your vote tonight, but I hear your voices. I need your help. And I will be your president, too.\n",
      "\n",
      "And to all those watching tonight from beyond our shores, from parliaments and palaces, to those who are huddled around radios in the forgotten corners of the world, our stories are singular, but our destiny is shared, and a new dawn of American leadership is at hand.\n",
      "\n",
      "To those -- to those who would tear the world down: We will defeat you. To those who seek peace and security: We support you. And to all those who have wondered if America's beacon still burns as bright: Tonight we proved on-ce more that the true strength of our nation comes not from the might of our arms or the scale of our wealth, but from the enduring power of our ideals: democracy, liberty, opportunity and unyielding hope.\n",
      "\n",
      "That's the true genius of America: that America can change. Our union can be perfected. What we've already achieved gives us hope for what we can and must achieve tomorrow.\n",
      "\n",
      "This election had many firsts and many stories that will be told for generations. But on-e that's on my mind tonight's about a woman who cast her ballot in Atlanta. She's a lot like the millions of others who stood in line to make their voice heard in this election except for on-e thing: Ann Nixon Cooper is 106 years old.\n",
      "\n",
      "She was born just a generation past slavery; a time when there were no cars on the road or planes in the sky; when someone like her couldn't vote for two reasons -- because she was a woman and because of the color of her skin.\n",
      "\n",
      "And tonight, I think about all that she's seen throughout her century in America -- the heartache and the hope; the struggle and the progress; the times we were told that we can't, and the people who pressed on with that American creed: Yes we can.\n",
      "\n",
      "At a time when women's voices were silenced and their hopes dismissed, she lived to see them stand up and speak out and reach for the ballot. Yes we can.\n",
      "\n",
      "When there was despair in the dust bowl and depression across the land, she saw a nation conquer fear itself with a New Deal, new jobs, a new sense of common purpose. Yes we can.\n",
      "\n",
      "When the bombs fell on our harbor and tyranny threatened the world, she was there to witness a generation rise to greatness and a democracy was saved. Yes we can.\n",
      "\n",
      "She was there for the buses in Montgomery, the hoses in Birmingham, a bridge in Selma, and a preacher from Atlanta who told a people that \"We Shall Overcome.\" Yes we can.\n",
      "\n",
      "A man touched down on the moon, a wall came down in Berlin, a world was connected by our own science and imagination.\n",
      "\n",
      "And this year, in this election, she touched her finger to a screen, and cast her vote, because after 106 years in America, through the best of times and the darkest of hours, she knows how America can change.\n",
      "\n",
      "Yes we can.\n",
      "America, we have come so far. We have seen so much. But there is so much more to do. So tonight, let us ask ourselves -- if our children should live to see the next century; if my daughters should be so lucky to live as long as Ann Nixon Cooper, what change will they see? What progress will we have made?\n",
      "\n",
      "This is our chance to answer that call. This is our moment.\n",
      "\n",
      "This is our time, to put our people back to work and open doors of opportunity for our kids; to restore prosperity and promote the cause of peace; to reclaim the American dream and reaffirm that fundamental truth, that, out of many, we are on-e; that while we breathe, we hope. And where we are met with cynicism and doubts and those who tell us that we can't, we will respond with that timeless creed that sums up the spirit of a people: Yes, we can.\n",
      "\n",
      "Thank you. God bless you. And may God bless the United States of America.\n"
     ]
    }
   ],
   "source": [
    "# 텍스트 화일을 열고 words라는 변수에 저장\n",
    "with open('Obama_words.txt', 'r') as f:\n",
    "    words = f.read()\n",
    "    print(words)\n",
    "    f.close()\n",
    "\n",
    "# words에서 단어를 구분\n",
    "# ...\n",
    "# 위 코드를 이용하여 각 단어와 그것의 횟수를 계산\n",
    "# ...\n",
    "# 가장 자주 언급되는 단어를 찾고 그것의 횟수를 출력\n",
    "# ..."
   ]
  },
  {
   "cell_type": "code",
   "execution_count": 44,
   "metadata": {},
   "outputs": [
    {
     "name": "stdout",
     "output_type": "stream",
     "text": [
      "Hello, Chicago\n",
      "If there is anyone out there who still doubts that America is a place where all things are possible, who still wonders if the dream of our founders is alive in our time, who still questions the power of our democracy, tonight is your answer\n",
      "\n",
      "It's the answer told by lines that stretched around schools and churches in numbers this nation has never seen, by people who waited three hours and four hours, many for the first time in their lives, because they believed that this time must be different, that their voices could be that difference\n",
      "\n",
      "It's the answer spoken by young and old, rich and poor, Democrat and Republican, black, white, Hispanic, Asian, Native American, gay, straight, disabled and not disabled Americans who sent a message to the world that we have never been just a collection of individuals or a collection of red states and blue states\n",
      "\n",
      "We are, and always will be, the United States of America\n",
      "\n",
      "It's the answer that led those who've been told for so long by so many to be cynical and fearful and doubtful about what we can achieve to put their hands on the arc of history and bend it once more toward the hope of a better day\n",
      "\n",
      "It's been a long time coming, but tonight, because of what we did on this date in this election at this defining moment change has come to America\n",
      "\n",
      "A little bit earlier this evening, I received an extraordinarily gracious call from Sen McCain\n",
      "\n",
      "Don't Miss\n",
      "America votes for change\n",
      "Transcript of McCain's concession speech\n",
      "AfricanAmerican centenarian votes\n",
      "Obama grandmother dies before election\n",
      "Presidential election results\n",
      "Sen McCain fought long and hard in this campaign And he's fought even longer and harder for the country that he loves He has endured sacrifices for America that most of us cannot begin to imagine We are better off for the service rendered by this brave and selfless leader\n",
      "\n",
      "I congratulate him; I congratulate Gov Palin for all that they've achieved And I look forward to working with them to renew this nation's promise in the months ahead\n",
      "\n",
      "I want to thank my partner in this journey, a man who campaigned from his heart, and spoke for the men and women he grew up with on the streets of Scranton and rode with on the train home to Delaware, the vice presidentelect of the United States, Joe Biden\n",
      "\n",
      "And I would not be standing here tonight without the unyielding support of my best friend for the last 16 years the rock of our family, the love of my life, the nation's next first lady Michelle Obama\n",
      "\n",
      "Sasha and Malia I love you both more than you can imagine And you have earned the new puppy that's coming with us to the new White House\n",
      "\n",
      "And while she's no longer with us, I know my grandmother's watching, along with the family that made me who I am I miss them tonight I know that my debt to them is beyond measure\n",
      "\n",
      "To my sister Maya, my sister Alma, all my other brothers and sisters, thank you so much for all the support that you've given me I am grateful to them\n",
      "\n",
      "And to my campaign manager, David Plouffe, the unsung hero of this campaign, who built the best  the best political campaign, I think, in the history of the United States of America\n",
      "\n",
      "To my chief strategist David Axelrod who's been a partner with me every step of the way\n",
      "\n",
      "To the best campaign team ever assembled in the history of politics you made this happen, and I am forever grateful for what you've sacrificed to get it done\n",
      "\n",
      "But above all, I will never forget who this victory truly belongs to It belongs to you It belongs to you\n",
      "\n",
      "I was never the likeliest candidate for this office We didn't start with much money or many endorsements Our campaign was not hatched in the halls of Washington It began in the backyards of Des Moines and the living rooms of Concord and the front porches of Charleston It was built by working men and women who dug into what little savings they had to give 5 and 10 and 20 to the cause\n",
      "\n",
      "It grew strength from the young people who rejected the myth of their generation's apathy who left their homes and their families for jobs that offered little pay and less sleep\n",
      "\n",
      "It drew strength from the notsoyoung people who braved the bitter cold and scorching heat to knock on doors of perfect strangers, and from the millions of Americans who volunteered and organized and proved that more than two centuries later a government of the people, by the people, and for the people has not perished from the Earth\n",
      "\n",
      "This is your victory\n",
      "And I know you didn't do this just to win an election And I know you didn't do it for me\n",
      "\n",
      "You did it because you understand the enormity of the task that lies ahead For even as we celebrate tonight, we know the challenges that tomorrow will bring are the greatest of our lifetime  two wars, a planet in peril, the worst financial crisis in a century\n",
      "\n",
      "Even as we stand here tonight, we know there are brave Americans waking up in the deserts of Iraq and the mountains of Afghanistan to risk their lives for us\n",
      "\n",
      "There are mothers and fathers who will lie awake after the children fall asleep and wonder how they'll make the mortgage or pay their doctors' bills or save enough for their child's college education\n",
      "\n",
      "There's new energy to harness, new jobs to be created, new schools to build, and threats to meet, alliances to repair\n",
      "\n",
      "The road ahead will be long Our climb will be steep We may not get there in one year or even in one term But, America, I have never been more hopeful than I am tonight that we will get there\n",
      "\n",
      "I promise you, we as a people will get there\n",
      "There will be setbacks and false starts There are many who won't agree with every decision or policy I make as president And we know the government can't solve every problem\n",
      "\n",
      "But I will always be honest with you about the challenges we face I will listen to you, especially when we disagree And, above all, I will ask you to join in the work of remaking this nation, the only way it's been done in America for 221 years  block by block, brick by brick, calloused hand by calloused hand\n",
      "\n",
      "What began 21 months ago in the depths of winter cannot end on this autumn night\n",
      "\n",
      "This victory alone is not the change we seek It is only the chance for us to make that change And that cannot happen if we go back to the way things were\n",
      "\n",
      "It can't happen without you, without a new spirit of service, a new spirit of sacrifice\n",
      "\n",
      "So let us summon a new spirit of patriotism, of responsibility, where each of us resolves to pitch in and work harder and look after not only ourselves but each other\n",
      "\n",
      "Let us remember that, if this financial crisis taught us anything, it's that we cannot have a thriving Wall Street while Main Street suffers\n",
      "\n",
      "In this country, we rise or fall as one nation, as one people Let's resist the temptation to fall back on the same partisanship and pettiness and immaturity that has poisoned our politics for so long\n",
      "\n",
      "Let's remember that it was a man from this state who first carried the banner of the Republican Party to the White House, a party founded on the values of selfreliance and individual liberty and national unity\n",
      "\n",
      "Those are values that we all share And while the Democratic Party has won a great victory tonight, we do so with a measure of humility and determination to heal the divides that have held back our progress\n",
      "\n",
      "As Lincoln said to a nation far more divided than ours, we are not enemies but friends Though passion may have strained, it must not break our bonds of affection\n",
      "\n",
      "And to those Americans whose support I have yet to earn, I may not have won your vote tonight, but I hear your voices I need your help And I will be your president, too\n",
      "\n",
      "And to all those watching tonight from beyond our shores, from parliaments and palaces, to those who are huddled around radios in the forgotten corners of the world, our stories are singular, but our destiny is shared, and a new dawn of American leadership is at hand\n",
      "\n",
      "To those  to those who would tear the world down We will defeat you To those who seek peace and security We support you And to all those who have wondered if America's beacon still burns as bright Tonight we proved once more that the true strength of our nation comes not from the might of our arms or the scale of our wealth, but from the enduring power of our ideals democracy, liberty, opportunity and unyielding hope\n",
      "\n",
      "That's the true genius of America that America can change Our union can be perfected What we've already achieved gives us hope for what we can and must achieve tomorrow\n",
      "\n",
      "This election had many firsts and many stories that will be told for generations But one that's on my mind tonight's about a woman who cast her ballot in Atlanta She's a lot like the millions of others who stood in line to make their voice heard in this election except for one thing Ann Nixon Cooper is 106 years old\n",
      "\n",
      "She was born just a generation past slavery; a time when there were no cars on the road or planes in the sky; when someone like her couldn't vote for two reasons  because she was a woman and because of the color of her skin\n",
      "\n",
      "And tonight, I think about all that she's seen throughout her century in America  the heartache and the hope; the struggle and the progress; the times we were told that we can't, and the people who pressed on with that American creed Yes we can\n",
      "\n",
      "At a time when women's voices were silenced and their hopes dismissed, she lived to see them stand up and speak out and reach for the ballot Yes we can\n",
      "\n",
      "When there was despair in the dust bowl and depression across the land, she saw a nation conquer fear itself with a New Deal, new jobs, a new sense of common purpose Yes we can\n",
      "\n",
      "When the bombs fell on our harbor and tyranny threatened the world, she was there to witness a generation rise to greatness and a democracy was saved Yes we can\n",
      "\n",
      "She was there for the buses in Montgomery, the hoses in Birmingham, a bridge in Selma, and a preacher from Atlanta who told a people that \"We Shall Overcome\" Yes we can\n",
      "\n",
      "A man touched down on the moon, a wall came down in Berlin, a world was connected by our own science and imagination\n",
      "\n",
      "And this year, in this election, she touched her finger to a screen, and cast her vote, because after 106 years in America, through the best of times and the darkest of hours, she knows how America can change\n",
      "\n",
      "Yes we can\n",
      "America, we have come so far We have seen so much But there is so much more to do So tonight, let us ask ourselves  if our children should live to see the next century; if my daughters should be so lucky to live as long as Ann Nixon Cooper, what change will they see What progress will we have made\n",
      "\n",
      "This is our chance to answer that call This is our moment\n",
      "\n",
      "This is our time, to put our people back to work and open doors of opportunity for our kids; to restore prosperity and promote the cause of peace; to reclaim the American dream and reaffirm that fundamental truth, that, out of many, we are one; that while we breathe, we hope And where we are met with cynicism and doubts and those who tell us that we can't, we will respond with that timeless creed that sums up the spirit of a people Yes, we can\n",
      "\n",
      "Thank you God bless you And may God bless the United States of America\n"
     ]
    }
   ],
   "source": [
    "import re\n",
    "ret = re.sub('[-=.#/?:$}]', '', words)\n",
    "print (ret)"
   ]
  },
  {
   "cell_type": "code",
   "execution_count": 45,
   "metadata": {
    "scrolled": true
   },
   "outputs": [
    {
     "name": "stdout",
     "output_type": "stream",
     "text": [
      "Hello Chicago If there is anyone out there who still doubts that America is a place where all things are possible who still wonders if the dream of our founders is alive in our time who still questions the power of our democracy tonight is your answer It s the answer told by lines that stretched around schools and churches in numbers this nation has never seen by people who waited three hours and four hours many for the first time in their lives because they believed that this time must be different that their voices could be that difference It s the answer spoken by young and old rich and poor Democrat and Republican black white Hispanic Asian Native American gay straight disabled and not disabled Americans who sent a message to the world that we have never been just a collection of individuals or a collection of red states and blue states We are and always will be the United States of America It s the answer that led those who ve been told for so long by so many to be cynical and fearful and doubtful about what we can achieve to put their hands on the arc of history and bend it on ce more toward the hope of a better day It s been a long time coming but tonight because of what we did on this date in this election at this defining moment change has come to America A little bit earlier this evening I received an extraordinarily gracious call from Sen McCain Don t Miss America votes for change Transcript of McCain s concession speech African American centenarian votes Obama grandmother dies before election Presidential election results Sen McCain fought long and hard in this campaign And he s fought even longer and harder for the country that he loves He has endured sacrifices for America that most of us cannot begin to imagine We are better off for the service rendered by this brave and selfless leader I congratulate him I congratulate Gov Palin for all that they ve achieved And I look forward to working with them to renew this nation s promise in the months ahead I want to thank my partner in this journey a man who campaigned from his heart and spoke for the men and women he grew up with on the streets of Scranton and rode with on the train home to Delaware the vice president elect of the United States Joe Biden And I would not be standing here tonight without the unyielding support of my best friend for the last 16 years the rock of our family the love of my life the nation s next first lady Michelle Obama Sasha and Malia I love you both more than you can imagine And you have earned the new puppy that s coming with us to the new White House And while she s no longer with us I know my grandmother s watching along with the family that made me who I am I miss them tonight I know that my debt to them is beyond measure To my sister Maya my sister Alma all my other brothers and sisters thank you so much for all the support that you ve given me I am grateful to them And to my campaign manager David Plouffe the unsung hero of this campaign who built the best the best political campaign I think in the history of the United States of America To my chief strategist David Axelrod who s been a partner with me every step of the way To the best campaign team ever assembled in the history of politics you made this happen and I am forever grateful for what you ve sacrificed to get it done But above all I will never forget who this victory truly belongs to It belongs to you It belongs to you I was never the likeliest candidate for this office We didn t start with much money or many endorsements Our campaign was not hatched in the halls of Washington It began in the backyards of Des Moines and the living rooms of Concord and the front porches of Charleston It was built by working men and women who dug into what little savings they had to give 5 and 10 and 20 to the cause It grew strength from the young people who rejected the myth of their generation s apathy who left their homes and their families for jobs that offered little pay and less sleep It drew strength from the not so young people who braved the bitter cold and scorching heat to knock on doors of perfect strangers and from the millions of Americans who volunteered and organized and proved that more than two centuries later a government of the people by the people and for the people has not perished from the Earth This is your victory And I know you didn t do this just to win an election And I know you didn t do it for me You did it because you understand the enormity of the task that lies ahead For even as we celebrate tonight we know the challenges that tomorrow will bring are the greatest of our lifetime two wars a planet in peril the worst financial crisis in a century Even as we stand here tonight we know there are brave Americans waking up in the deserts of Iraq and the mountains of Afghanistan to risk their lives for us There are mothers and fathers who will lie awake after the children fall asleep and wonder how they ll make the mortgage or pay their doctors bills or save enough for their child s college education There s new energy to harness new jobs to be created new schools to build and threats to meet alliances to repair The road ahead will be long Our climb will be steep We may not get there in on e year or even in on e term But America I have never been more hopeful than I am tonight that we will get there I promise you we as a people will get there There will be setbacks and false starts There are many who won t agree with every decision or policy I make as president And we know the government can t solve every problem But I will always be honest with you about the challenges we face I will listen to you especially when we disagree And above all I will ask you to join in the work of remaking this nation the on ly way it s been done in America for 221 years block by block brick by brick calloused hand by calloused hand What began 21 months ago in the depths of winter cannot end on this autumn night This victory alone is not the change we seek It is on ly the chance for us to make that change And that cannot happen if we go back to the way things were It can t happen without you without a new spirit of service a new spirit of sacrifice So let us summon a new spirit of patriotism of responsibility where each of us resolves to pitch in and work harder and look after not on ly ourselves but each other Let us remember that if this financial crisis taught us anything it s that we cannot have a thriving Wall Street while Main Street suffers In this country we rise or fall as on e nation as on e people Let s resist the temptation to fall back on the same partisanship and pettiness and immaturity that has poisoned our politics for so long Let s remember that it was a man from this state who first carried the banner of the Republican Party to the White House a party founded on the values of self reliance and individual liberty and national unity Those are values that we all share And while the Democratic Party has won a great victory tonight we do so with a measure of humility and determination to heal the divides that have held back our progress As Lincoln said to a nation far more divided than ours we are not enemies but friends Though passion may have strained it must not break our bonds of affection And to those Americans whose support I have yet to earn I may not have won your vote tonight but I hear your voices I need your help And I will be your president too And to all those watching tonight from beyond our shores from parliaments and palaces to those who are huddled around radios in the forgotten corners of the world our stories are singular but our destiny is shared and a new dawn of American leadership is at hand To those to those who would tear the world down We will defeat you To those who seek peace and security We support you And to all those who have wondered if America s beacon still burns as bright Tonight we proved on ce more that the true strength of our nation comes not from the might of our arms or the scale of our wealth but from the enduring power of our ideals democracy liberty opportunity and unyielding hope That s the true genius of America that America can change Our union can be perfected What we ve already achieved gives us hope for what we can and must achieve tomorrow This election had many firsts and many stories that will be told for generations But on e that s on my mind tonight s about a woman who cast her ballot in Atlanta She s a lot like the millions of others who stood in line to make their voice heard in this election except for on e thing Ann Nixon Cooper is 106 years old She was born just a generation past slavery a time when there were no cars on the road or planes in the sky when someone like her couldn t vote for two reasons because she was a woman and because of the color of her skin And tonight I think about all that she s seen throughout her century in America the heartache and the hope the struggle and the progress the times we were told that we can t and the people who pressed on with that American creed Yes we can At a time when women s voices were silenced and their hopes dismissed she lived to see them stand up and speak out and reach for the ballot Yes we can When there was despair in the dust bowl and depression across the land she saw a nation conquer fear itself with a New Deal new jobs a new sense of common purpose Yes we can When the bombs fell on our harbor and tyranny threatened the world she was there to witness a generation rise to greatness and a democracy was saved Yes we can She was there for the buses in Montgomery the hoses in Birmingham a bridge in Selma and a preacher from Atlanta who told a people that We Shall Overcome Yes we can A man touched down on the moon a wall came down in Berlin a world was connected by our own science and imagination And this year in this election she touched her finger to a screen and cast her vote because after 106 years in America through the best of times and the darkest of hours she knows how America can change Yes we can America we have come so far We have seen so much But there is so much more to do So tonight let us ask ourselves if our children should live to see the next century if my daughters should be so lucky to live as long as Ann Nixon Cooper what change will they see What progress will we have made This is our chance to answer that call This is our moment This is our time to put our people back to work and open doors of opportunity for our kids to restore prosperity and promote the cause of peace to reclaim the American dream and reaffirm that fundamental truth that out of many we are on e that while we breathe we hope And where we are met with cynicism and doubts and those who tell us that we can t we will respond with that timeless creed that sums up the spirit of a people Yes we can Thank you God bless you And may God bless the United States of America \n"
     ]
    }
   ],
   "source": [
    "text = re.sub('[^A-Za-z0-9]+', ' ', words)\n",
    "print(text)"
   ]
  },
  {
   "cell_type": "code",
   "execution_count": 46,
   "metadata": {},
   "outputs": [
    {
     "data": {
      "text/plain": [
       "['Hello',\n",
       " 'Chicago',\n",
       " 'If',\n",
       " 'there',\n",
       " 'is',\n",
       " 'anyone',\n",
       " 'out',\n",
       " 'there',\n",
       " 'who',\n",
       " 'still',\n",
       " 'doubts',\n",
       " 'that',\n",
       " 'America',\n",
       " 'is',\n",
       " 'a',\n",
       " 'place',\n",
       " 'where',\n",
       " 'all',\n",
       " 'things',\n",
       " 'are',\n",
       " 'possible',\n",
       " 'who',\n",
       " 'still',\n",
       " 'wonders',\n",
       " 'if',\n",
       " 'the',\n",
       " 'dream',\n",
       " 'of',\n",
       " 'our',\n",
       " 'founders',\n",
       " 'is',\n",
       " 'alive',\n",
       " 'in',\n",
       " 'our',\n",
       " 'time',\n",
       " 'who',\n",
       " 'still',\n",
       " 'questions',\n",
       " 'the',\n",
       " 'power',\n",
       " 'of',\n",
       " 'our',\n",
       " 'democracy',\n",
       " 'tonight',\n",
       " 'is',\n",
       " 'your',\n",
       " 'answer',\n",
       " 'It',\n",
       " 's',\n",
       " 'the',\n",
       " 'answer',\n",
       " 'told',\n",
       " 'by',\n",
       " 'lines',\n",
       " 'that',\n",
       " 'stretched',\n",
       " 'around',\n",
       " 'schools',\n",
       " 'and',\n",
       " 'churches',\n",
       " 'in',\n",
       " 'numbers',\n",
       " 'this',\n",
       " 'nation',\n",
       " 'has',\n",
       " 'never',\n",
       " 'seen',\n",
       " 'by',\n",
       " 'people',\n",
       " 'who',\n",
       " 'waited',\n",
       " 'three',\n",
       " 'hours',\n",
       " 'and',\n",
       " 'four',\n",
       " 'hours',\n",
       " 'many',\n",
       " 'for',\n",
       " 'the',\n",
       " 'first',\n",
       " 'time',\n",
       " 'in',\n",
       " 'their',\n",
       " 'lives',\n",
       " 'because',\n",
       " 'they',\n",
       " 'believed',\n",
       " 'that',\n",
       " 'this',\n",
       " 'time',\n",
       " 'must',\n",
       " 'be',\n",
       " 'different',\n",
       " 'that',\n",
       " 'their',\n",
       " 'voices',\n",
       " 'could',\n",
       " 'be',\n",
       " 'that',\n",
       " 'difference',\n",
       " 'It',\n",
       " 's',\n",
       " 'the',\n",
       " 'answer',\n",
       " 'spoken',\n",
       " 'by',\n",
       " 'young',\n",
       " 'and',\n",
       " 'old',\n",
       " 'rich',\n",
       " 'and',\n",
       " 'poor',\n",
       " 'Democrat',\n",
       " 'and',\n",
       " 'Republican',\n",
       " 'black',\n",
       " 'white',\n",
       " 'Hispanic',\n",
       " 'Asian',\n",
       " 'Native',\n",
       " 'American',\n",
       " 'gay',\n",
       " 'straight',\n",
       " 'disabled',\n",
       " 'and',\n",
       " 'not',\n",
       " 'disabled',\n",
       " 'Americans',\n",
       " 'who',\n",
       " 'sent',\n",
       " 'a',\n",
       " 'message',\n",
       " 'to',\n",
       " 'the',\n",
       " 'world',\n",
       " 'that',\n",
       " 'we',\n",
       " 'have',\n",
       " 'never',\n",
       " 'been',\n",
       " 'just',\n",
       " 'a',\n",
       " 'collection',\n",
       " 'of',\n",
       " 'individuals',\n",
       " 'or',\n",
       " 'a',\n",
       " 'collection',\n",
       " 'of',\n",
       " 'red',\n",
       " 'states',\n",
       " 'and',\n",
       " 'blue',\n",
       " 'states',\n",
       " 'We',\n",
       " 'are',\n",
       " 'and',\n",
       " 'always',\n",
       " 'will',\n",
       " 'be',\n",
       " 'the',\n",
       " 'United',\n",
       " 'States',\n",
       " 'of',\n",
       " 'America',\n",
       " 'It',\n",
       " 's',\n",
       " 'the',\n",
       " 'answer',\n",
       " 'that',\n",
       " 'led',\n",
       " 'those',\n",
       " 'who',\n",
       " 've',\n",
       " 'been',\n",
       " 'told',\n",
       " 'for',\n",
       " 'so',\n",
       " 'long',\n",
       " 'by',\n",
       " 'so',\n",
       " 'many',\n",
       " 'to',\n",
       " 'be',\n",
       " 'cynical',\n",
       " 'and',\n",
       " 'fearful',\n",
       " 'and',\n",
       " 'doubtful',\n",
       " 'about',\n",
       " 'what',\n",
       " 'we',\n",
       " 'can',\n",
       " 'achieve',\n",
       " 'to',\n",
       " 'put',\n",
       " 'their',\n",
       " 'hands',\n",
       " 'on',\n",
       " 'the',\n",
       " 'arc',\n",
       " 'of',\n",
       " 'history',\n",
       " 'and',\n",
       " 'bend',\n",
       " 'it',\n",
       " 'on',\n",
       " 'ce',\n",
       " 'more',\n",
       " 'toward',\n",
       " 'the',\n",
       " 'hope',\n",
       " 'of',\n",
       " 'a',\n",
       " 'better',\n",
       " 'day',\n",
       " 'It',\n",
       " 's',\n",
       " 'been',\n",
       " 'a',\n",
       " 'long',\n",
       " 'time',\n",
       " 'coming',\n",
       " 'but',\n",
       " 'tonight',\n",
       " 'because',\n",
       " 'of',\n",
       " 'what',\n",
       " 'we',\n",
       " 'did',\n",
       " 'on',\n",
       " 'this',\n",
       " 'date',\n",
       " 'in',\n",
       " 'this',\n",
       " 'election',\n",
       " 'at',\n",
       " 'this',\n",
       " 'defining',\n",
       " 'moment',\n",
       " 'change',\n",
       " 'has',\n",
       " 'come',\n",
       " 'to',\n",
       " 'America',\n",
       " 'A',\n",
       " 'little',\n",
       " 'bit',\n",
       " 'earlier',\n",
       " 'this',\n",
       " 'evening',\n",
       " 'I',\n",
       " 'received',\n",
       " 'an',\n",
       " 'extraordinarily',\n",
       " 'gracious',\n",
       " 'call',\n",
       " 'from',\n",
       " 'Sen',\n",
       " 'McCain',\n",
       " 'Don',\n",
       " 't',\n",
       " 'Miss',\n",
       " 'America',\n",
       " 'votes',\n",
       " 'for',\n",
       " 'change',\n",
       " 'Transcript',\n",
       " 'of',\n",
       " 'McCain',\n",
       " 's',\n",
       " 'concession',\n",
       " 'speech',\n",
       " 'African',\n",
       " 'American',\n",
       " 'centenarian',\n",
       " 'votes',\n",
       " 'Obama',\n",
       " 'grandmother',\n",
       " 'dies',\n",
       " 'before',\n",
       " 'election',\n",
       " 'Presidential',\n",
       " 'election',\n",
       " 'results',\n",
       " 'Sen',\n",
       " 'McCain',\n",
       " 'fought',\n",
       " 'long',\n",
       " 'and',\n",
       " 'hard',\n",
       " 'in',\n",
       " 'this',\n",
       " 'campaign',\n",
       " 'And',\n",
       " 'he',\n",
       " 's',\n",
       " 'fought',\n",
       " 'even',\n",
       " 'longer',\n",
       " 'and',\n",
       " 'harder',\n",
       " 'for',\n",
       " 'the',\n",
       " 'country',\n",
       " 'that',\n",
       " 'he',\n",
       " 'loves',\n",
       " 'He',\n",
       " 'has',\n",
       " 'endured',\n",
       " 'sacrifices',\n",
       " 'for',\n",
       " 'America',\n",
       " 'that',\n",
       " 'most',\n",
       " 'of',\n",
       " 'us',\n",
       " 'cannot',\n",
       " 'begin',\n",
       " 'to',\n",
       " 'imagine',\n",
       " 'We',\n",
       " 'are',\n",
       " 'better',\n",
       " 'off',\n",
       " 'for',\n",
       " 'the',\n",
       " 'service',\n",
       " 'rendered',\n",
       " 'by',\n",
       " 'this',\n",
       " 'brave',\n",
       " 'and',\n",
       " 'selfless',\n",
       " 'leader',\n",
       " 'I',\n",
       " 'congratulate',\n",
       " 'him',\n",
       " 'I',\n",
       " 'congratulate',\n",
       " 'Gov',\n",
       " 'Palin',\n",
       " 'for',\n",
       " 'all',\n",
       " 'that',\n",
       " 'they',\n",
       " 've',\n",
       " 'achieved',\n",
       " 'And',\n",
       " 'I',\n",
       " 'look',\n",
       " 'forward',\n",
       " 'to',\n",
       " 'working',\n",
       " 'with',\n",
       " 'them',\n",
       " 'to',\n",
       " 'renew',\n",
       " 'this',\n",
       " 'nation',\n",
       " 's',\n",
       " 'promise',\n",
       " 'in',\n",
       " 'the',\n",
       " 'months',\n",
       " 'ahead',\n",
       " 'I',\n",
       " 'want',\n",
       " 'to',\n",
       " 'thank',\n",
       " 'my',\n",
       " 'partner',\n",
       " 'in',\n",
       " 'this',\n",
       " 'journey',\n",
       " 'a',\n",
       " 'man',\n",
       " 'who',\n",
       " 'campaigned',\n",
       " 'from',\n",
       " 'his',\n",
       " 'heart',\n",
       " 'and',\n",
       " 'spoke',\n",
       " 'for',\n",
       " 'the',\n",
       " 'men',\n",
       " 'and',\n",
       " 'women',\n",
       " 'he',\n",
       " 'grew',\n",
       " 'up',\n",
       " 'with',\n",
       " 'on',\n",
       " 'the',\n",
       " 'streets',\n",
       " 'of',\n",
       " 'Scranton',\n",
       " 'and',\n",
       " 'rode',\n",
       " 'with',\n",
       " 'on',\n",
       " 'the',\n",
       " 'train',\n",
       " 'home',\n",
       " 'to',\n",
       " 'Delaware',\n",
       " 'the',\n",
       " 'vice',\n",
       " 'president',\n",
       " 'elect',\n",
       " 'of',\n",
       " 'the',\n",
       " 'United',\n",
       " 'States',\n",
       " 'Joe',\n",
       " 'Biden',\n",
       " 'And',\n",
       " 'I',\n",
       " 'would',\n",
       " 'not',\n",
       " 'be',\n",
       " 'standing',\n",
       " 'here',\n",
       " 'tonight',\n",
       " 'without',\n",
       " 'the',\n",
       " 'unyielding',\n",
       " 'support',\n",
       " 'of',\n",
       " 'my',\n",
       " 'best',\n",
       " 'friend',\n",
       " 'for',\n",
       " 'the',\n",
       " 'last',\n",
       " '16',\n",
       " 'years',\n",
       " 'the',\n",
       " 'rock',\n",
       " 'of',\n",
       " 'our',\n",
       " 'family',\n",
       " 'the',\n",
       " 'love',\n",
       " 'of',\n",
       " 'my',\n",
       " 'life',\n",
       " 'the',\n",
       " 'nation',\n",
       " 's',\n",
       " 'next',\n",
       " 'first',\n",
       " 'lady',\n",
       " 'Michelle',\n",
       " 'Obama',\n",
       " 'Sasha',\n",
       " 'and',\n",
       " 'Malia',\n",
       " 'I',\n",
       " 'love',\n",
       " 'you',\n",
       " 'both',\n",
       " 'more',\n",
       " 'than',\n",
       " 'you',\n",
       " 'can',\n",
       " 'imagine',\n",
       " 'And',\n",
       " 'you',\n",
       " 'have',\n",
       " 'earned',\n",
       " 'the',\n",
       " 'new',\n",
       " 'puppy',\n",
       " 'that',\n",
       " 's',\n",
       " 'coming',\n",
       " 'with',\n",
       " 'us',\n",
       " 'to',\n",
       " 'the',\n",
       " 'new',\n",
       " 'White',\n",
       " 'House',\n",
       " 'And',\n",
       " 'while',\n",
       " 'she',\n",
       " 's',\n",
       " 'no',\n",
       " 'longer',\n",
       " 'with',\n",
       " 'us',\n",
       " 'I',\n",
       " 'know',\n",
       " 'my',\n",
       " 'grandmother',\n",
       " 's',\n",
       " 'watching',\n",
       " 'along',\n",
       " 'with',\n",
       " 'the',\n",
       " 'family',\n",
       " 'that',\n",
       " 'made',\n",
       " 'me',\n",
       " 'who',\n",
       " 'I',\n",
       " 'am',\n",
       " 'I',\n",
       " 'miss',\n",
       " 'them',\n",
       " 'tonight',\n",
       " 'I',\n",
       " 'know',\n",
       " 'that',\n",
       " 'my',\n",
       " 'debt',\n",
       " 'to',\n",
       " 'them',\n",
       " 'is',\n",
       " 'beyond',\n",
       " 'measure',\n",
       " 'To',\n",
       " 'my',\n",
       " 'sister',\n",
       " 'Maya',\n",
       " 'my',\n",
       " 'sister',\n",
       " 'Alma',\n",
       " 'all',\n",
       " 'my',\n",
       " 'other',\n",
       " 'brothers',\n",
       " 'and',\n",
       " 'sisters',\n",
       " 'thank',\n",
       " 'you',\n",
       " 'so',\n",
       " 'much',\n",
       " 'for',\n",
       " 'all',\n",
       " 'the',\n",
       " 'support',\n",
       " 'that',\n",
       " 'you',\n",
       " 've',\n",
       " 'given',\n",
       " 'me',\n",
       " 'I',\n",
       " 'am',\n",
       " 'grateful',\n",
       " 'to',\n",
       " 'them',\n",
       " 'And',\n",
       " 'to',\n",
       " 'my',\n",
       " 'campaign',\n",
       " 'manager',\n",
       " 'David',\n",
       " 'Plouffe',\n",
       " 'the',\n",
       " 'unsung',\n",
       " 'hero',\n",
       " 'of',\n",
       " 'this',\n",
       " 'campaign',\n",
       " 'who',\n",
       " 'built',\n",
       " 'the',\n",
       " 'best',\n",
       " 'the',\n",
       " 'best',\n",
       " 'political',\n",
       " 'campaign',\n",
       " 'I',\n",
       " 'think',\n",
       " 'in',\n",
       " 'the',\n",
       " 'history',\n",
       " 'of',\n",
       " 'the',\n",
       " 'United',\n",
       " 'States',\n",
       " 'of',\n",
       " 'America',\n",
       " 'To',\n",
       " 'my',\n",
       " 'chief',\n",
       " 'strategist',\n",
       " 'David',\n",
       " 'Axelrod',\n",
       " 'who',\n",
       " 's',\n",
       " 'been',\n",
       " 'a',\n",
       " 'partner',\n",
       " 'with',\n",
       " 'me',\n",
       " 'every',\n",
       " 'step',\n",
       " 'of',\n",
       " 'the',\n",
       " 'way',\n",
       " 'To',\n",
       " 'the',\n",
       " 'best',\n",
       " 'campaign',\n",
       " 'team',\n",
       " 'ever',\n",
       " 'assembled',\n",
       " 'in',\n",
       " 'the',\n",
       " 'history',\n",
       " 'of',\n",
       " 'politics',\n",
       " 'you',\n",
       " 'made',\n",
       " 'this',\n",
       " 'happen',\n",
       " 'and',\n",
       " 'I',\n",
       " 'am',\n",
       " 'forever',\n",
       " 'grateful',\n",
       " 'for',\n",
       " 'what',\n",
       " 'you',\n",
       " 've',\n",
       " 'sacrificed',\n",
       " 'to',\n",
       " 'get',\n",
       " 'it',\n",
       " 'done',\n",
       " 'But',\n",
       " 'above',\n",
       " 'all',\n",
       " 'I',\n",
       " 'will',\n",
       " 'never',\n",
       " 'forget',\n",
       " 'who',\n",
       " 'this',\n",
       " 'victory',\n",
       " 'truly',\n",
       " 'belongs',\n",
       " 'to',\n",
       " 'It',\n",
       " 'belongs',\n",
       " 'to',\n",
       " 'you',\n",
       " 'It',\n",
       " 'belongs',\n",
       " 'to',\n",
       " 'you',\n",
       " 'I',\n",
       " 'was',\n",
       " 'never',\n",
       " 'the',\n",
       " 'likeliest',\n",
       " 'candidate',\n",
       " 'for',\n",
       " 'this',\n",
       " 'office',\n",
       " 'We',\n",
       " 'didn',\n",
       " 't',\n",
       " 'start',\n",
       " 'with',\n",
       " 'much',\n",
       " 'money',\n",
       " 'or',\n",
       " 'many',\n",
       " 'endorsements',\n",
       " 'Our',\n",
       " 'campaign',\n",
       " 'was',\n",
       " 'not',\n",
       " 'hatched',\n",
       " 'in',\n",
       " 'the',\n",
       " 'halls',\n",
       " 'of',\n",
       " 'Washington',\n",
       " 'It',\n",
       " 'began',\n",
       " 'in',\n",
       " 'the',\n",
       " 'backyards',\n",
       " 'of',\n",
       " 'Des',\n",
       " 'Moines',\n",
       " 'and',\n",
       " 'the',\n",
       " 'living',\n",
       " 'rooms',\n",
       " 'of',\n",
       " 'Concord',\n",
       " 'and',\n",
       " 'the',\n",
       " 'front',\n",
       " 'porches',\n",
       " 'of',\n",
       " 'Charleston',\n",
       " 'It',\n",
       " 'was',\n",
       " 'built',\n",
       " 'by',\n",
       " 'working',\n",
       " 'men',\n",
       " 'and',\n",
       " 'women',\n",
       " 'who',\n",
       " 'dug',\n",
       " 'into',\n",
       " 'what',\n",
       " 'little',\n",
       " 'savings',\n",
       " 'they',\n",
       " 'had',\n",
       " 'to',\n",
       " 'give',\n",
       " '5',\n",
       " 'and',\n",
       " '10',\n",
       " 'and',\n",
       " '20',\n",
       " 'to',\n",
       " 'the',\n",
       " 'cause',\n",
       " 'It',\n",
       " 'grew',\n",
       " 'strength',\n",
       " 'from',\n",
       " 'the',\n",
       " 'young',\n",
       " 'people',\n",
       " 'who',\n",
       " 'rejected',\n",
       " 'the',\n",
       " 'myth',\n",
       " 'of',\n",
       " 'their',\n",
       " 'generation',\n",
       " 's',\n",
       " 'apathy',\n",
       " 'who',\n",
       " 'left',\n",
       " 'their',\n",
       " 'homes',\n",
       " 'and',\n",
       " 'their',\n",
       " 'families',\n",
       " 'for',\n",
       " 'jobs',\n",
       " 'that',\n",
       " 'offered',\n",
       " 'little',\n",
       " 'pay',\n",
       " 'and',\n",
       " 'less',\n",
       " 'sleep',\n",
       " 'It',\n",
       " 'drew',\n",
       " 'strength',\n",
       " 'from',\n",
       " 'the',\n",
       " 'not',\n",
       " 'so',\n",
       " 'young',\n",
       " 'people',\n",
       " 'who',\n",
       " 'braved',\n",
       " 'the',\n",
       " 'bitter',\n",
       " 'cold',\n",
       " 'and',\n",
       " 'scorching',\n",
       " 'heat',\n",
       " 'to',\n",
       " 'knock',\n",
       " 'on',\n",
       " 'doors',\n",
       " 'of',\n",
       " 'perfect',\n",
       " 'strangers',\n",
       " 'and',\n",
       " 'from',\n",
       " 'the',\n",
       " 'millions',\n",
       " 'of',\n",
       " 'Americans',\n",
       " 'who',\n",
       " 'volunteered',\n",
       " 'and',\n",
       " 'organized',\n",
       " 'and',\n",
       " 'proved',\n",
       " 'that',\n",
       " 'more',\n",
       " 'than',\n",
       " 'two',\n",
       " 'centuries',\n",
       " 'later',\n",
       " 'a',\n",
       " 'government',\n",
       " 'of',\n",
       " 'the',\n",
       " 'people',\n",
       " 'by',\n",
       " 'the',\n",
       " 'people',\n",
       " 'and',\n",
       " 'for',\n",
       " 'the',\n",
       " 'people',\n",
       " 'has',\n",
       " 'not',\n",
       " 'perished',\n",
       " 'from',\n",
       " 'the',\n",
       " 'Earth',\n",
       " 'This',\n",
       " 'is',\n",
       " 'your',\n",
       " 'victory',\n",
       " 'And',\n",
       " 'I',\n",
       " 'know',\n",
       " 'you',\n",
       " 'didn',\n",
       " 't',\n",
       " 'do',\n",
       " 'this',\n",
       " 'just',\n",
       " 'to',\n",
       " 'win',\n",
       " 'an',\n",
       " 'election',\n",
       " 'And',\n",
       " 'I',\n",
       " 'know',\n",
       " 'you',\n",
       " 'didn',\n",
       " 't',\n",
       " 'do',\n",
       " 'it',\n",
       " 'for',\n",
       " 'me',\n",
       " 'You',\n",
       " 'did',\n",
       " 'it',\n",
       " 'because',\n",
       " 'you',\n",
       " 'understand',\n",
       " 'the',\n",
       " 'enormity',\n",
       " 'of',\n",
       " 'the',\n",
       " 'task',\n",
       " 'that',\n",
       " 'lies',\n",
       " 'ahead',\n",
       " 'For',\n",
       " 'even',\n",
       " 'as',\n",
       " 'we',\n",
       " 'celebrate',\n",
       " 'tonight',\n",
       " 'we',\n",
       " 'know',\n",
       " 'the',\n",
       " 'challenges',\n",
       " 'that',\n",
       " 'tomorrow',\n",
       " 'will',\n",
       " 'bring',\n",
       " 'are',\n",
       " 'the',\n",
       " 'greatest',\n",
       " 'of',\n",
       " 'our',\n",
       " 'lifetime',\n",
       " 'two',\n",
       " 'wars',\n",
       " 'a',\n",
       " 'planet',\n",
       " 'in',\n",
       " 'peril',\n",
       " 'the',\n",
       " 'worst',\n",
       " 'financial',\n",
       " 'crisis',\n",
       " 'in',\n",
       " 'a',\n",
       " 'century',\n",
       " 'Even',\n",
       " 'as',\n",
       " 'we',\n",
       " 'stand',\n",
       " 'here',\n",
       " 'tonight',\n",
       " 'we',\n",
       " 'know',\n",
       " 'there',\n",
       " 'are',\n",
       " 'brave',\n",
       " 'Americans',\n",
       " 'waking',\n",
       " 'up',\n",
       " 'in',\n",
       " 'the',\n",
       " 'deserts',\n",
       " 'of',\n",
       " 'Iraq',\n",
       " 'and',\n",
       " 'the',\n",
       " 'mountains',\n",
       " 'of',\n",
       " 'Afghanistan',\n",
       " 'to',\n",
       " 'risk',\n",
       " 'their',\n",
       " 'lives',\n",
       " 'for',\n",
       " 'us',\n",
       " 'There',\n",
       " 'are',\n",
       " 'mothers',\n",
       " 'and',\n",
       " 'fathers',\n",
       " 'who',\n",
       " 'will',\n",
       " 'lie',\n",
       " 'awake',\n",
       " 'after',\n",
       " 'the',\n",
       " 'children',\n",
       " 'fall',\n",
       " 'asleep',\n",
       " 'and',\n",
       " 'wonder',\n",
       " 'how',\n",
       " 'they',\n",
       " 'll',\n",
       " 'make',\n",
       " 'the',\n",
       " 'mortgage',\n",
       " 'or',\n",
       " 'pay',\n",
       " 'their',\n",
       " 'doctors',\n",
       " 'bills',\n",
       " 'or',\n",
       " 'save',\n",
       " 'enough',\n",
       " 'for',\n",
       " 'their',\n",
       " 'child',\n",
       " 's',\n",
       " 'college',\n",
       " 'education',\n",
       " 'There',\n",
       " 's',\n",
       " 'new',\n",
       " 'energy',\n",
       " 'to',\n",
       " 'harness',\n",
       " 'new',\n",
       " 'jobs',\n",
       " 'to',\n",
       " 'be',\n",
       " 'created',\n",
       " 'new',\n",
       " 'schools',\n",
       " 'to',\n",
       " 'build',\n",
       " 'and',\n",
       " 'threats',\n",
       " 'to',\n",
       " 'meet',\n",
       " 'alliances',\n",
       " 'to',\n",
       " 'repair',\n",
       " 'The',\n",
       " 'road',\n",
       " 'ahead',\n",
       " 'will',\n",
       " 'be',\n",
       " 'long',\n",
       " 'Our',\n",
       " 'climb',\n",
       " 'will',\n",
       " 'be',\n",
       " 'steep',\n",
       " 'We',\n",
       " 'may',\n",
       " 'not',\n",
       " 'get',\n",
       " ...]"
      ]
     },
     "execution_count": 46,
     "metadata": {},
     "output_type": "execute_result"
    }
   ],
   "source": [
    "list_text = text.split(' ')\n",
    "list_text"
   ]
  },
  {
   "cell_type": "code",
   "execution_count": 47,
   "metadata": {
    "scrolled": true
   },
   "outputs": [
    {
     "name": "stdout",
     "output_type": "stream",
     "text": [
      "{'Hello': 1, 'Chicago': 1, 'If': 1, 'there': 11, 'is': 15, 'anyone': 1, 'out': 3, 'who': 28, 'still': 4, 'doubts': 2, 'that': 42, 'America': 16, 'a': 40, 'place': 1, 'where': 3, 'all': 10, 'things': 2, 'are': 13, 'possible': 1, 'wonders': 1, 'if': 6, 'the': 108, 'dream': 2, 'of': 61, 'our': 23, 'founders': 1, 'alive': 1, 'in': 33, 'time': 7, 'questions': 1, 'power': 2, 'democracy': 3, 'tonight': 13, 'your': 6, 'answer': 5, 'It': 12, 's': 26, 'told': 5, 'by': 11, 'lines': 1, 'stretched': 1, 'around': 2, 'schools': 2, 'and': 69, 'churches': 1, 'numbers': 1, 'this': 23, 'nation': 8, 'has': 6, 'never': 5, 'seen': 3, 'people': 12, 'waited': 1, 'three': 1, 'hours': 3, 'four': 1, 'many': 7, 'for': 27, 'first': 3, 'their': 11, 'lives': 2, 'because': 6, 'they': 5, 'believed': 1, 'must': 3, 'be': 14, 'different': 1, 'voices': 3, 'could': 1, 'difference': 1, 'spoken': 1, 'young': 3, 'old': 2, 'rich': 1, 'poor': 1, 'Democrat': 1, 'Republican': 2, 'black': 1, 'white': 1, 'Hispanic': 1, 'Asian': 1, 'Native': 1, 'American': 5, 'gay': 1, 'straight': 1, 'disabled': 2, 'not': 12, 'Americans': 4, 'sent': 1, 'message': 1, 'to': 55, 'world': 5, 'we': 39, 'have': 12, 'been': 6, 'just': 3, 'collection': 2, 'individuals': 1, 'or': 9, 'red': 1, 'states': 2, 'blue': 1, 'We': 8, 'always': 2, 'will': 18, 'United': 4, 'States': 4, 'led': 1, 'those': 9, 've': 5, 'so': 10, 'long': 6, 'cynical': 1, 'fearful': 1, 'doubtful': 1, 'about': 4, 'what': 6, 'can': 17, 'achieve': 2, 'put': 2, 'hands': 1, 'on': 25, 'arc': 1, 'history': 3, 'bend': 1, 'it': 8, 'ce': 2, 'more': 7, 'toward': 1, 'hope': 5, 'better': 2, 'day': 1, 'coming': 2, 'but': 6, 'did': 2, 'date': 1, 'election': 7, 'at': 2, 'defining': 1, 'moment': 2, 'change': 7, 'come': 2, 'A': 2, 'little': 3, 'bit': 1, 'earlier': 1, 'evening': 1, 'I': 31, 'received': 1, 'an': 2, 'extraordinarily': 1, 'gracious': 1, 'call': 2, 'from': 12, 'Sen': 2, 'McCain': 3, 'Don': 1, 't': 10, 'Miss': 1, 'votes': 2, 'Transcript': 1, 'concession': 1, 'speech': 1, 'African': 1, 'centenarian': 1, 'Obama': 2, 'grandmother': 2, 'dies': 1, 'before': 1, 'Presidential': 1, 'results': 1, 'fought': 2, 'hard': 1, 'campaign': 6, 'And': 20, 'he': 3, 'even': 3, 'longer': 2, 'harder': 2, 'country': 2, 'loves': 1, 'He': 1, 'endured': 1, 'sacrifices': 1, 'most': 1, 'us': 12, 'cannot': 4, 'begin': 1, 'imagine': 2, 'off': 1, 'service': 2, 'rendered': 1, 'brave': 2, 'selfless': 1, 'leader': 1, 'congratulate': 2, 'him': 1, 'Gov': 1, 'Palin': 1, 'achieved': 2, 'look': 2, 'forward': 1, 'working': 2, 'with': 15, 'them': 5, 'renew': 1, 'promise': 2, 'months': 2, 'ahead': 3, 'want': 1, 'thank': 2, 'my': 12, 'partner': 2, 'journey': 1, 'man': 3, 'campaigned': 1, 'his': 1, 'heart': 1, 'spoke': 1, 'men': 2, 'women': 3, 'grew': 2, 'up': 4, 'streets': 1, 'Scranton': 1, 'rode': 1, 'train': 1, 'home': 1, 'Delaware': 1, 'vice': 1, 'president': 3, 'elect': 1, 'Joe': 1, 'Biden': 1, 'would': 2, 'standing': 1, 'here': 2, 'without': 3, 'unyielding': 2, 'support': 4, 'best': 5, 'friend': 1, 'last': 1, '16': 1, 'years': 4, 'rock': 1, 'family': 2, 'love': 2, 'life': 1, 'next': 2, 'lady': 1, 'Michelle': 1, 'Sasha': 1, 'Malia': 1, 'you': 21, 'both': 1, 'than': 4, 'earned': 1, 'new': 11, 'puppy': 1, 'White': 2, 'House': 2, 'while': 4, 'she': 8, 'no': 2, 'know': 7, 'watching': 2, 'along': 1, 'made': 3, 'me': 4, 'am': 4, 'miss': 1, 'debt': 1, 'beyond': 2, 'measure': 2, 'To': 5, 'sister': 2, 'Maya': 1, 'Alma': 1, 'other': 2, 'brothers': 1, 'sisters': 1, 'much': 4, 'given': 1, 'grateful': 2, 'manager': 1, 'David': 2, 'Plouffe': 1, 'unsung': 1, 'hero': 1, 'built': 2, 'political': 1, 'think': 2, 'chief': 1, 'strategist': 1, 'Axelrod': 1, 'every': 3, 'step': 1, 'way': 3, 'team': 1, 'ever': 1, 'assembled': 1, 'politics': 2, 'happen': 3, 'forever': 1, 'sacrificed': 1, 'get': 4, 'done': 2, 'But': 5, 'above': 2, 'forget': 1, 'victory': 4, 'truly': 1, 'belongs': 3, 'was': 11, 'likeliest': 1, 'candidate': 1, 'office': 1, 'didn': 3, 'start': 1, 'money': 1, 'endorsements': 1, 'Our': 3, 'hatched': 1, 'halls': 1, 'Washington': 1, 'began': 2, 'backyards': 1, 'Des': 1, 'Moines': 1, 'living': 1, 'rooms': 1, 'Concord': 1, 'front': 1, 'porches': 1, 'Charleston': 1, 'dug': 1, 'into': 1, 'savings': 1, 'had': 2, 'give': 1, '5': 1, '10': 1, '20': 1, 'cause': 2, 'strength': 3, 'rejected': 1, 'myth': 1, 'generation': 3, 'apathy': 1, 'left': 1, 'homes': 1, 'families': 1, 'jobs': 3, 'offered': 1, 'pay': 2, 'less': 1, 'sleep': 1, 'drew': 1, 'braved': 1, 'bitter': 1, 'cold': 1, 'scorching': 1, 'heat': 1, 'knock': 1, 'doors': 2, 'perfect': 1, 'strangers': 1, 'millions': 2, 'volunteered': 1, 'organized': 1, 'proved': 2, 'two': 3, 'centuries': 1, 'later': 1, 'government': 2, 'perished': 1, 'Earth': 1, 'This': 6, 'do': 4, 'win': 1, 'You': 1, 'understand': 1, 'enormity': 1, 'task': 1, 'lies': 1, 'For': 1, 'as': 9, 'celebrate': 1, 'challenges': 2, 'tomorrow': 2, 'bring': 1, 'greatest': 1, 'lifetime': 1, 'wars': 1, 'planet': 1, 'peril': 1, 'worst': 1, 'financial': 2, 'crisis': 2, 'century': 3, 'Even': 1, 'stand': 2, 'waking': 1, 'deserts': 1, 'Iraq': 1, 'mountains': 1, 'Afghanistan': 1, 'risk': 1, 'There': 4, 'mothers': 1, 'fathers': 1, 'lie': 1, 'awake': 1, 'after': 3, 'children': 2, 'fall': 3, 'asleep': 1, 'wonder': 1, 'how': 2, 'll': 1, 'make': 4, 'mortgage': 1, 'doctors': 1, 'bills': 1, 'save': 1, 'enough': 1, 'child': 1, 'college': 1, 'education': 1, 'energy': 1, 'harness': 1, 'created': 1, 'build': 1, 'threats': 1, 'meet': 1, 'alliances': 1, 'repair': 1, 'The': 1, 'road': 2, 'climb': 1, 'steep': 1, 'may': 4, 'e': 7, 'year': 2, 'term': 1, 'hopeful': 1, 'setbacks': 1, 'false': 1, 'starts': 1, 'won': 3, 'agree': 1, 'decision': 1, 'policy': 1, 'solve': 1, 'problem': 1, 'honest': 1, 'face': 1, 'listen': 1, 'especially': 1, 'when': 4, 'disagree': 1, 'ask': 2, 'join': 1, 'work': 3, 'remaking': 1, 'ly': 3, '221': 1, 'block': 2, 'brick': 2, 'calloused': 2, 'hand': 3, 'What': 3, '21': 1, 'ago': 1, 'depths': 1, 'winter': 1, 'end': 1, 'autumn': 1, 'night': 1, 'alone': 1, 'seek': 2, 'chance': 2, 'go': 1, 'back': 4, 'were': 4, 'spirit': 4, 'sacrifice': 1, 'So': 2, 'let': 2, 'summon': 1, 'patriotism': 1, 'responsibility': 1, 'each': 2, 'resolves': 1, 'pitch': 1, 'ourselves': 2, 'Let': 3, 'remember': 2, 'taught': 1, 'anything': 1, 'thriving': 1, 'Wall': 1, 'Street': 2, 'Main': 1, 'suffers': 1, 'In': 1, 'rise': 2, 'resist': 1, 'temptation': 1, 'same': 1, 'partisanship': 1, 'pettiness': 1, 'immaturity': 1, 'poisoned': 1, 'state': 1, 'carried': 1, 'banner': 1, 'Party': 2, 'party': 1, 'founded': 1, 'values': 2, 'self': 1, 'reliance': 1, 'individual': 1, 'liberty': 2, 'national': 1, 'unity': 1, 'Those': 1, 'share': 1, 'Democratic': 1, 'great': 1, 'humility': 1, 'determination': 1, 'heal': 1, 'divides': 1, 'held': 1, 'progress': 3, 'As': 1, 'Lincoln': 1, 'said': 1, 'far': 2, 'divided': 1, 'ours': 1, 'enemies': 1, 'friends': 1, 'Though': 1, 'passion': 1, 'strained': 1, 'break': 1, 'bonds': 1, 'affection': 1, 'whose': 1, 'yet': 1, 'earn': 1, 'vote': 3, 'hear': 1, 'need': 1, 'help': 1, 'too': 1, 'shores': 1, 'parliaments': 1, 'palaces': 1, 'huddled': 1, 'radios': 1, 'forgotten': 1, 'corners': 1, 'stories': 2, 'singular': 1, 'destiny': 1, 'shared': 1, 'dawn': 1, 'leadership': 1, 'tear': 1, 'down': 3, 'defeat': 1, 'peace': 2, 'security': 1, 'wondered': 1, 'beacon': 1, 'burns': 1, 'bright': 1, 'Tonight': 1, 'true': 2, 'comes': 1, 'might': 1, 'arms': 1, 'scale': 1, 'wealth': 1, 'enduring': 1, 'ideals': 1, 'opportunity': 2, 'That': 1, 'genius': 1, 'union': 1, 'perfected': 1, 'already': 1, 'gives': 1, 'firsts': 1, 'generations': 1, 'mind': 1, 'woman': 2, 'cast': 2, 'her': 6, 'ballot': 2, 'Atlanta': 2, 'She': 3, 'lot': 1, 'like': 2, 'others': 1, 'stood': 1, 'line': 1, 'voice': 1, 'heard': 1, 'except': 1, 'thing': 1, 'Ann': 2, 'Nixon': 2, 'Cooper': 2, '106': 2, 'born': 1, 'past': 1, 'slavery': 1, 'cars': 1, 'planes': 1, 'sky': 1, 'someone': 1, 'couldn': 1, 'reasons': 1, 'color': 1, 'skin': 1, 'throughout': 1, 'heartache': 1, 'struggle': 1, 'times': 2, 'pressed': 1, 'creed': 2, 'Yes': 7, 'At': 1, 'silenced': 1, 'hopes': 1, 'dismissed': 1, 'lived': 1, 'see': 3, 'speak': 1, 'reach': 1, 'When': 2, 'despair': 1, 'dust': 1, 'bowl': 1, 'depression': 1, 'across': 1, 'land': 1, 'saw': 1, 'conquer': 1, 'fear': 1, 'itself': 1, 'New': 1, 'Deal': 1, 'sense': 1, 'common': 1, 'purpose': 1, 'bombs': 1, 'fell': 1, 'harbor': 1, 'tyranny': 1, 'threatened': 1, 'witness': 1, 'greatness': 1, 'saved': 1, 'buses': 1, 'Montgomery': 1, 'hoses': 1, 'Birmingham': 1, 'bridge': 1, 'Selma': 1, 'preacher': 1, 'Shall': 1, 'Overcome': 1, 'touched': 2, 'moon': 1, 'wall': 1, 'came': 1, 'Berlin': 1, 'connected': 1, 'own': 1, 'science': 1, 'imagination': 1, 'finger': 1, 'screen': 1, 'through': 1, 'darkest': 1, 'knows': 1, 'should': 2, 'live': 2, 'daughters': 1, 'lucky': 1, 'open': 1, 'kids': 1, 'restore': 1, 'prosperity': 1, 'promote': 1, 'reclaim': 1, 'reaffirm': 1, 'fundamental': 1, 'truth': 1, 'breathe': 1, 'met': 1, 'cynicism': 1, 'tell': 1, 'respond': 1, 'timeless': 1, 'sums': 1, 'Thank': 1, 'God': 2, 'bless': 2, '': 1}\n"
     ]
    }
   ],
   "source": [
    "counts = dict()\n",
    "names = list_text\n",
    "for name in names :\n",
    "    counts[name] = counts.get(name, 0) + 1\n",
    "print(counts)"
   ]
  },
  {
   "cell_type": "code",
   "execution_count": 48,
   "metadata": {},
   "outputs": [
    {
     "data": {
      "text/plain": [
       "dict"
      ]
     },
     "execution_count": 48,
     "metadata": {},
     "output_type": "execute_result"
    }
   ],
   "source": [
    "type(counts)"
   ]
  },
  {
   "cell_type": "code",
   "execution_count": 58,
   "metadata": {},
   "outputs": [
    {
     "data": {
      "text/plain": [
       "108"
      ]
     },
     "execution_count": 58,
     "metadata": {},
     "output_type": "execute_result"
    }
   ],
   "source": [
    "max_words = max(counts.values())"
   ]
  },
  {
   "cell_type": "code",
   "execution_count": 63,
   "metadata": {},
   "outputs": [],
   "source": [
    "inv_counts = {v: k for k, v in counts.items()}"
   ]
  },
  {
   "cell_type": "code",
   "execution_count": 65,
   "metadata": {},
   "outputs": [
    {
     "data": {
      "text/plain": [
       "'the'"
      ]
     },
     "execution_count": 65,
     "metadata": {},
     "output_type": "execute_result"
    }
   ],
   "source": [
    "inv_counts[108]"
   ]
  },
  {
   "cell_type": "markdown",
   "metadata": {},
   "source": [
    "- 문제 16 해설)\n",
    "\n",
    "오바마 연설문을 텍스트로 불러온 이후, re.sub으로 특수문자를 제거했습니다.\n",
    "\n",
    "특수문자를 제거하고 split함수로 띄어쓰기 단위로 원소를 만들었습니다.\n",
    "\n",
    "주어진 코드를 이용해서 각 단어마다의 빈도수를 측정했고 dict에서 value값의 최대값을 찾았고\n",
    "\n",
    "최대값이 어떤 단어인지 알아보기 위해 dict에서 key와 value 값을 바꿨습니다.\n",
    "\n",
    "그리고 key값에 108을 입력해 어떤 단어가 최대 빈도수로 등장했는지 찾아봤습니다."
   ]
  },
  {
   "cell_type": "markdown",
   "metadata": {},
   "source": [
    "<font color = \"#CC3D3D\"><p>\n",
    "# End"
   ]
  }
 ],
 "metadata": {
  "kernelspec": {
   "display_name": "Python 3",
   "language": "python",
   "name": "python3"
  },
  "language_info": {
   "codemirror_mode": {
    "name": "ipython",
    "version": 3
   },
   "file_extension": ".py",
   "mimetype": "text/x-python",
   "name": "python",
   "nbconvert_exporter": "python",
   "pygments_lexer": "ipython3",
   "version": "3.7.6"
  }
 },
 "nbformat": 4,
 "nbformat_minor": 4
}
