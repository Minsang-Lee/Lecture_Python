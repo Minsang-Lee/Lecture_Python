{
 "cells": [
  {
   "cell_type": "markdown",
   "metadata": {},
   "source": [
    "<font color = \"#CC3D3D\"><p>\n",
    "# Flow Control (II)\n",
    "- **Function**\n",
    "- **Module**"
   ]
  },
  {
   "cell_type": "markdown",
   "metadata": {},
   "source": [
    "# 함수"
   ]
  },
  {
   "cell_type": "markdown",
   "metadata": {},
   "source": [
    "- 함수(function)는 특정한 작업을 하는 코드 조각이다. \n",
    "- 자주 사용되는 코드를 작성해 두고, 필요할 때마다 불러서 사용하기 위한 목적\n",
    "- 함수를 호출(call)할 때는 함수명 뒤에 `()`를 붙여준다.\n",
    "- 함수에 따라서는 실행에 필요한 어떤 값들을 넘겨줘야 하는데, 이를 **인자(argument)**라고 한다. \n",
    "- 예를 들어, 파이썬 내장 함수인 `round()`에 인수로 2.5를 넘겨주면, 반올림 되어서 3이 출력된다.\n",
    "```python\n",
    ">>> round(2.5)\n",
    "3\n",
    "```    \n",
    "\n",
    "함수 : 정의, 호출\n",
    "함수는 변수랑 다르게 뒷부분에 ()가 들어간다."
   ]
  },
  {
   "cell_type": "markdown",
   "metadata": {},
   "source": [
    "### 함수 정의\n",
    "새로운 함수를 만들 때는 **`def`** 라는 키워드를 사용한다. **`def`**는 definition의 약자이다.\n",
    "```python\n",
    "def func_name(arg1, arg2, ...):\n",
    "    return values\n",
    "```"
   ]
  },
  {
   "cell_type": "markdown",
   "metadata": {},
   "source": [
    "'안녕' 이라는 문자열를 반환(return)하는 `hello()`라는 함수를 만들어보자."
   ]
  },
  {
   "cell_type": "code",
   "execution_count": 9,
   "metadata": {},
   "outputs": [],
   "source": [
    "def hello():       # def 뒤에 함수 이름을 써준다. 괄호를 열고 닫고 콜론도 붙여준다. \n",
    "    return '안녕'  # 그 후 들여쓰기 안에, 실행하고자 하는 코드를 넣어준다.\n",
    "# 파라미터가 없다."
   ]
  },
  {
   "cell_type": "markdown",
   "metadata": {},
   "source": [
    "함수를 실행(호출, call)시키고 싶을때, 함수명을 적어준 후 ()를 붙여준다  \n",
    "=> `hello()` 함수를 실행하면 '안녕'이라는 결과가 반환된다."
   ]
  },
  {
   "cell_type": "code",
   "execution_count": 10,
   "metadata": {},
   "outputs": [
    {
     "data": {
      "text/plain": [
       "'안녕'"
      ]
     },
     "execution_count": 10,
     "metadata": {},
     "output_type": "execute_result"
    }
   ],
   "source": [
    "hello()"
   ]
  },
  {
   "cell_type": "markdown",
   "metadata": {},
   "source": [
    "호출한 함수의 반환 값을 저장하기 위하여 변수에 함수의 이름을 대입하면 된다."
   ]
  },
  {
   "cell_type": "code",
   "execution_count": 12,
   "metadata": {},
   "outputs": [
    {
     "data": {
      "text/plain": [
       "'안녕'"
      ]
     },
     "execution_count": 12,
     "metadata": {},
     "output_type": "execute_result"
    }
   ],
   "source": [
    "b = hello()\n",
    "b"
   ]
  },
  {
   "cell_type": "markdown",
   "metadata": {},
   "source": [
    "###  인자(argument)"
   ]
  },
  {
   "cell_type": "markdown",
   "metadata": {},
   "source": [
    "이번에는 이름을 넘겨 받아 인사에 포함시키는 `hello_name()`이라는 함수를 만들어보자."
   ]
  },
  {
   "cell_type": "code",
   "execution_count": 14,
   "metadata": {},
   "outputs": [
    {
     "data": {
      "text/plain": [
       "'안녕 국민대'"
      ]
     },
     "execution_count": 14,
     "metadata": {},
     "output_type": "execute_result"
    }
   ],
   "source": [
    "def hello_name(name): \n",
    "    return '안녕 ' + name\n",
    "hello_name('국민대')"
   ]
  },
  {
   "cell_type": "markdown",
   "metadata": {},
   "source": [
    "`hello_name()`을 호출할 때 괄호 안에 값을 인자로 넘겨주면, 그 값은 함수 안에서 `name`이라는 변수에 저장되어 사용된다."
   ]
  },
  {
   "cell_type": "code",
   "execution_count": 15,
   "metadata": {},
   "outputs": [
    {
     "data": {
      "text/plain": [
       "'안녕 D&A'"
      ]
     },
     "execution_count": 15,
     "metadata": {},
     "output_type": "execute_result"
    }
   ],
   "source": [
    "hello_name('D&A')  # 함수 안에서 name <- 'D&A'"
   ]
  },
  {
   "cell_type": "markdown",
   "metadata": {},
   "source": [
    "만약, 함수가 받아야 할 인자를 받지 못하면, 'name'이라는 인수를 받지 못했다고 `TypeError`를 낸다."
   ]
  },
  {
   "cell_type": "code",
   "execution_count": 16,
   "metadata": {},
   "outputs": [
    {
     "ename": "TypeError",
     "evalue": "hello_name() missing 1 required positional argument: 'name'",
     "output_type": "error",
     "traceback": [
      "\u001b[1;31m---------------------------------------------------------------------------\u001b[0m",
      "\u001b[1;31mTypeError\u001b[0m                                 Traceback (most recent call last)",
      "\u001b[1;32m<ipython-input-16-edf3273d55f5>\u001b[0m in \u001b[0;36m<module>\u001b[1;34m\u001b[0m\n\u001b[1;32m----> 1\u001b[1;33m \u001b[0mhello_name\u001b[0m\u001b[1;33m(\u001b[0m\u001b[1;33m)\u001b[0m \u001b[1;31m# name 값이 없어서 TypeError 난다.\u001b[0m\u001b[1;33m\u001b[0m\u001b[1;33m\u001b[0m\u001b[0m\n\u001b[0m",
      "\u001b[1;31mTypeError\u001b[0m: hello_name() missing 1 required positional argument: 'name'"
     ]
    }
   ],
   "source": [
    "hello_name() # name 값이 없어서 TypeError 난다."
   ]
  },
  {
   "cell_type": "markdown",
   "metadata": {},
   "source": [
    "### 인수가 여러 개인 함수"
   ]
  },
  {
   "cell_type": "markdown",
   "metadata": {},
   "source": [
    "함수에 인자를 여러 개 넣을 수 있는데, 이때 각 인자를 콤마로 구분하여 지정한다."
   ]
  },
  {
   "cell_type": "code",
   "execution_count": 17,
   "metadata": {},
   "outputs": [],
   "source": [
    "def hello_punc(name, punc):         \n",
    "    return '안녕 ' + name + punc"
   ]
  },
  {
   "cell_type": "code",
   "execution_count": 18,
   "metadata": {},
   "outputs": [
    {
     "data": {
      "text/plain": [
       "'안녕 D&A!'"
      ]
     },
     "execution_count": 18,
     "metadata": {},
     "output_type": "execute_result"
    }
   ],
   "source": [
    "hello_punc('D&A', '!')"
   ]
  },
  {
   "cell_type": "markdown",
   "metadata": {},
   "source": [
    "### 인자의 기본값"
   ]
  },
  {
   "cell_type": "markdown",
   "metadata": {},
   "source": [
    "함수의 인자가 여러 개인 경우 호출할 때마다 모든 인자를 넣어주는 것은 번거로운 작업일 수 있다.  \n",
    "=> 함수를 정의할 때 인자의 기본값을 지정하여, 인자를 생략하고 호출 시 해당 기본값이 인자 값이 되도록 할 수 있다."
   ]
  },
  {
   "cell_type": "markdown",
   "metadata": {},
   "source": [
    "아래의 예에서는 `punc`의 기본값을 느낌표로 지정한다."
   ]
  },
  {
   "cell_type": "code",
   "execution_count": 20,
   "metadata": {},
   "outputs": [],
   "source": [
    "def hello_punc(name = \"\", punc='!'):       # punc='!' 는 값을 입력하면 입력한 값대로 나오고, 값을 입력하지 않으면 기본값으로써 '!'가 나온다.\n",
    "    return '안녕 ' + name + punc\n",
    "# 인자의 기본값을 다 지정해서 그냥 해도 가능하다."
   ]
  },
  {
   "cell_type": "markdown",
   "metadata": {},
   "source": [
    "이제 `hello_punc()`를 호출 할 때 `punc`를 넘겨주지 않으면 기본값인 느낌표가 사용된다."
   ]
  },
  {
   "cell_type": "code",
   "execution_count": 22,
   "metadata": {},
   "outputs": [
    {
     "data": {
      "text/plain": [
       "'안녕 !'"
      ]
     },
     "execution_count": 22,
     "metadata": {},
     "output_type": "execute_result"
    }
   ],
   "source": [
    "hello_punc()"
   ]
  },
  {
   "cell_type": "markdown",
   "metadata": {},
   "source": [
    "함수 호출 시 인자를 넘겨주면, 기본값 대신 넘겨준 인자를 사용한다."
   ]
  },
  {
   "cell_type": "code",
   "execution_count": 23,
   "metadata": {},
   "outputs": [
    {
     "data": {
      "text/plain": [
       "'안녕 D&A?'"
      ]
     },
     "execution_count": 23,
     "metadata": {},
     "output_type": "execute_result"
    }
   ],
   "source": [
    "hello_punc('D&A', '?')"
   ]
  },
  {
   "cell_type": "markdown",
   "metadata": {},
   "source": [
    "역시, 기본값이 지정되지 않은 인자를 생략하면 에러가 발생한다."
   ]
  },
  {
   "cell_type": "code",
   "execution_count": 26,
   "metadata": {},
   "outputs": [
    {
     "ename": "TypeError",
     "evalue": "hello_punc() missing 1 required positional argument: 'name'",
     "output_type": "error",
     "traceback": [
      "\u001b[1;31m---------------------------------------------------------------------------\u001b[0m",
      "\u001b[1;31mTypeError\u001b[0m                                 Traceback (most recent call last)",
      "\u001b[1;32m<ipython-input-26-3e050ca34160>\u001b[0m in \u001b[0;36m<module>\u001b[1;34m\u001b[0m\n\u001b[0;32m      1\u001b[0m \u001b[1;32mdef\u001b[0m \u001b[0mhello_punc\u001b[0m\u001b[1;33m(\u001b[0m\u001b[0mname\u001b[0m\u001b[1;33m,\u001b[0m \u001b[0mpunc\u001b[0m\u001b[1;33m=\u001b[0m\u001b[1;34m'!'\u001b[0m\u001b[1;33m)\u001b[0m\u001b[1;33m:\u001b[0m\u001b[1;33m\u001b[0m\u001b[1;33m\u001b[0m\u001b[0m\n\u001b[0;32m      2\u001b[0m     \u001b[1;32mreturn\u001b[0m \u001b[1;34m'안녕 '\u001b[0m \u001b[1;33m+\u001b[0m \u001b[0mname\u001b[0m \u001b[1;33m+\u001b[0m \u001b[0mpunc\u001b[0m\u001b[1;33m\u001b[0m\u001b[1;33m\u001b[0m\u001b[0m\n\u001b[1;32m----> 3\u001b[1;33m \u001b[0mhello_punc\u001b[0m\u001b[1;33m(\u001b[0m\u001b[1;33m)\u001b[0m           \u001b[1;31m# name 부분이 기본값이 지정되지 않아서 Error 발생\u001b[0m\u001b[1;33m\u001b[0m\u001b[1;33m\u001b[0m\u001b[0m\n\u001b[0m",
      "\u001b[1;31mTypeError\u001b[0m: hello_punc() missing 1 required positional argument: 'name'"
     ]
    }
   ],
   "source": [
    "def hello_punc(name, punc='!'):\n",
    "    return '안녕 ' + name + punc\n",
    "hello_punc()           # name 부분이 기본값이 지정되지 않아서 Error 발생 TypeError 부분 보면 이해가 가능하다."
   ]
  },
  {
   "cell_type": "markdown",
   "metadata": {},
   "source": [
    "sklearn decision tree"
   ]
  },
  {
   "cell_type": "markdown",
   "metadata": {},
   "source": [
    "### 인자의 종류\n",
    "파이썬에서는 2가지 인자가 있는데 하나는 `positional argument`이고, 하나는 `keyword argument`이다.  \n",
    "전자는 말그대로 위치에 따라 정해지는 인자이며, 후자는 키워드(이름)를 가진 인자를 말한다."
   ]
  },
  {
   "cell_type": "code",
   "execution_count": 27,
   "metadata": {},
   "outputs": [],
   "source": [
    "def func(x, y):\n",
    "    return x*10 + y"
   ]
  },
  {
   "cell_type": "markdown",
   "metadata": {},
   "source": [
    "*Call by positional arguments*"
   ]
  },
  {
   "cell_type": "code",
   "execution_count": 2,
   "metadata": {},
   "outputs": [
    {
     "data": {
      "text/plain": [
       "12"
      ]
     },
     "execution_count": 2,
     "metadata": {},
     "output_type": "execute_result"
    }
   ],
   "source": [
    "func(1, 2)"
   ]
  },
  {
   "cell_type": "markdown",
   "metadata": {},
   "source": [
    "*Call by keyword arguments*"
   ]
  },
  {
   "cell_type": "code",
   "execution_count": 28,
   "metadata": {},
   "outputs": [
    {
     "data": {
      "text/plain": [
       "12"
      ]
     },
     "execution_count": 28,
     "metadata": {},
     "output_type": "execute_result"
    }
   ],
   "source": [
    "func(y=2, x=1) # keyword arguments로 했을 때 위치랑 관계없이 가능하다"
   ]
  },
  {
   "cell_type": "markdown",
   "metadata": {},
   "source": [
    "###  반환값이 없는 함수"
   ]
  },
  {
   "cell_type": "markdown",
   "metadata": {},
   "source": [
    "아래 함수는 '안녕'이라고 출력하고 아무 것도 반환하지 않는다!!!"
   ]
  },
  {
   "cell_type": "code",
   "execution_count": 31,
   "metadata": {},
   "outputs": [
    {
     "name": "stdout",
     "output_type": "stream",
     "text": [
      "안녕\n"
     ]
    }
   ],
   "source": [
    "def print_hello():\n",
    "    print('안녕')\n",
    "    \n",
    "print_hello()"
   ]
  },
  {
   "cell_type": "code",
   "execution_count": 32,
   "metadata": {},
   "outputs": [
    {
     "name": "stdout",
     "output_type": "stream",
     "text": [
      "안녕\n"
     ]
    }
   ],
   "source": [
    "x = print_hello()"
   ]
  },
  {
   "cell_type": "markdown",
   "metadata": {},
   "source": [
    "`x`에는 아무 것도 들어있지 않다. 즉, `x`에는 없음을 뜻하는 `None`이 들어있다."
   ]
  },
  {
   "cell_type": "code",
   "execution_count": 34,
   "metadata": {},
   "outputs": [
    {
     "data": {
      "text/plain": [
       "True"
      ]
     },
     "execution_count": 34,
     "metadata": {},
     "output_type": "execute_result"
    }
   ],
   "source": [
    "x == None      # return 값이 존재하지 않으므로 x에 None이 들어가 있다."
   ]
  },
  {
   "cell_type": "markdown",
   "metadata": {},
   "source": [
    "### 여러 값 반환하기"
   ]
  },
  {
   "cell_type": "markdown",
   "metadata": {},
   "source": [
    "여러 개의 값을 반환할 때는 콤마로 구분한다. "
   ]
  },
  {
   "cell_type": "markdown",
   "metadata": {},
   "source": [
    "아래 `circle()` 함수는 반지름을 인자로 넘겨 받아 원의 둘레와 넓이를 계산하여 반환한다."
   ]
  },
  {
   "cell_type": "code",
   "execution_count": 35,
   "metadata": {},
   "outputs": [],
   "source": [
    "def circle(r):\n",
    "    둘레 = 2 * 3.14 * r\n",
    "    넓이 = 3.14 * r ** 2\n",
    "    return 둘레, 넓이"
   ]
  },
  {
   "cell_type": "markdown",
   "metadata": {},
   "source": [
    "`circle()` 함수를 호출한다."
   ]
  },
  {
   "cell_type": "code",
   "execution_count": 37,
   "metadata": {},
   "outputs": [
    {
     "data": {
      "text/plain": [
       "(75.36, 452.16)"
      ]
     },
     "execution_count": 37,
     "metadata": {},
     "output_type": "execute_result"
    }
   ],
   "source": [
    "circle(12)"
   ]
  },
  {
   "cell_type": "markdown",
   "metadata": {},
   "source": [
    "두 개의 값이 튜플로 반환된다. 이 튜플 값을 변수에 할당하고 싶으면 아래와 같은 형태를 사용할 수 있다."
   ]
  },
  {
   "cell_type": "code",
   "execution_count": 38,
   "metadata": {},
   "outputs": [
    {
     "name": "stdout",
     "output_type": "stream",
     "text": [
      "6.28 3.14\n"
     ]
    }
   ],
   "source": [
    "# 2개의 실수형 변수로 받고 싶을 때\n",
    "c, a = circle(1)\n",
    "print(c, a)"
   ]
  },
  {
   "cell_type": "code",
   "execution_count": 39,
   "metadata": {},
   "outputs": [
    {
     "name": "stdout",
     "output_type": "stream",
     "text": [
      "(6.28, 3.14)\n"
     ]
    }
   ],
   "source": [
    "# 한개의 튜플 변수로 받고 싶을 때\n",
    "ca = circle(1)\n",
    "print(ca)"
   ]
  },
  {
   "cell_type": "code",
   "execution_count": 41,
   "metadata": {},
   "outputs": [
    {
     "name": "stdout",
     "output_type": "stream",
     "text": [
      "6.28\n"
     ]
    }
   ],
   "source": [
    "# 반환값 중 하나(예: 둘레)만 받고 싶을 때 (하나만 받고 싶을 땐 역시 _을 써서 사용한다.)\n",
    "c, _ = circle(1)\n",
    "print(c)"
   ]
  },
  {
   "cell_type": "markdown",
   "metadata": {},
   "source": [
    "### 이름이 없는 함수: lambda"
   ]
  },
  {
   "cell_type": "markdown",
   "metadata": {},
   "source": [
    "- `lambda`는 쓰고 버리는 일시적인 함수이다. \n",
    "- 즉, 일반적인 함수와 같이 한번 정의한 후 여러번 쓰는 것이 아니고 필요한 곳에서 한번만 사용한다.\n",
    "- `lambda` 정의에는 `return` 문이 포함되어 있지 않고, 대신 반환값을 만드는 표현식이 있다. "
   ]
  },
  {
   "cell_type": "code",
   "execution_count": 43,
   "metadata": {},
   "outputs": [
    {
     "data": {
      "text/plain": [
       "35"
      ]
     },
     "execution_count": 43,
     "metadata": {},
     "output_type": "execute_result"
    }
   ],
   "source": [
    "g = lambda x,y: x+y\n",
    "g(15, 20)"
   ]
  },
  {
   "cell_type": "code",
   "execution_count": 44,
   "metadata": {},
   "outputs": [],
   "source": [
    "def g(x,y):\n",
    "    return x+y"
   ]
  },
  {
   "cell_type": "code",
   "execution_count": 49,
   "metadata": {},
   "outputs": [
    {
     "data": {
      "text/plain": [
       "1350"
      ]
     },
     "execution_count": 49,
     "metadata": {},
     "output_type": "execute_result"
    }
   ],
   "source": [
    "g = lambda x,y: x*y\n",
    "g(30, 45)"
   ]
  },
  {
   "cell_type": "code",
   "execution_count": 2,
   "metadata": {},
   "outputs": [
    {
     "data": {
      "text/plain": [
       "[10, 20, 30, 40, 50]"
      ]
     },
     "execution_count": 2,
     "metadata": {},
     "output_type": "execute_result"
    }
   ],
   "source": [
    "def f(x):\n",
    "    return x*10\n",
    "\n",
    "\n",
    "[i*10 for i in [1,2,3,4,5]]      # 이 구분 잘 외워둘 것!\n",
    "        # 둘다 가능"
   ]
  },
  {
   "cell_type": "code",
   "execution_count": 54,
   "metadata": {},
   "outputs": [
    {
     "data": {
      "text/plain": [
       "[10, 20, 30, 40, 50]"
      ]
     },
     "execution_count": 54,
     "metadata": {},
     "output_type": "execute_result"
    }
   ],
   "source": [
    "k = [1,2,3,4,5]\n",
    "\n",
    "[f(i) for i in k]"
   ]
  },
  {
   "cell_type": "markdown",
   "metadata": {},
   "source": [
    "일반함수가 사용될 수 있는 곳에는 어디라도 `lambda` 정의를 넣을 수 있으며, 위의 예처럼 반드시 변수에 할당하여 사용할 필요는 없다.\n",
    "```python\n",
    "map(func, list) # applies a function to all the items in a list\n",
    "```"
   ]
  },
  {
   "cell_type": "code",
   "execution_count": 56,
   "metadata": {},
   "outputs": [
    {
     "data": {
      "text/plain": [
       "[10, 20, 30, 40, 50]"
      ]
     },
     "execution_count": 56,
     "metadata": {},
     "output_type": "execute_result"
    }
   ],
   "source": [
    "list(map(lambda x: x*10, [1,2,3,4,5]))\n",
    "# lambda를 안 쓸 경우 어딘 가에 내가 함수 정의를 해야 한다. 함수 정의를 계속 선언하기 힘들거나 진짜 딱 한번만 쓸 경우 lambda함수가 좋은 방법이 된다."
   ]
  },
  {
   "cell_type": "code",
   "execution_count": 57,
   "metadata": {},
   "outputs": [
    {
     "data": {
      "text/plain": [
       "[10, 20, 30, 40, 50]"
      ]
     },
     "execution_count": 57,
     "metadata": {},
     "output_type": "execute_result"
    }
   ],
   "source": [
    "list(map(f, [1,2,3,4,5]))"
   ]
  },
  {
   "cell_type": "markdown",
   "metadata": {},
   "source": [
    "<font color = \"blue\">\n",
    "Ex) -10에서 10까지의 정수 리스트 x가 주어질 때, map과 lambda를 이용하여 $y = \\cfrac{1}{1+exp(-x)}$인 실수 리스트 y를 만드시오.  \n",
    "그리고 x와 y간의 관계를 matplotlib의 plot()을 이용하여 도식하시오."
   ]
  },
  {
   "cell_type": "code",
   "execution_count": 58,
   "metadata": {},
   "outputs": [
    {
     "name": "stderr",
     "output_type": "stream",
     "text": [
      "UsageError: unrecognized arguments: # %는 매직커맨드. 명령어로 생각하면 된다. 시각화 할려면 밑에 두줄은 무조건 필수\n"
     ]
    }
   ],
   "source": [
    "from math import exp\n",
    "import matplotlib.pyplot as plt\n",
    "%matplotlib inline # %는 매직커맨드. 명령어로 생각하면 된다. 시각화 할려면 밑에 두줄은 무조건 필수"
   ]
  },
  {
   "cell_type": "code",
   "execution_count": 63,
   "metadata": {},
   "outputs": [],
   "source": [
    "# -10에서 10까지의 정수 리스트를 x에 저장한다.\n",
    "x = range(-10, 11)"
   ]
  },
  {
   "cell_type": "code",
   "execution_count": 64,
   "metadata": {},
   "outputs": [],
   "source": [
    "# x의 각 원소값에 lambda 함수식이 적용된 결과 값을 y에 저장한다.\n",
    "y = map(lambda x: 1/(1+exp(-x)), x)"
   ]
  },
  {
   "cell_type": "code",
   "execution_count": 65,
   "metadata": {},
   "outputs": [
    {
     "data": {
      "text/plain": [
       "[<matplotlib.lines.Line2D at 0x2600f7d3188>]"
      ]
     },
     "execution_count": 65,
     "metadata": {},
     "output_type": "execute_result"
    },
    {
     "data": {
      "image/png": "[encoded data removed]",
      "text/plain": [
       "<Figure size 432x288 with 1 Axes>"
      ]
     },
     "metadata": {
      "needs_background": "light"
     },
     "output_type": "display_data"
    }
   ],
   "source": [
    "# plot의 첫번째 인자는 x축 값, 두번째 인자는 y축 값을 의미한다.\n",
    "plt.plot(x, list(y))\n",
    "# 이 방식에 대해서 알아둘 것"
   ]
  },
  {
   "cell_type": "markdown",
   "metadata": {},
   "source": [
    "###  유효 범위 (Scoping rules)\n",
    "- 함수 밖에서 정의된 변수는 함수 안쪽에 사용할 수 있다.  \n",
    "- 하지만 함수 안에서 정의된 변수는 함수 바깥쪽에서 사용될 수 없다 (함수 실행이 종료됨과 동시에 함수 안에서 정의된 변수는 자동 소멸)"
   ]
  },
  {
   "cell_type": "code",
   "execution_count": 66,
   "metadata": {},
   "outputs": [],
   "source": [
    "a = 1    # 지금 a값은 내가 나중에 지우거나 값을 변경하기 전까지 살아있다."
   ]
  },
  {
   "cell_type": "markdown",
   "metadata": {},
   "source": [
    "`add()` 함수를 정의한다."
   ]
  },
  {
   "cell_type": "code",
   "execution_count": 67,
   "metadata": {},
   "outputs": [],
   "source": [
    "def add(x):\n",
    "    b = x + 2\n",
    "    return b + a       # 함수 안에서 생성된 변수 x와 b는 함수 바깥쪽에선 사용할 수 없다."
   ]
  },
  {
   "cell_type": "markdown",
   "metadata": {},
   "source": [
    "`add()`를 호출하면 결과로 6이라는 값이 출력된다. 함수 안에서는 바깥쪽에서 정의된 `a`를 부를 수 있기 때문이다."
   ]
  },
  {
   "cell_type": "code",
   "execution_count": 72,
   "metadata": {},
   "outputs": [
    {
     "data": {
      "text/plain": [
       "12"
      ]
     },
     "execution_count": 72,
     "metadata": {},
     "output_type": "execute_result"
    }
   ],
   "source": [
    "add(9)"
   ]
  },
  {
   "cell_type": "markdown",
   "metadata": {},
   "source": [
    "함수 안에서 정의된 `b`를 바깥쪽에서 불러보면, `NameError`가 발생한다."
   ]
  },
  {
   "cell_type": "code",
   "execution_count": 75,
   "metadata": {},
   "outputs": [
    {
     "data": {
      "text/plain": [
       "'안녕'"
      ]
     },
     "execution_count": 75,
     "metadata": {},
     "output_type": "execute_result"
    }
   ],
   "source": [
    "b           # 코딩값을 보면 name'b'는 정의되지 않다고 나온다.\n",
    "            # 같은 내용으로 이전에 선언된 변수라 할지라도 함수 안에서 생성할 때 똑같은 변수명으로 실행한다고 해도\n",
    "            # 함수 안에서의 값을 우선적으로 해서 진행한다.\n",
    "            # 앞서서 name 'b'를 연습하다가 선언을 해서 b에 대한 값이 존재하지만 결국 위로 두칸 가면 내가 함수 안에서\n",
    "            # 변수 선언했던 b랑 다름을 알 수 있다."
   ]
  },
  {
   "cell_type": "markdown",
   "metadata": {},
   "source": [
    "함수 밖에서 정의된 변수와 함수 안에서 정의된 변수가 이름이 같더라도, 두 변수는 서로 다른 변수이다."
   ]
  },
  {
   "cell_type": "code",
   "execution_count": 77,
   "metadata": {},
   "outputs": [
    {
     "name": "stdout",
     "output_type": "stream",
     "text": [
      "함수 내의 x =  20\n",
      "함수 밖의 x =  10\n"
     ]
    }
   ],
   "source": [
    "x = 10\n",
    "def add2(x):\n",
    "    print('함수 내의 x = ', x)\n",
    "    b = x + 2\n",
    "    return x + a\n",
    "\n",
    "add2(20)\n",
    "print('함수 밖의 x = ', x)"
   ]
  },
  {
   "cell_type": "markdown",
   "metadata": {},
   "source": [
    "### 파이썬 내장함수\n",
    "<img align=\"left\" src=\"https://t1.daumcdn.net/cfile/tistory/274A1F4F5773A4A837\" width=700 height=600>"
   ]
  },
  {
   "cell_type": "markdown",
   "metadata": {},
   "source": [
    "https://wikidocs.net/32"
   ]
  },
  {
   "cell_type": "markdown",
   "metadata": {},
   "source": [
    "# 모듈"
   ]
  },
  {
   "cell_type": "markdown",
   "metadata": {},
   "source": [
    "- 파이썬 파일은 `.py` 확장자를 붙인다. \n",
    "- 하나의 파이썬 파일을 \"모듈\"이라고 부른다.\n",
    "\n",
    "<img align=\"left\" src=\"http://drive.google.com/uc?export=view&id=14tJyLDklDGVn7cndniOSdciEoMLUoGII\" width=600 height=400>"
   ]
  },
  {
   "cell_type": "markdown",
   "metadata": {},
   "source": [
    "다음과 같은 파일을 작성해서 `mymath.py`로 저장하자.\n",
    "이미 만들어진 모듈은 4가지 방법으로 불러서 사용할 수 있다."
   ]
  },
  {
   "cell_type": "code",
   "execution_count": 78,
   "metadata": {},
   "outputs": [
    {
     "name": "stdout",
     "output_type": "stream",
     "text": [
      "Overwriting mymath.py\n"
     ]
    }
   ],
   "source": [
    "%%writefile mymath.py\n",
    "def add(a, b):\n",
    "    return a + b\n",
    "\n",
    "def sub(a, b):\n",
    "    return a - b\n",
    "\n",
    "\n",
    "# 만들어진 모듈 불러오는 방법 잘 알아둘 것! 나중에 팀플하면서 많이 사용할 듯\n",
    "# 내가 만든 모듈을 저장하는 방법에 대해서도 기억하는 것이 좋다."
   ]
  },
  {
   "cell_type": "markdown",
   "metadata": {},
   "source": [
    "### import"
   ]
  },
  {
   "cell_type": "markdown",
   "metadata": {},
   "source": [
    "모듈은 `import` 문으로 불러서 사용할 수 있다. 이떄 `.py`는 뺀 모듈명을 지정한다."
   ]
  },
  {
   "cell_type": "code",
   "execution_count": 79,
   "metadata": {},
   "outputs": [],
   "source": [
    "import mymath"
   ]
  },
  {
   "cell_type": "markdown",
   "metadata": {},
   "source": [
    "`import`한 모듈 이름 뒤에 `.`을 붙이면 모듈의 변수나 함수에 접근할 수 있다."
   ]
  },
  {
   "cell_type": "code",
   "execution_count": 80,
   "metadata": {},
   "outputs": [
    {
     "data": {
      "text/plain": [
       "11"
      ]
     },
     "execution_count": 80,
     "metadata": {},
     "output_type": "execute_result"
    }
   ],
   "source": [
    "mymath.add(5, 6)"
   ]
  },
  {
   "cell_type": "code",
   "execution_count": 81,
   "metadata": {},
   "outputs": [
    {
     "data": {
      "text/plain": [
       "-1"
      ]
     },
     "execution_count": 81,
     "metadata": {},
     "output_type": "execute_result"
    }
   ],
   "source": [
    "mymath.sub(5, 6)"
   ]
  },
  {
   "cell_type": "markdown",
   "metadata": {},
   "source": [
    "사용의 편의를 위해 (긴) 모듈명 대신 약칭을 사용할 수 있다."
   ]
  },
  {
   "cell_type": "code",
   "execution_count": 82,
   "metadata": {},
   "outputs": [
    {
     "data": {
      "text/plain": [
       "11"
      ]
     },
     "execution_count": 82,
     "metadata": {},
     "output_type": "execute_result"
    }
   ],
   "source": [
    "import mymath as m\n",
    "m.add(5, 6)"
   ]
  },
  {
   "cell_type": "markdown",
   "metadata": {},
   "source": [
    "### from .. import .."
   ]
  },
  {
   "cell_type": "markdown",
   "metadata": {},
   "source": [
    "`from`과 `import`를 사용하면 모듈의 함수나 변수를 직접 불러올 수 있다."
   ]
  },
  {
   "cell_type": "code",
   "execution_count": 83,
   "metadata": {},
   "outputs": [],
   "source": [
    "from mymath import add"
   ]
  },
  {
   "cell_type": "code",
   "execution_count": 84,
   "metadata": {},
   "outputs": [
    {
     "data": {
      "text/plain": [
       "11"
      ]
     },
     "execution_count": 84,
     "metadata": {},
     "output_type": "execute_result"
    }
   ],
   "source": [
    "add(5, 6)"
   ]
  },
  {
   "cell_type": "code",
   "execution_count": 85,
   "metadata": {},
   "outputs": [
    {
     "ename": "NameError",
     "evalue": "name 'sub' is not defined",
     "output_type": "error",
     "traceback": [
      "\u001b[1;31m---------------------------------------------------------------------------\u001b[0m",
      "\u001b[1;31mNameError\u001b[0m                                 Traceback (most recent call last)",
      "\u001b[1;32m<ipython-input-85-c7a6e800fa93>\u001b[0m in \u001b[0;36m<module>\u001b[1;34m\u001b[0m\n\u001b[1;32m----> 1\u001b[1;33m \u001b[0msub\u001b[0m\u001b[1;33m(\u001b[0m\u001b[1;36m5\u001b[0m\u001b[1;33m,\u001b[0m \u001b[1;36m6\u001b[0m\u001b[1;33m)\u001b[0m\u001b[1;33m\u001b[0m\u001b[1;33m\u001b[0m\u001b[0m\n\u001b[0m",
      "\u001b[1;31mNameError\u001b[0m: name 'sub' is not defined"
     ]
    }
   ],
   "source": [
    "sub(5, 6) # from mymath import add에서 sub을 따로 import 하지 않아서 add는 가능하지만 sub은 선언되지 않는 경우"
   ]
  },
  {
   "cell_type": "code",
   "execution_count": 86,
   "metadata": {},
   "outputs": [],
   "source": [
    "from mymath import add, sub"
   ]
  },
  {
   "cell_type": "code",
   "execution_count": 87,
   "metadata": {},
   "outputs": [
    {
     "data": {
      "text/plain": [
       "10"
      ]
     },
     "execution_count": 87,
     "metadata": {},
     "output_type": "execute_result"
    }
   ],
   "source": [
    "add(5, 6) + sub(5, 6)"
   ]
  },
  {
   "cell_type": "markdown",
   "metadata": {},
   "source": [
    "모듈의 모든 함수와 변수를 불러오려면 `import` 문 다음에 `*`를 지정한다."
   ]
  },
  {
   "cell_type": "code",
   "execution_count": 88,
   "metadata": {},
   "outputs": [],
   "source": [
    "from mymath import *"
   ]
  },
  {
   "cell_type": "code",
   "execution_count": 89,
   "metadata": {},
   "outputs": [
    {
     "data": {
      "text/plain": [
       "10"
      ]
     },
     "execution_count": 89,
     "metadata": {},
     "output_type": "execute_result"
    }
   ],
   "source": [
    "add(5, 6) + sub(5, 6)"
   ]
  },
  {
   "cell_type": "markdown",
   "metadata": {},
   "source": [
    "### (함수 고급) Packing & Unpacking Arguments: *args"
   ]
  },
  {
   "cell_type": "markdown",
   "metadata": {},
   "source": [
    "다음과 같이 입력한 인자를 제곱한 후 모두 합하는 함수 `ssum()`를 만든다고 가정하자. 이때 인자의 갯수는 1개 이상이다.  \n",
    "- ssum(2) &rarr; $2^2$\n",
    "- ssum(2,3) &rarr; $2^2+3^2$\n",
    "- ssum(2,3,4) &rarr; $2^2+3^2+4^2$\n",
    "- ssum(2,3,4,5) &rarr; $2^2+3^2+4^2+5^2$  \n",
    "**...**"
   ]
  },
  {
   "cell_type": "markdown",
   "metadata": {},
   "source": [
    "일단, 아래와 같이 함수를 정의해보자."
   ]
  },
  {
   "cell_type": "code",
   "execution_count": 90,
   "metadata": {},
   "outputs": [],
   "source": [
    "def ssum(a,b,c,d):\n",
    "    return a**2 + b**2 + c**2 + d**2"
   ]
  },
  {
   "cell_type": "code",
   "execution_count": 91,
   "metadata": {},
   "outputs": [
    {
     "data": {
      "text/plain": [
       "54"
      ]
     },
     "execution_count": 91,
     "metadata": {},
     "output_type": "execute_result"
    }
   ],
   "source": [
    "ssum(2,3,4,5)"
   ]
  },
  {
   "cell_type": "markdown",
   "metadata": {},
   "source": [
    "함수 호출 시 인자가 4개일 때는 잘 돌아간다. 하지만,"
   ]
  },
  {
   "cell_type": "code",
   "execution_count": 92,
   "metadata": {},
   "outputs": [
    {
     "ename": "TypeError",
     "evalue": "ssum() missing 3 required positional arguments: 'b', 'c', and 'd'",
     "output_type": "error",
     "traceback": [
      "\u001b[1;31m---------------------------------------------------------------------------\u001b[0m",
      "\u001b[1;31mTypeError\u001b[0m                                 Traceback (most recent call last)",
      "\u001b[1;32m<ipython-input-92-28cc8a6576ef>\u001b[0m in \u001b[0;36m<module>\u001b[1;34m\u001b[0m\n\u001b[1;32m----> 1\u001b[1;33m \u001b[0mssum\u001b[0m\u001b[1;33m(\u001b[0m\u001b[1;36m2\u001b[0m\u001b[1;33m)\u001b[0m\u001b[1;33m\u001b[0m\u001b[1;33m\u001b[0m\u001b[0m\n\u001b[0m",
      "\u001b[1;31mTypeError\u001b[0m: ssum() missing 3 required positional arguments: 'b', 'c', and 'd'"
     ]
    }
   ],
   "source": [
    "ssum(2)"
   ]
  },
  {
   "cell_type": "code",
   "execution_count": 93,
   "metadata": {},
   "outputs": [
    {
     "ename": "TypeError",
     "evalue": "ssum() missing 2 required positional arguments: 'c' and 'd'",
     "output_type": "error",
     "traceback": [
      "\u001b[1;31m---------------------------------------------------------------------------\u001b[0m",
      "\u001b[1;31mTypeError\u001b[0m                                 Traceback (most recent call last)",
      "\u001b[1;32m<ipython-input-93-79822f6b4bac>\u001b[0m in \u001b[0;36m<module>\u001b[1;34m\u001b[0m\n\u001b[1;32m----> 1\u001b[1;33m \u001b[0mssum\u001b[0m\u001b[1;33m(\u001b[0m\u001b[1;36m2\u001b[0m\u001b[1;33m,\u001b[0m\u001b[1;36m3\u001b[0m\u001b[1;33m)\u001b[0m\u001b[1;33m\u001b[0m\u001b[1;33m\u001b[0m\u001b[0m\n\u001b[0m",
      "\u001b[1;31mTypeError\u001b[0m: ssum() missing 2 required positional arguments: 'c' and 'd'"
     ]
    }
   ],
   "source": [
    "ssum(2,3) # 함수 정의에서 4개의 인자로 구성했기 때문에 무조건 4개의 인자로 해야된다."
   ]
  },
  {
   "cell_type": "markdown",
   "metadata": {},
   "source": [
    "인자가 4개가 아닐 때는 모두 TypeError가 발생한다.  \n",
    "=> 가변인자(variadic parameters)를 사용하고자 할 때 이를 나타낼 수 있는 문법이 필요한데, 이것이 인자의 `packing`과 `unpacking`이다."
   ]
  },
  {
   "cell_type": "markdown",
   "metadata": {},
   "source": [
    "함수를 정의할 때 가변적인 인자를 `*args`로 나타내면 된다. (여기서 args라는 변수명은 얼마든지 바꿀 수 있지만 그대로 사용하는 것이 관습)"
   ]
  },
  {
   "cell_type": "code",
   "execution_count": 94,
   "metadata": {},
   "outputs": [],
   "source": [
    "def ssum(*args):\n",
    "    return sum([i**2 for i in args])"
   ]
  },
  {
   "cell_type": "code",
   "execution_count": 95,
   "metadata": {},
   "outputs": [
    {
     "data": {
      "text/plain": [
       "54"
      ]
     },
     "execution_count": 95,
     "metadata": {},
     "output_type": "execute_result"
    }
   ],
   "source": [
    "ssum(2,3,4,5)"
   ]
  },
  {
   "cell_type": "code",
   "execution_count": 96,
   "metadata": {},
   "outputs": [
    {
     "data": {
      "text/plain": [
       "(29, 13, 4)"
      ]
     },
     "execution_count": 96,
     "metadata": {},
     "output_type": "execute_result"
    }
   ],
   "source": [
    "ssum(2,3,4), ssum(2,3), ssum(2)\n",
    "\n",
    "# 위 부분과 다른 부분이 어느 것인지 파악하고 기억해둘 것"
   ]
  },
  {
   "cell_type": "markdown",
   "metadata": {},
   "source": [
    "함수 내에서 `args`는 packing을 의미한다. (즉, 넘어오는 인자값에 튜플 괄호를 씌운다고 생각하면 됨)"
   ]
  },
  {
   "cell_type": "code",
   "execution_count": 97,
   "metadata": {},
   "outputs": [
    {
     "name": "stdout",
     "output_type": "stream",
     "text": [
      "(2, 3, 4, 5)\n"
     ]
    },
    {
     "data": {
      "text/plain": [
       "54"
      ]
     },
     "execution_count": 97,
     "metadata": {},
     "output_type": "execute_result"
    }
   ],
   "source": [
    "def ssum(*args):\n",
    "    print(args)\n",
    "    return sum([i**2 for i in args])\n",
    "\n",
    "ssum(2,3,4,5)"
   ]
  },
  {
   "cell_type": "markdown",
   "metadata": {},
   "source": [
    "넘어온 모든 인자값를 더한 후 그 값을 제곱하여 반환하도록 `ssum()`을 아래와 같이 빠꾼다고 하자."
   ]
  },
  {
   "cell_type": "code",
   "execution_count": 98,
   "metadata": {},
   "outputs": [],
   "source": [
    "def ssum(*args):\n",
    "    return sum([*args])**2"
   ]
  },
  {
   "cell_type": "code",
   "execution_count": 100,
   "metadata": {},
   "outputs": [
    {
     "data": {
      "text/plain": [
       "196"
      ]
     },
     "execution_count": 100,
     "metadata": {},
     "output_type": "execute_result"
    }
   ],
   "source": [
    "ssum(2,3,4,5)"
   ]
  },
  {
   "cell_type": "markdown",
   "metadata": {},
   "source": [
    "이때, `*args`는 unpacking을 나타낸다. (즉, 튜플의 괄호를 없앤다고 생각하면 됨)"
   ]
  },
  {
   "cell_type": "markdown",
   "metadata": {},
   "source": [
    "아래와 같이 `*args`는 함수 밖에서도 언제든 사용할 수 있다."
   ]
  },
  {
   "cell_type": "code",
   "execution_count": 102,
   "metadata": {},
   "outputs": [
    {
     "data": {
      "text/plain": [
       "81"
      ]
     },
     "execution_count": 102,
     "metadata": {},
     "output_type": "execute_result"
    }
   ],
   "source": [
    "args = (2,3,4)\n",
    "ssum(*args)"
   ]
  },
  {
   "cell_type": "markdown",
   "metadata": {},
   "source": [
    "<font color = \"blue\"><p>\n",
    "#### Ex) `**kwargs`라는 또 다른 packing/unpacking 표현은 무엇을 의미하는가? 다음 함수를 실행한 결과를 가지고 설명하라.  \n",
    "*Hint: https://mingrammer.com/understanding-the-asterisk-of-python/ *"
   ]
  },
  {
   "cell_type": "code",
   "execution_count": 116,
   "metadata": {},
   "outputs": [
    {
     "data": {
      "text/plain": [
       "(10, {})"
      ]
     },
     "execution_count": 116,
     "metadata": {},
     "output_type": "execute_result"
    }
   ],
   "source": [
    "def g(x, **kwargs) :\n",
    "    return x, kwargs\n",
    "g(x)"
   ]
  },
  {
   "cell_type": "code",
   "execution_count": 123,
   "metadata": {},
   "outputs": [
    {
     "data": {
      "text/plain": [
       "(10, {'first': 'ming', 'second': 'alice'})"
      ]
     },
     "execution_count": 123,
     "metadata": {},
     "output_type": "execute_result"
    }
   ],
   "source": [
    "g(x, first='ming', second='alice')"
   ]
  },
  {
   "cell_type": "code",
   "execution_count": 124,
   "metadata": {},
   "outputs": [
    {
     "data": {
      "text/plain": [
       "(10,\n",
       " {'first': 'ming',\n",
       "  'second': 'alice',\n",
       "  'fourth': 'wilson',\n",
       "  'third': 'tom',\n",
       "  'fifth': 'roy'})"
      ]
     },
     "execution_count": 124,
     "metadata": {},
     "output_type": "execute_result"
    }
   ],
   "source": [
    "g(x, first='ming', second='alice', fourth='wilson', third='tom', fifth='roy')"
   ]
  },
  {
   "cell_type": "markdown",
   "metadata": {},
   "source": [
    "# ...설명...\n",
    "**kwargs는 임의의 갯수의 Keyword Arguments를 받는 것을 의미한다.\n",
    "*args 똑같이 임의의 갯수를 받지만, **kwargs는 임의의 갯수로 key값과 value값을 받는 것이다.\n",
    "위에서 진행했던 것과 같이 **kwargs 자체는 빈값으로 해도 코드가 진행이 되고 key와 value값이 2개가 되어도 코드가 진행되고, 5개가 되어도 코드가 진행이 가능하다."
   ]
  },
  {
   "cell_type": "markdown",
   "metadata": {},
   "source": [
    "# 연습문제"
   ]
  },
  {
   "cell_type": "markdown",
   "metadata": {},
   "source": [
    "문제 17)\n",
    "다음 코드를 실행하여 출력되는 결과를 보고, 왜 그렇게 출력되는지 설명하시오.\n",
    "```python\n",
    "b = 0\n",
    "def f() :\n",
    "    a = 1\n",
    "    def g(a,b) :\n",
    "        a = 2\n",
    "        b = 3\n",
    "        print(a+b)\n",
    "    g(3,4)\n",
    "    print(a*b)\n",
    "f()\n",
    "```"
   ]
  },
  {
   "cell_type": "markdown",
   "metadata": {},
   "source": [
    "지역변수, 전역변수 내용도 같이 알아두면 좋다.\n",
    "# 여기에 설명 입력\n",
    "print(a+b)는 5로 출력, print(a*b) 0으로 출력이 된다.\n",
    "첫 번째로 print(a+b)를 알아보기 위해 def g(a,b) 부분부터 봐야 한다. 이 함수 정의 안에서 a = 2, b = 3 이므로\n",
    "print(a+b)는 5로 출력된다. 하지만 다음 print는 안의 값은 (a*b)이다. 여기서도 a 와 b 값을 알면 구할 수 있다.\n",
    "결과를 우선 말하면, a = 1, b =0이다. 두 번째 print는 def g(a,b) 함수 밖에 있으므로 그 안에 있는 a,b 변수는 포함되지 않는다.\n",
    "그러므로 처음에 b = 0이 된다."
   ]
  },
  {
   "cell_type": "markdown",
   "metadata": {},
   "source": [
    "교수님 풀이 과정\n",
    "scoping rule은 다음과 같다.\n",
    "\n",
    "- 전역변수(함수 밖에서 정의된 변수)는 함수 내부에서 access 가능하다.\n",
    "- 지역변수(함수 안에서 정의된 변수, 파라미터 포함)는 함수 밖에서 access 불가하다.\n",
    "- 전역변수와 지역변수가 충돌할 경우(즉, 이름이 같은 경우), 지역변수가 access 된다."
   ]
  },
  {
   "cell_type": "markdown",
   "metadata": {},
   "source": [
    "### 문제 18)\n",
    "파이썬 내장함수 `divmod(a, b)`는 2개의 숫자를 입력으로 받아 a를 b로 나눈 몫과 나머지를 튜플 형태로 리턴하는 함수이다.\n",
    "```python\n",
    ">>> divmod(7, 3)\n",
    "(2, 1)\n",
    "```\n",
    "위 `divmod`와 동일한 결과를 리턴하는 `my_divmod(x, y)`를 구현하시오. 힌트:\n",
    "```python\n",
    ">>> 7 // 3\n",
    "2\n",
    ">>> 7 % 3\n",
    "1\n",
    "```"
   ]
  },
  {
   "cell_type": "code",
   "execution_count": 126,
   "metadata": {},
   "outputs": [],
   "source": [
    "# 여기에 코드 입력\n",
    "def my_divmod(x,y):\n",
    "    return x // y , x % y"
   ]
  },
  {
   "cell_type": "code",
   "execution_count": 131,
   "metadata": {},
   "outputs": [
    {
     "data": {
      "text/plain": [
       "(2, 1)"
      ]
     },
     "execution_count": 131,
     "metadata": {},
     "output_type": "execute_result"
    }
   ],
   "source": [
    "my_divmod(7, 3)"
   ]
  },
  {
   "cell_type": "markdown",
   "metadata": {},
   "source": [
    "### 문제 19)\n",
    "0에서 1사이의 임의의 실수를 10000번 생성한 후 이 값들의 평균을 계산하시오. *Hint: List Comprehension을 쓰세요.*"
   ]
  },
  {
   "cell_type": "code",
   "execution_count": 134,
   "metadata": {},
   "outputs": [
    {
     "data": {
      "text/plain": [
       "0.5021975887000126"
      ]
     },
     "execution_count": 134,
     "metadata": {},
     "output_type": "execute_result"
    }
   ],
   "source": [
    "from random import *\n",
    "import numpy as np\n",
    "# ...\n",
    "sum([random() for i in range(10000)]) / 10000\n",
    "\n",
    "# numpy를 import 했다면 np.mean([random() for i in range(10000)])로 써도 가능하다."
   ]
  },
  {
   "cell_type": "markdown",
   "metadata": {},
   "source": [
    "### 문제 20)\n",
    "평균이 *μ(mu)*이고 표준편차가 *σ(sigma)*인 경우 정규분포의 확률밀도함수는 다음과 같다.  \n",
    "<img align='left' src='http://drive.google.com/uc?export=view&id=1pEBff3bXChP8AxhfdDctWZU2w2DqrMpo'>"
   ]
  },
  {
   "cell_type": "markdown",
   "metadata": {},
   "source": [
    "다음은 정규분포의 확률밀도함수를 아래 그림과 같이 그리는 코드의 일부이다. 함수 `normal_pdf()`를 구현하여 코드를 완성하시오.\n",
    "\n",
    "```python\n",
    "from math import sqrt, exp, pi\n",
    "\n",
    "def normal_pdf(x, mu, sigma):\n",
    "    # 여기에 적당한 코드를 채우시오!!!\n",
    "    (1/sqrt(2*pi)exp(-(x-mu)**2/2*sigma**2)\n",
    "    (1 / np.sqrt(2 * np.pi)) * np.exp(- x ** 2 / 2 )\n",
    "x = [i / 10.0 for i in range(-50,50)]\n",
    "y = [normal_pdf(i, mu=0, sigma=1) for i in x]\n",
    "\n",
    "plt.plot(x, y)\n",
    "```\n",
    "<img align='left' src='http://drive.google.com/uc?export=view&id=1_FPN3iq325Vd_95h0qh-I9u2a4-213Qo' /><br>"
   ]
  },
  {
   "cell_type": "code",
   "execution_count": 138,
   "metadata": {},
   "outputs": [
    {
     "data": {
      "text/plain": [
       "[<matplotlib.lines.Line2D at 0x2601033b348>]"
      ]
     },
     "execution_count": 138,
     "metadata": {},
     "output_type": "execute_result"
    },
    {
     "data": {
      "image/png": "[encoded data removed]",
      "text/plain": [
       "<Figure size 432x288 with 1 Axes>"
      ]
     },
     "metadata": {
      "needs_background": "light"
     },
     "output_type": "display_data"
    }
   ],
   "source": [
    "from math import sqrt, exp, pi\n",
    "import matplotlib.pyplot as plt\n",
    "\n",
    "def normal_pdf(x, mu, sigma):\n",
    "    return (1/sqrt(2*pi))*exp(-(x-mu)**2/2*sigma**2)\n",
    "\n",
    "x = [i / 10.0 for i in range(-50,50)]\n",
    "y = [normal_pdf(i, mu=0, sigma=1) for i in x]\n",
    "\n",
    "plt.plot(x,y)\n",
    "\n",
    "# 아마도 저 정규분포 식을 def안에 풀어 써야 하는 것으로 보인다.\n",
    "# 특별히 어려운 느낌이 들지 않았고, 정규분포식을 풀어쓰면 된다.\n",
    "# 아마 틀린 것 같기도 하지만, 뚜렷하게 저 대안 말고는 생각나는 것이 없어서 이렇게 풀어봤다.\n",
    "\n",
    "\n",
    "# 교수님 풀이과정\n",
    "'''\n",
    "import matplotlib.pyplot as plt\n",
    "from math import sqrt, exp, pi\n",
    "\n",
    "def normal_pdf(x, mu, sigma):\n",
    "    return 1/((2*pi*sigma)**(1/2))*exp(-1*(x-mu)**2/(2*sigma**2))\n",
    "\n",
    "x = [i / 10.0 for i in range(-50,50)]\n",
    "y = [normal_pdf(i, mu=0, sigma=1) for i in x]\n",
    "\n",
    "plt.plot(x, y)\n",
    "'''"
   ]
  },
  {
   "cell_type": "markdown",
   "metadata": {},
   "source": [
    "<font color = \"#CC3D3D\"><p>\n",
    "# End"
   ]
  }
 ],
 "metadata": {
  "kernelspec": {
   "display_name": "Python 3",
   "language": "python",
   "name": "python3"
  },
  "language_info": {
   "codemirror_mode": {
    "name": "ipython",
    "version": 3
   },
   "file_extension": ".py",
   "mimetype": "text/x-python",
   "name": "python",
   "nbconvert_exporter": "python",
   "pygments_lexer": "ipython3",
   "version": "3.7.6"
  }
 },
 "nbformat": 4,
 "nbformat_minor": 2
}
