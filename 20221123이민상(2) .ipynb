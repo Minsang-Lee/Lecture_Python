{
 "cells": [
  {
   "cell_type": "code",
   "execution_count": null,
   "id": "b82bdd62-d940-42df-ade5-5ebb9f7d0ec6",
   "metadata": {
    "tags": []
   },
   "outputs": [],
   "source": []
  },
  {
   "cell_type": "code",
   "execution_count": 16,
   "id": "08c2c42e-1dda-4356-b932-0db1e0cdd203",
   "metadata": {},
   "outputs": [],
   "source": [
    "f=open('C:\\\\Users\\\\USER\\\\Desktop\\\\users\\\\sbuser\\\\buy_list.txt', 'r', encoding='utf-8')"
   ]
  },
  {
   "cell_type": "code",
   "execution_count": 17,
   "id": "af3b6a66-d29f-4312-9b18-aa54a88ade48",
   "metadata": {},
   "outputs": [
    {
     "data": {
      "text/plain": [
       "[]"
      ]
     },
     "execution_count": 17,
     "metadata": {},
     "output_type": "execute_result"
    }
   ],
   "source": [
    "lines = f.readlines()\n",
    "lines"
   ]
  },
  {
   "cell_type": "code",
   "execution_count": 18,
   "id": "797c3e4d-198f-4372-9bd3-4ae3d62c46cc",
   "metadata": {},
   "outputs": [],
   "source": [
    "for line in lines:\n",
    "    print(line)"
   ]
  },
  {
   "cell_type": "code",
   "execution_count": 20,
   "id": "1ed352f7-17f8-46ae-89b2-48a1e5c03910",
   "metadata": {},
   "outputs": [],
   "source": [
    "f=open('C:\\\\Users\\\\USER\\\\Desktop\\\\users\\\\sbuser\\\\buy_list.txt', 'wt', encoding='utf-8')"
   ]
  },
  {
   "cell_type": "code",
   "execution_count": 21,
   "id": "003cfd57-2efb-493a-a475-9e5021a6adf4",
   "metadata": {},
   "outputs": [
    {
     "data": {
      "text/plain": [
       "5"
      ]
     },
     "execution_count": 21,
     "metadata": {},
     "output_type": "execute_result"
    }
   ],
   "source": [
    "f.write('삼성전자\\n')"
   ]
  },
  {
   "cell_type": "code",
   "execution_count": 22,
   "id": "0fd35821-3a55-40f5-94d0-807561b9969c",
   "metadata": {},
   "outputs": [
    {
     "data": {
      "text/plain": [
       "7"
      ]
     },
     "execution_count": 22,
     "metadata": {},
     "output_type": "execute_result"
    }
   ],
   "source": [
    "f.write('sk하이닉스\\n')"
   ]
  },
  {
   "cell_type": "code",
   "execution_count": 23,
   "id": "39f19439-d006-47a8-bf38-442ef119d3ef",
   "metadata": {},
   "outputs": [],
   "source": [
    "f.close()"
   ]
  },
  {
   "cell_type": "code",
   "execution_count": 24,
   "id": "76dc8e5b-2b46-4fc2-adb7-4c5b15b83917",
   "metadata": {},
   "outputs": [],
   "source": [
    "f=open('C:\\\\Users\\\\USER\\\\Desktop\\\\users\\\\sbuser\\\\buy_list.txt', 'r', encoding='utf-8')"
   ]
  },
  {
   "cell_type": "code",
   "execution_count": 25,
   "id": "d24d76fb-5b00-4258-b471-7c7d7657f7f9",
   "metadata": {},
   "outputs": [
    {
     "data": {
      "text/plain": [
       "['삼성전자\\n', 'sk하이닉스\\n']"
      ]
     },
     "execution_count": 25,
     "metadata": {},
     "output_type": "execute_result"
    }
   ],
   "source": [
    "lines = f.readlines()\n",
    "lines"
   ]
  },
  {
   "cell_type": "code",
   "execution_count": 26,
   "id": "0d72c76e-d438-4dbc-9db3-649388e81165",
   "metadata": {},
   "outputs": [],
   "source": [
    "f.close()"
   ]
  },
  {
   "cell_type": "code",
   "execution_count": 27,
   "id": "9b0c4183-3a63-4011-b6d0-867e00e601c1",
   "metadata": {},
   "outputs": [],
   "source": [
    "f=open('C:\\\\Users\\\\USER\\\\Desktop\\\\users\\\\sbuser\\\\number.txt', 'wt', encoding='utf-8')"
   ]
  },
  {
   "cell_type": "code",
   "execution_count": 28,
   "id": "f689a0fa-7ad2-4541-b181-1952b772e357",
   "metadata": {},
   "outputs": [
    {
     "data": {
      "text/plain": [
       "12"
      ]
     },
     "execution_count": 28,
     "metadata": {},
     "output_type": "execute_result"
    }
   ],
   "source": [
    "f.write('12345678910\\n')"
   ]
  },
  {
   "cell_type": "code",
   "execution_count": 29,
   "id": "d9891c70-867c-4109-b61d-01140ecabdaf",
   "metadata": {},
   "outputs": [],
   "source": [
    "f.close()"
   ]
  },
  {
   "cell_type": "code",
   "execution_count": 32,
   "id": "4d2d3100-2d5d-4020-9824-91949576b4db",
   "metadata": {},
   "outputs": [],
   "source": [
    "f=open('C:\\\\Users\\\\USER\\\\Desktop\\\\users\\\\sbuser\\\\number.txt', 'r', encoding='utf-8')"
   ]
  },
  {
   "cell_type": "code",
   "execution_count": 33,
   "id": "93c97eea-bfcf-4657-8b3e-99924396fa96",
   "metadata": {},
   "outputs": [
    {
     "data": {
      "text/plain": [
       "['12345678910\\n']"
      ]
     },
     "execution_count": 33,
     "metadata": {},
     "output_type": "execute_result"
    }
   ],
   "source": [
    "lines = f.readlines()\n",
    "lines"
   ]
  },
  {
   "cell_type": "code",
   "execution_count": 34,
   "id": "a6e17231-9f7b-4c38-98c5-63ec034b6aae",
   "metadata": {},
   "outputs": [],
   "source": [
    "import datetime"
   ]
  },
  {
   "cell_type": "code",
   "execution_count": 3,
   "id": "7bdb4372-5292-47a3-9043-09e31e10fd4f",
   "metadata": {},
   "outputs": [],
   "source": [
    "from bs4 import BeautifulSoup"
   ]
  },
  {
   "cell_type": "code",
   "execution_count": 4,
   "id": "4be67856-ebad-400b-8e96-7cdd836e3c1f",
   "metadata": {},
   "outputs": [],
   "source": [
    "import urllib.request"
   ]
  },
  {
   "cell_type": "code",
   "execution_count": 38,
   "id": "857d29ce-47dc-4526-8abe-c1e0f4ffe62b",
   "metadata": {},
   "outputs": [],
   "source": [
    "now = datetime.datetime.now()"
   ]
  },
  {
   "cell_type": "code",
   "execution_count": 41,
   "id": "e6f07407-7f78-45ee-8a4e-84c2649c8d0d",
   "metadata": {},
   "outputs": [],
   "source": [
    "nowDate = now.strftime('%Y년 %m월 %d일 %H시 %M분 입니다.')"
   ]
  },
  {
   "cell_type": "code",
   "execution_count": 42,
   "id": "4999ec24-0ce9-4b43-98ac-4fb5fd2317a0",
   "metadata": {},
   "outputs": [
    {
     "name": "stdout",
     "output_type": "stream",
     "text": [
      "\n",
      " *** python webcrawling project 1 *** \n",
      "\n",
      " 환영합니다. 2022년 11월 22일 14시 35분 입니다.\n",
      " 오늘의 주요 정보를 요약해 드리겠습니다.\n",
      "\n"
     ]
    }
   ],
   "source": [
    "print('\\n *** python webcrawling project 1 *** \\n')\n",
    "print(' 환영합니다. ' + nowDate)\n",
    "print(' 오늘의 주요 정보를 요약해 드리겠습니다.\\n')"
   ]
  },
  {
   "cell_type": "code",
   "execution_count": 10,
   "id": "88d48406-55ac-4644-a264-3f22af48800c",
   "metadata": {},
   "outputs": [],
   "source": [
    "import requests\n",
    "from bs4 import BeautifulSoup"
   ]
  },
  {
   "cell_type": "code",
   "execution_count": 11,
   "id": "80a05132-6818-4182-b630-77bd3c4f31ce",
   "metadata": {},
   "outputs": [
    {
     "data": {
      "text/plain": [
       "200"
      ]
     },
     "execution_count": 11,
     "metadata": {},
     "output_type": "execute_result"
    }
   ],
   "source": [
    "respone = requests.get('https://movie.naver.com/movie/sdb/rank/rmovie.naver')\n",
    "respone.status_code"
   ]
  },
  {
   "cell_type": "code",
   "execution_count": 13,
   "id": "a59154ae-b0e5-43d0-a8a6-6b6a32eb0436",
   "metadata": {},
   "outputs": [],
   "source": [
    "soup = BeautifulSoup(respone.text)"
   ]
  },
  {
   "cell_type": "code",
   "execution_count": 16,
   "id": "95d52361-38fc-4034-a0ee-32c0b21b3073",
   "metadata": {},
   "outputs": [],
   "source": [
    "tags = soup.select('div[class=tit3]')\n",
    "results=[]\n",
    "for idx, tag in enumerate(tags):\n",
    "    results.append({idx:tag.text.strip()})"
   ]
  },
  {
   "cell_type": "code",
   "execution_count": 17,
   "id": "36f458a4-f614-4404-862d-fdf09e17aa1c",
   "metadata": {
    "tags": []
   },
   "outputs": [
    {
     "data": {
      "text/plain": [
       "50"
      ]
     },
     "execution_count": 17,
     "metadata": {},
     "output_type": "execute_result"
    }
   ],
   "source": [
    "len(results)"
   ]
  },
  {
   "cell_type": "code",
   "execution_count": 19,
   "id": "ff39f774-5e5e-475d-acb1-13f7e2c206d6",
   "metadata": {},
   "outputs": [
    {
     "data": {
      "text/plain": [
       "[{48: '같은 속옷을 입는 두 여자'}, {49: '신비한 동물들과 덤블도어의 비밀'}]"
      ]
     },
     "execution_count": 19,
     "metadata": {},
     "output_type": "execute_result"
    }
   ],
   "source": [
    "results[-2:]\n",
    "        "
   ]
  },
  {
   "cell_type": "code",
   "execution_count": null,
   "id": "bd637846-afa0-43cb-b941-c5886b8cdbd9",
   "metadata": {
    "jupyter": {
     "source_hidden": true
    },
    "tags": []
   },
   "outputs": [],
   "source": []
  },
  {
   "cell_type": "code",
   "execution_count": 26,
   "id": "5fccb470-54db-4e7d-b69c-3b31a6a6dd64",
   "metadata": {},
   "outputs": [],
   "source": [
    "import csv\n",
    "\n",
    "with open('movie_ranking.csv', 'w', encoding='utf-8') as csvfile:\n",
    "    spamwriter = csv.writer(csvfile)\n",
    "    spamwriter.writerow(['번호','제목'])\n",
    "    \n",
    "    for idx, row in enumerate(results):\n",
    "        spamwriter.writerow([idx, row[idx]])\n",
    "   \n",
    "    \n",
    "    \n"
   ]
  },
  {
   "cell_type": "code",
   "execution_count": 27,
   "id": "da1ac3ef-cd03-4752-b992-937031b79c1d",
   "metadata": {},
   "outputs": [
    {
     "name": "stdout",
     "output_type": "stream",
     "text": [
      " C 드라이브의 볼륨: Windows\n",
      " 볼륨 일련 번호: 8EF6-8BCC\n",
      "\n",
      " C:\\users\\sbauser\\Jupyter_Python 디렉터리\n",
      "\n",
      "2022-11-23  오전 11:14            26,585 Credit.csv\n",
      "2022-11-23  오전 10:41                32 csv_sample.csv\n",
      "2022-11-23  오전 11:10                77 eggs.csv\n",
      "2022-11-23  오전 11:39             1,334 movie_ranking.csv\n",
      "               4개 파일              28,028 바이트\n",
      "               0개 디렉터리  412,045,492,224 바이트 남음\n"
     ]
    }
   ],
   "source": [
    "%ls *.csv"
   ]
  },
  {
   "cell_type": "code",
   "execution_count": 28,
   "id": "ac70c9ce-60f5-4008-95c6-c0136825683e",
   "metadata": {},
   "outputs": [],
   "source": [
    "import csv\n",
    "\n",
    "with open('movie_ranking2.csv', 'w', encoding='euc-kr') as csvfile:\n",
    "    spamwriter = csv.writer(csvfile)\n",
    "    spamwriter.writerow(['번호','제목'])\n",
    "    \n",
    "    for idx, row in enumerate(results):\n",
    "        spamwriter.writerow([idx, row[idx]])\n",
    "   "
   ]
  },
  {
   "cell_type": "code",
   "execution_count": null,
   "id": "89dd1421-ff4a-4ee2-92bc-722005355265",
   "metadata": {},
   "outputs": [],
   "source": []
  },
  {
   "cell_type": "code",
   "execution_count": 30,
   "id": "0417ef7b-1077-4ecb-9574-00ce58922dfd",
   "metadata": {},
   "outputs": [
    {
     "name": "stdout",
     "output_type": "stream",
     "text": [
      "['번호', '제목']\n",
      "[]\n",
      "['0', '블랙 팬서: 와칸다 포에버']\n",
      "[]\n",
      "['1', '데시벨']\n",
      "[]\n",
      "['2', '동감']\n",
      "[]\n",
      "['3', '올빼미']\n",
      "[]\n",
      "['4', '폴: 600미터']\n",
      "[]\n",
      "['5', '자백']\n",
      "[]\n",
      "['6', '에브리씽 에브리웨어 올 앳 원스']\n",
      "[]\n",
      "['7', '블랙 아담']\n",
      "[]\n",
      "['8', '한산 리덕스']\n",
      "[]\n",
      "['9', '고속도로 가족']\n",
      "[]\n",
      "['10', '인생은 아름다워']\n",
      "[]\n",
      "['11', '옆집사람']\n",
      "[]\n",
      "['12', '리멤버']\n",
      "[]\n",
      "['13', '압꾸정']\n",
      "[]\n",
      "['14', '유포자들']\n",
      "[]\n",
      "['15', '파이어버드']\n",
      "[]\n",
      "['16', '탄생']\n",
      "[]\n",
      "['17', '극장판 짱구는 못말려: 수수께끼! 꽃피는 천하떡잎학교']\n",
      "[]\n",
      "['18', '심야카페: 미씽 허니']\n",
      "[]\n",
      "['19', '양자경의 더 모든 날 모든 순간']\n",
      "[]\n",
      "['20', '영웅']\n",
      "[]\n",
      "['21', '주연']\n",
      "[]\n",
      "['22', '스트레인지 월드']\n",
      "[]\n",
      "['23', '아바타: 물의 길']\n",
      "[]\n",
      "['24', '놈이 우리 안에 있다']\n",
      "[]\n",
      "['25', '아마겟돈 타임']\n",
      "[]\n",
      "['26', '공조2: 인터내셔날']\n",
      "[]\n",
      "['27', '블로우백']\n",
      "[]\n",
      "['28', '오늘 밤, 세계에서 이 사랑이 사라진다 해도']\n",
      "[]\n",
      "['29', '한산: 용의 출현']\n",
      "[]\n",
      "['30', '탑건: 매버릭']\n",
      "[]\n",
      "['31', '원피스 필름 레드']\n",
      "[]\n",
      "['32', '비상선언']\n",
      "[]\n",
      "['33', '헤어질 결심']\n",
      "[]\n",
      "['34', '낮과 달']\n",
      "[]\n",
      "['35', '본즈 앤 올']\n",
      "[]\n",
      "['36', '킹덤2: 아득한 대지로']\n",
      "[]\n",
      "['37', '늑대사냥']\n",
      "[]\n",
      "['38', '아인보: 아마존의 전설']\n",
      "[]\n",
      "['39', '범죄도시2']\n",
      "[]\n",
      "['40', '노웨어 스페셜']\n",
      "[]\n",
      "['41', '트랜스']\n",
      "[]\n",
      "['42', '세이레']\n",
      "[]\n",
      "['43', '스마일']\n",
      "[]\n",
      "['44', '창밖은 겨울']\n",
      "[]\n",
      "['45', '가재가 노래하는 곳']\n",
      "[]\n",
      "['46', '바르도, 약간의 진실을 섞은 거짓된 연대기']\n",
      "[]\n",
      "['47', '맨 온 엣지']\n",
      "[]\n",
      "['48', '같은 속옷을 입는 두 여자']\n",
      "[]\n",
      "['49', '신비한 동물들과 덤블도어의 비밀']\n",
      "[]\n"
     ]
    }
   ],
   "source": [
    "import csv\n",
    " \n",
    "f = open('movie_ranking2.csv', 'r', encoding='euc-kr')\n",
    "rdr = csv.reader(f)\n",
    "for line in rdr:\n",
    "    print(line)\n",
    "f.close()    "
   ]
  },
  {
   "cell_type": "code",
   "execution_count": 31,
   "id": "321f9e1e-8e45-4c31-86ea-24a53e1f8d31",
   "metadata": {},
   "outputs": [
    {
     "name": "stdout",
     "output_type": "stream",
     "text": [
      "Id=1 : Name=김정수\n"
     ]
    }
   ],
   "source": [
    "import csv\n",
    " \n",
    "# .tsv 쓰기    \n",
    "f = open('eggs.tsv', 'w', encoding='utf-8', newline='')\n",
    "wr = csv.writer(f, delimiter='\\t')\n",
    "wr.writerow([1, \"김정수\", False])\n",
    "wr.writerow([2, \"박상미\", True])\n",
    "f.close()\n",
    " \n",
    "# .tsv 읽기\n",
    "f = open('eggs.tsv', 'r', encoding='utf-8')\n",
    "rdr = csv.reader(f, delimiter='\\t')\n",
    "r = list(rdr)\n",
    "print(\"Id=%s : Name=%s\" % (r[0][0], r[0][1]))\n",
    " \n",
    "f.close()"
   ]
  },
  {
   "cell_type": "code",
   "execution_count": null,
   "id": "a8cc794e-52b5-4d95-9a99-266da27fdf35",
   "metadata": {},
   "outputs": [],
   "source": []
  },
  {
   "cell_type": "code",
   "execution_count": null,
   "id": "c78cd925-84fc-4c89-8593-ab076fa26c1d",
   "metadata": {},
   "outputs": [],
   "source": []
  },
  {
   "cell_type": "code",
   "execution_count": null,
   "id": "03ab0ddd-5ad8-4699-bbfb-e71225bdbd1c",
   "metadata": {},
   "outputs": [],
   "source": []
  },
  {
   "cell_type": "code",
   "execution_count": null,
   "id": "6761a5e1-2ae9-48fe-85f3-6d3e28d09da3",
   "metadata": {},
   "outputs": [],
   "source": []
  },
  {
   "cell_type": "code",
   "execution_count": null,
   "id": "f8e3c57d-89e9-4ce8-b6e9-baab43cfe038",
   "metadata": {},
   "outputs": [],
   "source": []
  },
  {
   "cell_type": "code",
   "execution_count": null,
   "id": "73913fc7-1b31-45f9-bbe0-945b1e23eecd",
   "metadata": {},
   "outputs": [],
   "source": []
  },
  {
   "cell_type": "code",
   "execution_count": 5,
   "id": "c76b2fd9-e101-4b76-b9f0-66fd168c2836",
   "metadata": {},
   "outputs": [
    {
     "name": "stdout",
     "output_type": "stream",
     "text": [
      "---> 서울날씨 :   어제보다 1.9° 높아요  구름많음   체감 12.8° 습도 60% 바람(남서풍) 0.7m/s  \n"
     ]
    }
   ],
   "source": [
    "webpage =urllib.request.urlopen('https://search.naver.com/search.naver?where=nexearch&sm=top_sug.pre&fbm=1&acr=1&acq=%EB%82%A0%EC%94%A8%EC%98%88&qdt=0&ie=utf8&query=%EB%82%A0%EC%94%A8%EC%98%88%EB%B3%B4')\n",
    "soup=BeautifulSoup(webpage, 'html.parser')\n",
    "temps=soup.find('div', attrs={'class':'temperature_info'})\n",
    "\n",
    "print('---> 서울날씨 : ', temps.get_text())"
   ]
  },
  {
   "cell_type": "code",
   "execution_count": 6,
   "id": "dc73dc61-7a99-44e8-850c-075b5202c2d2",
   "metadata": {},
   "outputs": [
    {
     "name": "stdout",
     "output_type": "stream",
     "text": [
      "증권상위 순위  \n",
      "TOP 종목\n",
      "\n",
      "거래상위\n",
      "상승\n",
      "하락\n",
      "시가총액 상위\n",
      "\n",
      "\n",
      "\n",
      "\n",
      "           거래상위 TOP 종목\n",
      "           종목명에 대한 현재가, 전일대비, 등락률로 구분되어 있습니다.\n",
      "\n",
      "\n",
      "\n",
      "\n",
      "\n",
      "\n",
      "\n",
      "종목명\n",
      "현재가\n",
      "전일대비\n",
      "등락률\n",
      "\n",
      "\n",
      "\n",
      "\n",
      "KODEX 200선물인버스2X\n",
      "3,060\n",
      "하락 30\n",
      "  -0.97%  \n",
      "\n",
      "\n",
      "남선알미늄\n",
      "2,505\n",
      "상승 45\n",
      "  +1.83%  \n",
      "\n",
      "\n",
      "웰크론한텍\n",
      "5,950\n",
      "상승 470\n",
      "  +8.58%  \n",
      "\n",
      "\n",
      "메리츠증권\n",
      "5,700\n",
      "하락 170\n",
      "  -2.90%  \n",
      "\n",
      "\n",
      "쇼박스\n",
      "4,500\n",
      "상승 790\n",
      "  +21.29%  \n",
      "\n",
      "\n",
      "KODEX 코스닥150선물인버스\n",
      "5,250\n",
      "하락 80\n",
      "  -1.50%  \n",
      "\n",
      "\n",
      "KODEX 레버리지\n",
      "14,585\n",
      "상승 165\n",
      "  +1.14%  \n",
      "\n",
      "\n",
      "모아데이타\n",
      "2,930\n",
      "상승 85\n",
      "  +2.99%  \n",
      "\n",
      "\n",
      "삼진엘앤디\n",
      "3,300\n",
      "상승 235\n",
      "  +7.67%  \n",
      "\n",
      "\n",
      "버킷스튜디오\n",
      "1,485\n",
      "상승 85\n",
      "  +6.07%  \n",
      "\n",
      "\n",
      "기가레인\n",
      "1,805\n",
      "상승 60\n",
      "  +3.44%  \n",
      "\n",
      "\n",
      "베트남개발1\n",
      "270\n",
      "하락 6\n",
      "  -2.17%  \n",
      "\n",
      "\n",
      "셀피글로벌\n",
      "1,850\n",
      "하락 105\n",
      "  -5.37%  \n",
      "\n",
      "\n",
      "흥아해운\n",
      "1,665\n",
      "상승 180\n",
      "  +12.12%  \n",
      "\n",
      "\n",
      "신한 인버스 2X 천연가스 선물 ETN\n",
      "165\n",
      "하락 25\n",
      "  -13.16%  \n",
      "\n",
      "\n",
      "\n",
      "거래상위 더보기\n",
      "\n",
      "\n",
      "\n",
      "\n",
      "           상승 TOP 종목\n",
      "           종목명에 대한 현재가, 전일대비, 등락률로 구분되어 있습니다.\n",
      "\n",
      "\n",
      "\n",
      "\n",
      "\n",
      "\n",
      "\n",
      "종목명\n",
      "현재가\n",
      "전일대비\n",
      "등락률\n",
      "\n",
      "\n",
      "\n",
      "\n",
      "피코그램\n",
      "21,450\n",
      "상한가 4,950 \n",
      "  +30.00%  \n",
      "\n",
      "\n",
      "키다리스튜디오\n",
      "8,550\n",
      "상한가 1,970 \n",
      "  +29.94%  \n",
      "\n",
      "\n",
      "디앤씨미디어\n",
      "17,300\n",
      "상승 3,650 \n",
      "  +26.74%  \n",
      "\n",
      "\n",
      "쇼박스\n",
      "4,500\n",
      "상승 790 \n",
      "  +21.29%  \n",
      "\n",
      "\n",
      "대원미디어\n",
      "14,450\n",
      "상승 2,200 \n",
      "  +17.96%  \n",
      "\n",
      "\n",
      "에스엠벡셀\n",
      "2,400\n",
      "상승 360 \n",
      "  +17.65%  \n",
      "\n",
      "\n",
      "KB 블룸버그 레버리지 천연가스선물 ETN(H)\n",
      "20,075\n",
      "상승 2,945 \n",
      "  +17.19%  \n",
      "\n",
      "\n",
      "바이오플러스\n",
      "8,430\n",
      "상승 1,160 \n",
      "  +15.96%  \n",
      "\n",
      "\n",
      "초록뱀미디어\n",
      "11,650\n",
      "상승 1,600 \n",
      "  +15.92%  \n",
      "\n",
      "\n",
      "TRUE 레버리지 천연가스 선물 ETN(H)\n",
      "10,650\n",
      "상승 1,460 \n",
      "  +15.89%  \n",
      "\n",
      "\n",
      "신한 블룸버그 2X 천연가스 선물 ETN(H)\n",
      "20,070\n",
      "상승 2,745 \n",
      "  +15.84%  \n",
      "\n",
      "\n",
      "메리츠 블룸버그 2X 천연가스 선물 ETN(H)\n",
      "20,025\n",
      "상승 2,705 \n",
      "  +15.62%  \n",
      "\n",
      "\n",
      "SNT에너지\n",
      "25,200\n",
      "상승 3,400 \n",
      "  +15.60%  \n",
      "\n",
      "\n",
      "대신 S&P 2X 천연가스 선물 ETN\n",
      "18,895\n",
      "상승 2,550 \n",
      "  +15.60%  \n",
      "\n",
      "\n",
      "신한 레버리지 천연가스 선물 ETN\n",
      "13,005\n",
      "상승 1,755 \n",
      "  +15.60%  \n",
      "\n",
      "\n",
      "\n",
      "상승 더보기\n",
      "\n",
      "\n",
      "\n",
      "\n",
      "           하락 TOP 종목\n",
      "           종목명에 대한 현재가, 전일대비, 등락률로 구분되어 있습니다.\n",
      "\n",
      "\n",
      "\n",
      "\n",
      "\n",
      "\n",
      "\n",
      "종목명\n",
      "현재가\n",
      "전일대비\n",
      "등락률\n",
      "\n",
      "\n",
      "\n",
      "\n",
      "QV 블룸버그 -2X 천연가스 선물 ETN(H)\n",
      "13,230\n",
      "하락 -2,180\n",
      "  -14.15%  \n",
      "\n",
      "\n",
      "대신 S&P 인버스 2X 천연가스 선물 ETN\n",
      "12,535\n",
      "하락 -2,040\n",
      "  -14.00%  \n",
      "\n",
      "\n",
      "미래에셋 S&P -2X 천연가스 선물 ETN(H)\n",
      "13,275\n",
      "하락 -2,150\n",
      "  -13.94%  \n",
      "\n",
      "\n",
      "TRUE 블룸버그 인버스 2X 천연가스선물 ETN\n",
      "12,580\n",
      "하락 -2,035\n",
      "  -13.92%  \n",
      "\n",
      "\n",
      "KB 블룸버그 인버스2X 천연가스선물 ETN(H)\n",
      "13,310\n",
      "하락 -2,145\n",
      "  -13.88%  \n",
      "\n",
      "\n",
      "하나 블룸버그 -2X 천연가스 선물 ETN(H)\n",
      "13,255\n",
      "하락 -2,135\n",
      "  -13.87%  \n",
      "\n",
      "\n",
      "삼성 인버스 2X 천연가스 선물 ETN C\n",
      "13,585\n",
      "하락 -2,180\n",
      "  -13.83%  \n",
      "\n",
      "\n",
      "신한 블룸버그 -2X 천연가스 선물 ETN(H)\n",
      "13,280\n",
      "하락 -2,105\n",
      "  -13.68%  \n",
      "\n",
      "\n",
      "메리츠 블룸버그 -2X 천연가스 선물 ETN(H)\n",
      "13,325\n",
      "하락 -2,060\n",
      "  -13.39%  \n",
      "\n",
      "\n",
      "신한 인버스 2X 천연가스 선물 ETN\n",
      "165\n",
      "하락 -25\n",
      "  -13.16%  \n",
      "\n",
      "\n",
      "TRUE 인버스 2X 천연가스 선물 ETN(H)\n",
      "300\n",
      "하락 -45\n",
      "  -13.04%  \n",
      "\n",
      "\n",
      "팬젠\n",
      "6,530\n",
      "하락 -770\n",
      "  -10.55%  \n",
      "\n",
      "\n",
      "SK바이오사이언스\n",
      "79,200\n",
      "하락 -7,500\n",
      "  -8.65%  \n",
      "\n",
      "\n",
      "에이트원\n",
      "1,005\n",
      "하락 -95\n",
      "  -8.64%  \n",
      "\n",
      "\n",
      "중앙디앤엠\n",
      "620\n",
      "하락 -53\n",
      "  -7.88%  \n",
      "\n",
      "\n",
      "\n",
      "하락 더보기\n",
      "\n",
      "\n",
      "\n",
      "\n",
      "           시가총액 상위 TOP 종목\n",
      "           종목명에 대한 현재가, 전일대비, 등락률로 구분되어 있습니다.\n",
      "\n",
      "\n",
      "\n",
      "\n",
      "\n",
      "\n",
      "\n",
      "\n",
      "종목명\n",
      "현재가\n",
      "전일대비\n",
      "등락률\n",
      "\n",
      "\n",
      "\n",
      "\n",
      "삼성전자\n",
      "61,000\n",
      "상승 400\n",
      "  +0.66%  \n",
      "\n",
      "\n",
      "LG에너지솔루션\n",
      "566,000\n",
      "하락 5,000\n",
      "  -0.88%  \n",
      "\n",
      "\n",
      "삼성바이오로직스\n",
      "881,000\n",
      "하락 7,000\n",
      "  -0.79%  \n",
      "\n",
      "\n",
      "SK하이닉스\n",
      "85,400\n",
      "상승 200\n",
      "  +0.23%  \n",
      "\n",
      "\n",
      "LG화학\n",
      "698,000\n",
      "상승 11,000\n",
      "  +1.60%  \n",
      "\n",
      "\n",
      "삼성SDI\n",
      "694,000\n",
      "상승 14,000\n",
      "  +2.06%  \n",
      "\n",
      "\n",
      "삼성전자우\n",
      "55,900\n",
      "상승 600\n",
      "  +1.08%  \n",
      "\n",
      "\n",
      "현대차\n",
      "166,000\n",
      "상승 500\n",
      "  +0.30%  \n",
      "\n",
      "\n",
      "NAVER\n",
      "183,000\n",
      "상승 2,500\n",
      "  +1.39%  \n",
      "\n",
      "\n",
      "기아\n",
      "66,000\n",
      "상승 800\n",
      "  +1.23%  \n",
      "\n",
      "\n",
      "카카오\n",
      "56,800\n",
      "상승 2,500\n",
      "  +4.60%  \n",
      "\n",
      "\n",
      "셀트리온\n",
      "176,000\n",
      "하락 500\n",
      "  -0.28%  \n",
      "\n",
      "\n",
      "POSCO홀딩스\n",
      "289,500\n",
      "하락 3,000\n",
      "  -1.03%  \n",
      "\n",
      "\n",
      "삼성물산\n",
      "119,500\n",
      "하락 3,000\n",
      "  -2.45%  \n",
      "\n",
      "\n",
      "KB금융\n",
      "49,650\n",
      "하락 150\n",
      "  -0.30%  \n",
      "\n",
      "\n",
      "\n",
      "시가총액 상위 더보기\n",
      "\n",
      "\n"
     ]
    }
   ],
   "source": [
    "webpage =urllib.request.urlopen('https://finance.naver.com/')\n",
    "soup1=BeautifulSoup(webpage, 'html.parser')\n",
    "temps1=soup1.find('div', attrs={'class':'section_sise_top'})\n",
    "\n",
    "print('증권상위 순위 ', temps1.get_text())"
   ]
  },
  {
   "cell_type": "code",
   "execution_count": 7,
   "id": "6f70ef83-1da1-4b92-adbc-fe216d734ff7",
   "metadata": {},
   "outputs": [
    {
     "name": "stdout",
     "output_type": "stream",
     "text": [
      "코스피 순위  \n",
      "국내증시\n",
      "\n",
      "주요시세정보\n",
      "\n",
      "코스피\n",
      "코스닥\n",
      "선물\n",
      "코스피200\n",
      "코넥스\n",
      "시가총액\n",
      "배당\n",
      "업종\n",
      "테마\n",
      "그룹사\n",
      "ETF\n",
      "ETN\n",
      "ª?Ω?\n",
      "보합\n",
      "하락\n",
      "상한가\n",
      "하한가\n",
      "급등\n",
      "급락\n",
      "거래상위\n",
      "급증\n",
      "급감\n",
      "투자자별매매동향\n",
      "외국인매매\n",
      "기관매매\n",
      "프로그램매매동향\n",
      "증시자금동향\n",
      "신규상장\n",
      "외국인보유\n",
      "장외시세\n",
      "IPO\n",
      "\n",
      "\n",
      "투자자보호\n",
      "\n",
      "관리종목\n",
      "거래정지종목\n",
      "시장경보종목\n",
      "\n",
      "\n",
      "종목조건검색\n",
      "\n",
      "골든크로스\n",
      "갭상승\n",
      "이격도과열\n",
      "투심과열\n",
      "상대강도과열\n",
      "\n",
      "\n",
      "기업 전자공시\n",
      "공매도 종합 현황\n",
      "\n",
      " \n",
      "주요시세정보\n",
      "\n",
      "코스피\n",
      "코스닥\n",
      "선물\n",
      "코스피200\n",
      "코넥스\n",
      "시가총액\n",
      "배당\n",
      "업종\n",
      "테마\n",
      "그룹사\n",
      "ETF\n",
      "ETN\n",
      "ª?Ω?\n",
      "보합\n",
      "하락\n",
      "상한가\n",
      "하한가\n",
      "급등\n",
      "급락\n",
      "거래상위\n",
      "급증\n",
      "급감\n",
      "투자자별매매동향\n",
      "외국인매매\n",
      "기관매매\n",
      "프로그램매매동향\n",
      "증시자금동향\n",
      "신규상장\n",
      "외국인보유\n",
      "장외시세\n",
      "IPO\n",
      "\n",
      "\n",
      "투자자보호\n",
      "\n",
      "관리종목\n",
      "거래정지종목\n",
      "시장경보종목\n",
      "\n",
      "\n",
      "종목조건검색\n",
      "\n",
      "골든크로스\n",
      "갭상승\n",
      "이격도과열\n",
      "투심과열\n",
      "상대강도과열\n",
      "\n",
      "\n",
      "기업 전자공시\n",
      "공매도 종합 현황\n",
      "\n"
     ]
    }
   ],
   "source": [
    "webpage =urllib.request.urlopen('https://finance.naver.com/sise/sise_rise.naver')\n",
    "soup2=BeautifulSoup(webpage, 'html.parser')\n",
    "temps2=soup2.find('div', attrs={'class':'snb snb2'})\n",
    "temps3=soup2.find('ul', attrs={'class':'nav1'})\n",
    "\n",
    "print('코스피 순위 ', temps2.get_text(), temps3.get_text())\n"
   ]
  },
  {
   "cell_type": "code",
   "execution_count": 8,
   "id": "ab410195-3d0b-410e-ae2b-d83bb3995d14",
   "metadata": {},
   "outputs": [
    {
     "name": "stdout",
     "output_type": "stream",
     "text": [
      "영화순위  \n",
      "\n",
      "박스오피스\n",
      "현재상영작\n",
      "개봉예정작\n",
      "평점순\n",
      "다운로드순\n",
      "\n",
      " \n",
      "동감\n",
      "\n",
      "평점 - 총 10점 중\n",
      "\n",
      "6.28\n",
      "\n",
      "\n",
      "\n",
      "\n",
      "삽입곡만 좋았음 그마저도 너무 상황에 충실해서 웃기긴함\n",
      "아 진짜 별룬디...ㅠㅠ\n",
      "아... 총체적 난국. 원작을 이렇게 망쳐놓다니! 10점 주신 분들 전 이해도 공감도 안됨. 여배우들 그게 최선입니까? ㅜㅜ\n",
      "\n",
      "\n"
     ]
    }
   ],
   "source": [
    "webpage =urllib.request.urlopen('https://movie.naver.com/')\n",
    "soup3=BeautifulSoup(webpage, 'html.parser')\n",
    "temps4=soup3.find('div', attrs={'class':'running_tab'})\n",
    "temps5=soup3.find('div', attrs={'class':'detail'})\n",
    "\n",
    "print('영화순위 ', temps4.get_text(), temps5.get_text())"
   ]
  },
  {
   "cell_type": "code",
   "execution_count": null,
   "id": "0ea16758-6c2a-4aa9-abca-c2718457fb0f",
   "metadata": {},
   "outputs": [],
   "source": []
  },
  {
   "cell_type": "code",
   "execution_count": null,
   "id": "1ad3a374-4750-428e-889a-c353f25c0fe2",
   "metadata": {},
   "outputs": [],
   "source": []
  },
  {
   "cell_type": "code",
   "execution_count": null,
   "id": "8bb5fef2-1410-4053-81c2-990cd58e438d",
   "metadata": {},
   "outputs": [],
   "source": []
  },
  {
   "cell_type": "code",
   "execution_count": null,
   "id": "b33fd049-b14d-4764-bed4-e1b834846552",
   "metadata": {},
   "outputs": [],
   "source": []
  },
  {
   "cell_type": "code",
   "execution_count": null,
   "id": "1016199d-d2cb-4ff6-a9d1-187f416bd947",
   "metadata": {},
   "outputs": [],
   "source": []
  },
  {
   "cell_type": "code",
   "execution_count": null,
   "id": "12208d7e-41d1-4de6-8ce6-febdbee7d0b9",
   "metadata": {},
   "outputs": [],
   "source": []
  },
  {
   "cell_type": "code",
   "execution_count": null,
   "id": "28055bf2-6e4e-49e5-8050-4d3f14427cf5",
   "metadata": {},
   "outputs": [],
   "source": []
  },
  {
   "cell_type": "code",
   "execution_count": null,
   "id": "c35285de-5324-4e04-bfd7-edea7b1228d4",
   "metadata": {},
   "outputs": [],
   "source": []
  },
  {
   "cell_type": "code",
   "execution_count": null,
   "id": "f6fe6098-04bd-4685-a238-2962285cca88",
   "metadata": {},
   "outputs": [],
   "source": []
  },
  {
   "cell_type": "code",
   "execution_count": null,
   "id": "98fe6ff2-c0df-4da9-b604-12c4de6866e1",
   "metadata": {},
   "outputs": [],
   "source": []
  }
 ],
 "metadata": {
  "kernelspec": {
   "display_name": "Python 3 (ipykernel)",
   "language": "python",
   "name": "python3"
  },
  "language_info": {
   "codemirror_mode": {
    "name": "ipython",
    "version": 3
   },
   "file_extension": ".py",
   "mimetype": "text/x-python",
   "name": "python",
   "nbconvert_exporter": "python",
   "pygments_lexer": "ipython3",
   "version": "3.9.13"
  }
 },
 "nbformat": 4,
 "nbformat_minor": 5
}
