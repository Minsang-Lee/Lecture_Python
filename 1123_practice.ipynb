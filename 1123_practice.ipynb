{
 "cells": [
  {
   "cell_type": "markdown",
   "id": "d63efa3d",
   "metadata": {},
   "source": [
    "## \"과제\" 네이버 상영작/예정작 크롤링"
   ]
  },
  {
   "cell_type": "code",
   "execution_count": 44,
   "id": "f7473955",
   "metadata": {},
   "outputs": [],
   "source": [
    "import requests\n",
    "from bs4 import BeautifulSoup"
   ]
  },
  {
   "cell_type": "code",
   "execution_count": 230,
   "id": "adee8382",
   "metadata": {},
   "outputs": [],
   "source": [
    "# url = 'https://movie.naver.com/movie/running/current.naver'"
   ]
  },
  {
   "cell_type": "code",
   "execution_count": null,
   "id": "be43415c",
   "metadata": {},
   "outputs": [],
   "source": []
  },
  {
   "cell_type": "code",
   "execution_count": 229,
   "id": "05b6a9ae",
   "metadata": {},
   "outputs": [],
   "source": [
    "def url_parser(url):\n",
    "    import requests\n",
    "    from bs4 import BeautifulSoup\n",
    "    response = requests.get(url)\n",
    "    html = response.text\n",
    "    soup = BeautifulSoup(html, 'html.parser')\n",
    "    return soup"
   ]
  },
  {
   "cell_type": "code",
   "execution_count": 251,
   "id": "ece59813",
   "metadata": {},
   "outputs": [],
   "source": [
    "def start_end_movie_ranking(start,end):\n",
    "    current_movie = []\n",
    "    soup = url_parser('https://movie.naver.com/movie/running/current.naver')\n",
    "    for ind in tqdm(range(start,end)):\n",
    "        \n",
    "        movie_title = soup.select_one(f'#content > div.article > div > div.lst_wrap > ul > li:nth-child({ind}) > dl > dt > a').text\n",
    "        \n",
    "        # 개봉날짜\n",
    "        a = soup.select('#content > div.article > div > div.lst_wrap > ul > li:nth-child(10) > dl > dd:nth-child(3) > dl > dd:nth-child(2)')[0].text\n",
    "        movie_d_day = a[a.find('개')-11:a.find('개')-1]\n",
    "\n",
    "        # 별점\n",
    "        rating_viewer = soup.select_one(f'#content > div.article > div > div.lst_wrap > ul > li:nth-child({ind}) > dl > dd.star > dl > dd:nth-child(2) > div > a > span.num').text\n",
    "\n",
    "        # 관객 수\n",
    "        count_viewer = soup.select_one(f'#content > div.article > div > div.lst_wrap > ul > li:nth-child({ind}) > dl > dd.star > dl > dd:nth-child(2) > div > a > span.num2 > em').text\n",
    "\n",
    "        #영화 감독\n",
    "        director = soup.select(f'#content > div.article > div > div.lst_wrap > ul > li:nth-child({ind}) > dl > dd:nth-child(3) > dl > dd:nth-child(4) > span > a')\n",
    "        if len(director) == 1:\n",
    "            d = soup.select(f'#content > div.article > div > div.lst_wrap > ul > li:nth-child({ind}) > dl > dd:nth-child(3) > dl > dd:nth-child(4) > span > a')[0].text\n",
    "        else:\n",
    "            for i in range(len(director)):\n",
    "                d = []\n",
    "                d.append(soup.select(f'#content > div.article > div > div.lst_wrap > ul > li:nth-child({ind}) > dl > dd:nth-child(3) > dl > dd:nth-child(4) > span > a')[i].text)\n",
    "                \n",
    "        # 영화 배우\n",
    "        actor = soup.select(f'#content > div.article > div > div.lst_wrap > ul > li:nth-child({ind}) > dl > dd:nth-child(3) > dl > dd:nth-child(6) > span > a')\n",
    "        if len(actor) == 1:\n",
    "            b = soup.select(f'#content > div.article > div > div.lst_wrap > ul > li:nth-child({ind}) > dl > dd:nth-child(3) > dl > dd:nth-child(6) > span > a')[0].text\n",
    "        else:\n",
    "            b = []\n",
    "            for i in range(len(actor)):\n",
    "                b.append(soup.select(f'#content > div.article > div > div.lst_wrap > ul > li:nth-child({ind}) > dl > dd:nth-child(3) > dl > dd:nth-child(6) > span > a')[i].text)\n",
    "        \n",
    "        #평론가\n",
    "        try:\n",
    "            rating_critic = soup.select_one(f'#content > div.article > div > div.lst_wrap > ul > li:nth-child({ind}) > dl > dd.star > dl > dd:nth-child(4) > div > a > span.num').text\n",
    "            rating_critic_num = soup.select_one(f'#content > div.article > div > div.lst_wrap > ul > li:nth-child({ind}) > dl > dd.star > dl > dd:nth-child(4) > div > a > span.num2 > em').text\n",
    "        except:\n",
    "            rating_critic = '0'\n",
    "            rating_critic_num = '0'\n",
    "        current_movie.append([movie_title,movie_d_day,rating_viewer,count_viewer,d,b,rating_critic,rating_critic_num])\n",
    "    \n",
    "    return current_movie"
   ]
  },
  {
   "cell_type": "code",
   "execution_count": 249,
   "id": "7745851f",
   "metadata": {},
   "outputs": [],
   "source": [
    "def save_csv(data,filename):\n",
    "    import csv\n",
    "\n",
    "    with open(f'data/{filename}.csv', 'w') as csvfile:\n",
    "        spamwriter = csv.writer(csvfile)\n",
    "        spamwriter.writerow(['영화제목','개봉일','별점','관객수','감독','배우','비평가_평점','비평가수'])\n",
    "        for idx in range(len(data)):\n",
    "            spamwriter.writerow([data[idx][0],\n",
    "                                 data[idx][1],\n",
    "                                 data[idx][2],\n",
    "                                 data[idx][3],\n",
    "                                 data[idx][4],\n",
    "                                 data[idx][5],\n",
    "                                 data[idx][6],\n",
    "                                 data[idx][7]])\n",
    "    return print(f'{filename}.csv 파일로 저장 완료했습니다!')"
   ]
  },
  {
   "cell_type": "markdown",
   "id": "9d4801af",
   "metadata": {},
   "source": [
    "## 영화랭킹의 5개 날짜 페이지 파싱한 결과 csv 저장"
   ]
  },
  {
   "cell_type": "code",
   "execution_count": 252,
   "id": "07399332",
   "metadata": {},
   "outputs": [],
   "source": [
    "import requests\n",
    "from bs4 import BeautifulSoup\n",
    "url = 'https://movie.naver.com/movie/running/current.naver'\n",
    "response = requests.get(url)\n",
    "html = response.text\n",
    "soup = BeautifulSoup(html, 'html.parser')"
   ]
  },
  {
   "cell_type": "code",
   "execution_count": 258,
   "id": "f9d253d2",
   "metadata": {},
   "outputs": [
    {
     "data": {
      "text/plain": [
       "'올빼미'"
      ]
     },
     "execution_count": 258,
     "metadata": {},
     "output_type": "execute_result"
    }
   ],
   "source": [
    "soup.select_one('#content > div.article > div > div.lst_wrap > ul > li:nth-child(1) > dl > dt > a').text"
   ]
  },
  {
   "cell_type": "code",
   "execution_count": 257,
   "id": "89c6ffd7",
   "metadata": {},
   "outputs": [
    {
     "data": {
      "text/plain": [
       "'스트레인지 월드'"
      ]
     },
     "execution_count": 257,
     "metadata": {},
     "output_type": "execute_result"
    }
   ],
   "source": [
    "soup.select_one('#content > div.article > div > div.lst_wrap > ul > li:nth-child(2) > dl > dt > a').text"
   ]
  },
  {
   "cell_type": "code",
   "execution_count": 264,
   "id": "da730e94",
   "metadata": {
    "scrolled": true
   },
   "outputs": [
    {
     "name": "stdout",
     "output_type": "stream",
     "text": [
      "9.35\n",
      "9.52\n",
      "9.50\n",
      "9.33\n",
      "9.20\n",
      "9.00\n",
      "10.00\n",
      "0.00\n",
      "7.15\n",
      "7.63\n",
      "8.00\n",
      "7.65\n",
      "6.40\n",
      "8.10\n",
      "6.28\n",
      "8.44\n",
      "8.69\n",
      "7.98\n",
      "8.31\n",
      "7.33\n",
      "5.33\n",
      "7.13\n",
      "8.52\n",
      "6.96\n",
      "8.45\n",
      "8.84\n",
      "6.33\n",
      "8.45\n",
      "8.20\n",
      "7.00\n",
      "7.48\n",
      "9.49\n",
      "6.97\n",
      "5.33\n",
      "7.75\n",
      "8.77\n",
      "8.38\n",
      "8.45\n",
      "7.87\n",
      "7.30\n",
      "7.81\n",
      "8.52\n",
      "7.07\n",
      "8.19\n",
      "8.84\n",
      "9.19\n",
      "8.13\n",
      "5.00\n",
      "7.60\n",
      "7.91\n",
      "8.23\n",
      "6.46\n",
      "8.10\n",
      "6.23\n",
      "7.64\n",
      "8.73\n",
      "6.43\n",
      "8.59\n",
      "7.97\n",
      "7.16\n",
      "9.30\n",
      "9.22\n",
      "6.00\n",
      "8.14\n",
      "8.40\n",
      "8.31\n",
      "9.15\n",
      "8.45\n",
      "9.42\n",
      "7.75\n",
      "8.58\n",
      "9.44\n",
      "8.02\n",
      "7.56\n",
      "8.81\n",
      "8.30\n",
      "8.68\n",
      "9.76\n",
      "8.45\n",
      "8.96\n",
      "6.36\n",
      "7.64\n",
      "7.67\n",
      "9.35\n",
      "9.24\n",
      "6.20\n",
      "7.53\n",
      "9.38\n",
      "8.80\n",
      "8.00\n",
      "7.23\n",
      "8.59\n",
      "8.31\n",
      "8.81\n",
      "7.97\n",
      "9.13\n",
      "8.08\n",
      "8.63\n",
      "9.05\n"
     ]
    }
   ],
   "source": [
    "for ind in range(1,100):\n",
    "    print(soup.select_one(f'#content > div.article > div > div.lst_wrap > ul > li:nth-child({ind}) > dl > dd.star > dl > dd:nth-child(2) > div > a > span.num').text)"
   ]
  },
  {
   "cell_type": "code",
   "execution_count": 263,
   "id": "eb60b6de",
   "metadata": {},
   "outputs": [
    {
     "data": {
      "text/plain": [
       "'9.35'"
      ]
     },
     "execution_count": 263,
     "metadata": {},
     "output_type": "execute_result"
    }
   ],
   "source": [
    "soup.select_one('#content > div.article > div > div.lst_wrap > ul > li:nth-child(1) > dl > dd.star > dl > dd:nth-child(2) > div > a > span.num').text"
   ]
  },
  {
   "cell_type": "code",
   "execution_count": null,
   "id": "eef4b402",
   "metadata": {},
   "outputs": [],
   "source": [
    "soup.select_one('#content > div.article > div > div.lst_wrap > ul > li:nth-child(2) > dl > dd.star > dl > dd > div > a > span.num').text"
   ]
  },
  {
   "cell_type": "code",
   "execution_count": 266,
   "id": "cea58f6a",
   "metadata": {},
   "outputs": [],
   "source": [
    "import pandas as pd\n",
    "a = pd.read_csv('data/movie_ranking.csv')"
   ]
  },
  {
   "cell_type": "code",
   "execution_count": 267,
   "id": "6abcdd29",
   "metadata": {},
   "outputs": [
    {
     "data": {
      "text/html": [
       "<div>\n",
       "<style scoped>\n",
       "    .dataframe tbody tr th:only-of-type {\n",
       "        vertical-align: middle;\n",
       "    }\n",
       "\n",
       "    .dataframe tbody tr th {\n",
       "        vertical-align: top;\n",
       "    }\n",
       "\n",
       "    .dataframe thead th {\n",
       "        text-align: right;\n",
       "    }\n",
       "</style>\n",
       "<table border=\"1\" class=\"dataframe\">\n",
       "  <thead>\n",
       "    <tr style=\"text-align: right;\">\n",
       "      <th></th>\n",
       "      <th>영화제목</th>\n",
       "      <th>개봉일</th>\n",
       "      <th>별점</th>\n",
       "      <th>관객수</th>\n",
       "      <th>감독</th>\n",
       "      <th>배우</th>\n",
       "      <th>비평가_평점</th>\n",
       "      <th>비평가수</th>\n",
       "    </tr>\n",
       "  </thead>\n",
       "  <tbody>\n",
       "    <tr>\n",
       "      <th>0</th>\n",
       "      <td>올빼미</td>\n",
       "      <td>2022.11.17</td>\n",
       "      <td>9.38</td>\n",
       "      <td>101</td>\n",
       "      <td>안태진</td>\n",
       "      <td>['류준열', '유해진']</td>\n",
       "      <td>6.50</td>\n",
       "      <td>4</td>\n",
       "    </tr>\n",
       "    <tr>\n",
       "      <th>1</th>\n",
       "      <td>스트레인지 월드</td>\n",
       "      <td>2022.11.17</td>\n",
       "      <td>10.00</td>\n",
       "      <td>5</td>\n",
       "      <td>['퀴 응우옌']</td>\n",
       "      <td>['제이크 질렌할', '루시 리우', '데니스 퀘이드', '가브리엘 유니온']</td>\n",
       "      <td>0.00</td>\n",
       "      <td>0</td>\n",
       "    </tr>\n",
       "    <tr>\n",
       "      <th>2</th>\n",
       "      <td>아마겟돈 타임</td>\n",
       "      <td>2022.11.17</td>\n",
       "      <td>9.60</td>\n",
       "      <td>10</td>\n",
       "      <td>제임스 그레이</td>\n",
       "      <td>['앤 해서웨이', '제레미 스트롱', '뱅크스 레페타', '제일린 웹', '안소니...</td>\n",
       "      <td>7.67</td>\n",
       "      <td>6</td>\n",
       "    </tr>\n",
       "    <tr>\n",
       "      <th>3</th>\n",
       "      <td>유포자들</td>\n",
       "      <td>2022.11.17</td>\n",
       "      <td>8.40</td>\n",
       "      <td>5</td>\n",
       "      <td>홍석구</td>\n",
       "      <td>['박성훈', '김소은', '송진우', '박주희', '임나영']</td>\n",
       "      <td>4.00</td>\n",
       "      <td>1</td>\n",
       "    </tr>\n",
       "    <tr>\n",
       "      <th>4</th>\n",
       "      <td>놈이 우리 안에 있다</td>\n",
       "      <td>2022.11.17</td>\n",
       "      <td>10.00</td>\n",
       "      <td>1</td>\n",
       "      <td>조쉬 루벤</td>\n",
       "      <td>['샘 리차드슨', '밀라나 바인트루브', '조지 바실', '사라 번즈', '마이클...</td>\n",
       "      <td>0.00</td>\n",
       "      <td>0</td>\n",
       "    </tr>\n",
       "    <tr>\n",
       "      <th>...</th>\n",
       "      <td>...</td>\n",
       "      <td>...</td>\n",
       "      <td>...</td>\n",
       "      <td>...</td>\n",
       "      <td>...</td>\n",
       "      <td>...</td>\n",
       "      <td>...</td>\n",
       "      <td>...</td>\n",
       "    </tr>\n",
       "    <tr>\n",
       "      <th>135</th>\n",
       "      <td>금지된 장난</td>\n",
       "      <td>2022.11.17</td>\n",
       "      <td>8.88</td>\n",
       "      <td>113</td>\n",
       "      <td>르네 클레망</td>\n",
       "      <td>['조르주 푸줄리', '브리지트 포시']</td>\n",
       "      <td>0.00</td>\n",
       "      <td>0</td>\n",
       "    </tr>\n",
       "    <tr>\n",
       "      <th>136</th>\n",
       "      <td>라붐 2</td>\n",
       "      <td>2022.11.17</td>\n",
       "      <td>8.65</td>\n",
       "      <td>103</td>\n",
       "      <td>클로드 피노토</td>\n",
       "      <td>['소피 마르소', '브리지트 포시', '클로드 브라소']</td>\n",
       "      <td>0.00</td>\n",
       "      <td>0</td>\n",
       "    </tr>\n",
       "    <tr>\n",
       "      <th>137</th>\n",
       "      <td>초대받은 사람들</td>\n",
       "      <td>2022.11.17</td>\n",
       "      <td>7.00</td>\n",
       "      <td>3</td>\n",
       "      <td>최하원</td>\n",
       "      <td>['이영하', '원미경', '박암', '남성훈']</td>\n",
       "      <td>0.00</td>\n",
       "      <td>0</td>\n",
       "    </tr>\n",
       "    <tr>\n",
       "      <th>138</th>\n",
       "      <td>룻 이야기</td>\n",
       "      <td>2022.11.17</td>\n",
       "      <td>10.00</td>\n",
       "      <td>2</td>\n",
       "      <td>헨리 코스터</td>\n",
       "      <td>['스튜어트 휘트먼', '톰 트라이언', '페기 우드', '비브카 린드포스']</td>\n",
       "      <td>0.00</td>\n",
       "      <td>0</td>\n",
       "    </tr>\n",
       "    <tr>\n",
       "      <th>139</th>\n",
       "      <td>가스등</td>\n",
       "      <td>2022.11.17</td>\n",
       "      <td>8.59</td>\n",
       "      <td>64</td>\n",
       "      <td>조지 큐커</td>\n",
       "      <td>['샤를르 보와이에', '잉그리드 버그만', '조셉 거튼']</td>\n",
       "      <td>0.00</td>\n",
       "      <td>0</td>\n",
       "    </tr>\n",
       "  </tbody>\n",
       "</table>\n",
       "<p>140 rows × 8 columns</p>\n",
       "</div>"
      ],
      "text/plain": [
       "            영화제목         개봉일     별점  관객수         감독  \\\n",
       "0            올빼미  2022.11.17   9.38  101        안태진   \n",
       "1       스트레인지 월드  2022.11.17  10.00    5  ['퀴 응우옌']   \n",
       "2        아마겟돈 타임  2022.11.17   9.60   10    제임스 그레이   \n",
       "3           유포자들  2022.11.17   8.40    5        홍석구   \n",
       "4    놈이 우리 안에 있다  2022.11.17  10.00    1      조쉬 루벤   \n",
       "..           ...         ...    ...  ...        ...   \n",
       "135       금지된 장난  2022.11.17   8.88  113     르네 클레망   \n",
       "136         라붐 2  2022.11.17   8.65  103    클로드 피노토   \n",
       "137     초대받은 사람들  2022.11.17   7.00    3        최하원   \n",
       "138        룻 이야기  2022.11.17  10.00    2     헨리 코스터   \n",
       "139         가스등   2022.11.17   8.59   64      조지 큐커   \n",
       "\n",
       "                                                    배우  비평가_평점  비평가수  \n",
       "0                                       ['류준열', '유해진']    6.50     4  \n",
       "1          ['제이크 질렌할', '루시 리우', '데니스 퀘이드', '가브리엘 유니온']    0.00     0  \n",
       "2    ['앤 해서웨이', '제레미 스트롱', '뱅크스 레페타', '제일린 웹', '안소니...    7.67     6  \n",
       "3                  ['박성훈', '김소은', '송진우', '박주희', '임나영']    4.00     1  \n",
       "4    ['샘 리차드슨', '밀라나 바인트루브', '조지 바실', '사라 번즈', '마이클...    0.00     0  \n",
       "..                                                 ...     ...   ...  \n",
       "135                             ['조르주 푸줄리', '브리지트 포시']    0.00     0  \n",
       "136                   ['소피 마르소', '브리지트 포시', '클로드 브라소']    0.00     0  \n",
       "137                        ['이영하', '원미경', '박암', '남성훈']    0.00     0  \n",
       "138        ['스튜어트 휘트먼', '톰 트라이언', '페기 우드', '비브카 린드포스']    0.00     0  \n",
       "139                  ['샤를르 보와이에', '잉그리드 버그만', '조셉 거튼']    0.00     0  \n",
       "\n",
       "[140 rows x 8 columns]"
      ]
     },
     "execution_count": 267,
     "metadata": {},
     "output_type": "execute_result"
    }
   ],
   "source": [
    "a['영화제목'][0] = "
   ]
  },
  {
   "cell_type": "code",
   "execution_count": null,
   "id": "49c6e176",
   "metadata": {},
   "outputs": [],
   "source": []
  }
 ],
 "metadata": {
  "kernelspec": {
   "display_name": "Python 3 (ipykernel)",
   "language": "python",
   "name": "python3"
  },
  "language_info": {
   "codemirror_mode": {
    "name": "ipython",
    "version": 3
   },
   "file_extension": ".py",
   "mimetype": "text/x-python",
   "name": "python",
   "nbconvert_exporter": "python",
   "pygments_lexer": "ipython3",
   "version": "3.9.13"
  }
 },
 "nbformat": 4,
 "nbformat_minor": 5
}
